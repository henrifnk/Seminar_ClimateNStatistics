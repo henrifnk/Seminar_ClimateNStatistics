{
  "cells": [
    {
      "cell_type": "code",
      "execution_count": 1,
      "metadata": {
        "id": "xUT_hlZ8CeW8"
      },
      "outputs": [],
      "source": [
        "import lightning.pytorch as pl\n",
        "from lightning.pytorch.callbacks import EarlyStopping, LearningRateMonitor\n",
        "from lightning.pytorch.tuner import Tuner\n",
        "from pytorch_forecasting import TimeSeriesDataSet,AutoRegressiveBaseModelWithCovariates\n",
        "from pytorch_forecasting.metrics import MAE,RMSE,SMAPE\n",
        "from pytorch_forecasting.metrics import MultiHorizonMetric\n",
        "import os\n",
        "import pandas as pd # type: ignore\n",
        "import matplotlib.pyplot as plt # type: ignore\n",
        "import numpy as np # type: ignore\n",
        "import torch\n",
        "from torch import nn\n",
        "from torch.utils.data import Dataset, DataLoader\n",
        "from pytorch_forecasting.models.nn import LSTM\n",
        "from typing import Dict,Tuple,List\n",
        "from sklearn.preprocessing import StandardScaler\n",
        "import random"
      ]
    },
    {
      "cell_type": "code",
      "execution_count": 2,
      "metadata": {
        "colab": {
          "base_uri": "https://localhost:8080/",
          "height": 598
        },
        "id": "2dLYxPM_CeW-",
        "outputId": "4807c080-ad39-42b2-fdbd-3299b4881e9e"
      },
      "outputs": [
        {
          "data": {
            "text/html": [
              "<div>\n",
              "<style scoped>\n",
              "    .dataframe tbody tr th:only-of-type {\n",
              "        vertical-align: middle;\n",
              "    }\n",
              "\n",
              "    .dataframe tbody tr th {\n",
              "        vertical-align: top;\n",
              "    }\n",
              "\n",
              "    .dataframe thead th {\n",
              "        text-align: right;\n",
              "    }\n",
              "</style>\n",
              "<table border=\"1\" class=\"dataframe\">\n",
              "  <thead>\n",
              "    <tr style=\"text-align: right;\">\n",
              "      <th>measurement_location</th>\n",
              "      <th>Datum</th>\n",
              "      <th>15202300</th>\n",
              "      <th>15205501</th>\n",
              "      <th>15207507</th>\n",
              "      <th>15210206</th>\n",
              "      <th>15212008</th>\n",
              "      <th>15212700</th>\n",
              "      <th>15213500</th>\n",
              "      <th>15214003</th>\n",
              "      <th>15214604</th>\n",
              "      <th>15216009</th>\n",
              "      <th>15217908</th>\n",
              "      <th>15221009</th>\n",
              "      <th>15228008</th>\n",
              "      <th>15241006</th>\n",
              "      <th>15242304</th>\n",
              "      <th>15243001</th>\n",
              "      <th>15246000</th>\n",
              "      <th>15247002</th>\n",
              "      <th>15247501</th>\n",
              "    </tr>\n",
              "  </thead>\n",
              "  <tbody>\n",
              "    <tr>\n",
              "      <th>0</th>\n",
              "      <td>2014-01-01</td>\n",
              "      <td>14.4</td>\n",
              "      <td>17.2</td>\n",
              "      <td>19.8</td>\n",
              "      <td>3.87</td>\n",
              "      <td>8.66</td>\n",
              "      <td>9.66</td>\n",
              "      <td>0.433</td>\n",
              "      <td>2.35</td>\n",
              "      <td>0.207</td>\n",
              "      <td>1.66</td>\n",
              "      <td>0.921</td>\n",
              "      <td>0.671</td>\n",
              "      <td>2.59</td>\n",
              "      <td>0.253</td>\n",
              "      <td>0.870</td>\n",
              "      <td>1.26</td>\n",
              "      <td>2.35</td>\n",
              "      <td>0.355</td>\n",
              "      <td>0.120</td>\n",
              "    </tr>\n",
              "    <tr>\n",
              "      <th>1</th>\n",
              "      <td>2014-01-02</td>\n",
              "      <td>14.4</td>\n",
              "      <td>17.0</td>\n",
              "      <td>19.3</td>\n",
              "      <td>3.78</td>\n",
              "      <td>8.52</td>\n",
              "      <td>9.46</td>\n",
              "      <td>0.435</td>\n",
              "      <td>2.51</td>\n",
              "      <td>0.204</td>\n",
              "      <td>1.62</td>\n",
              "      <td>0.909</td>\n",
              "      <td>0.664</td>\n",
              "      <td>2.57</td>\n",
              "      <td>0.253</td>\n",
              "      <td>0.870</td>\n",
              "      <td>1.23</td>\n",
              "      <td>2.32</td>\n",
              "      <td>0.361</td>\n",
              "      <td>0.131</td>\n",
              "    </tr>\n",
              "    <tr>\n",
              "      <th>2</th>\n",
              "      <td>2014-01-03</td>\n",
              "      <td>14.1</td>\n",
              "      <td>16.6</td>\n",
              "      <td>19.3</td>\n",
              "      <td>3.78</td>\n",
              "      <td>8.40</td>\n",
              "      <td>9.42</td>\n",
              "      <td>0.429</td>\n",
              "      <td>2.61</td>\n",
              "      <td>0.201</td>\n",
              "      <td>1.60</td>\n",
              "      <td>0.907</td>\n",
              "      <td>0.641</td>\n",
              "      <td>2.58</td>\n",
              "      <td>0.253</td>\n",
              "      <td>0.871</td>\n",
              "      <td>1.23</td>\n",
              "      <td>2.30</td>\n",
              "      <td>0.362</td>\n",
              "      <td>0.130</td>\n",
              "    </tr>\n",
              "    <tr>\n",
              "      <th>3</th>\n",
              "      <td>2014-01-04</td>\n",
              "      <td>14.2</td>\n",
              "      <td>16.6</td>\n",
              "      <td>19.3</td>\n",
              "      <td>3.84</td>\n",
              "      <td>8.57</td>\n",
              "      <td>9.50</td>\n",
              "      <td>0.445</td>\n",
              "      <td>2.49</td>\n",
              "      <td>0.214</td>\n",
              "      <td>1.64</td>\n",
              "      <td>0.935</td>\n",
              "      <td>0.642</td>\n",
              "      <td>2.60</td>\n",
              "      <td>0.256</td>\n",
              "      <td>0.929</td>\n",
              "      <td>1.26</td>\n",
              "      <td>2.44</td>\n",
              "      <td>0.382</td>\n",
              "      <td>0.127</td>\n",
              "    </tr>\n",
              "    <tr>\n",
              "      <th>4</th>\n",
              "      <td>2014-01-05</td>\n",
              "      <td>16.4</td>\n",
              "      <td>18.4</td>\n",
              "      <td>20.6</td>\n",
              "      <td>4.36</td>\n",
              "      <td>9.94</td>\n",
              "      <td>10.80</td>\n",
              "      <td>0.545</td>\n",
              "      <td>2.86</td>\n",
              "      <td>0.267</td>\n",
              "      <td>1.80</td>\n",
              "      <td>1.130</td>\n",
              "      <td>0.690</td>\n",
              "      <td>3.10</td>\n",
              "      <td>0.300</td>\n",
              "      <td>1.150</td>\n",
              "      <td>1.61</td>\n",
              "      <td>3.14</td>\n",
              "      <td>0.561</td>\n",
              "      <td>0.175</td>\n",
              "    </tr>\n",
              "    <tr>\n",
              "      <th>...</th>\n",
              "      <td>...</td>\n",
              "      <td>...</td>\n",
              "      <td>...</td>\n",
              "      <td>...</td>\n",
              "      <td>...</td>\n",
              "      <td>...</td>\n",
              "      <td>...</td>\n",
              "      <td>...</td>\n",
              "      <td>...</td>\n",
              "      <td>...</td>\n",
              "      <td>...</td>\n",
              "      <td>...</td>\n",
              "      <td>...</td>\n",
              "      <td>...</td>\n",
              "      <td>...</td>\n",
              "      <td>...</td>\n",
              "      <td>...</td>\n",
              "      <td>...</td>\n",
              "      <td>...</td>\n",
              "      <td>...</td>\n",
              "    </tr>\n",
              "    <tr>\n",
              "      <th>3648</th>\n",
              "      <td>2023-12-28</td>\n",
              "      <td>79.7</td>\n",
              "      <td>102.0</td>\n",
              "      <td>120.0</td>\n",
              "      <td>28.50</td>\n",
              "      <td>46.20</td>\n",
              "      <td>57.10</td>\n",
              "      <td>1.900</td>\n",
              "      <td>17.30</td>\n",
              "      <td>0.721</td>\n",
              "      <td>10.30</td>\n",
              "      <td>6.070</td>\n",
              "      <td>3.920</td>\n",
              "      <td>12.20</td>\n",
              "      <td>0.786</td>\n",
              "      <td>3.270</td>\n",
              "      <td>9.05</td>\n",
              "      <td>12.50</td>\n",
              "      <td>2.020</td>\n",
              "      <td>0.741</td>\n",
              "    </tr>\n",
              "    <tr>\n",
              "      <th>3649</th>\n",
              "      <td>2023-12-29</td>\n",
              "      <td>71.4</td>\n",
              "      <td>82.5</td>\n",
              "      <td>97.7</td>\n",
              "      <td>26.00</td>\n",
              "      <td>41.90</td>\n",
              "      <td>51.30</td>\n",
              "      <td>1.710</td>\n",
              "      <td>15.60</td>\n",
              "      <td>0.801</td>\n",
              "      <td>9.85</td>\n",
              "      <td>5.480</td>\n",
              "      <td>3.470</td>\n",
              "      <td>10.90</td>\n",
              "      <td>0.653</td>\n",
              "      <td>2.890</td>\n",
              "      <td>7.23</td>\n",
              "      <td>9.97</td>\n",
              "      <td>1.750</td>\n",
              "      <td>0.619</td>\n",
              "    </tr>\n",
              "    <tr>\n",
              "      <th>3650</th>\n",
              "      <td>2023-12-30</td>\n",
              "      <td>64.0</td>\n",
              "      <td>71.4</td>\n",
              "      <td>86.3</td>\n",
              "      <td>24.40</td>\n",
              "      <td>38.60</td>\n",
              "      <td>46.90</td>\n",
              "      <td>1.530</td>\n",
              "      <td>14.70</td>\n",
              "      <td>0.835</td>\n",
              "      <td>9.40</td>\n",
              "      <td>4.900</td>\n",
              "      <td>3.100</td>\n",
              "      <td>9.77</td>\n",
              "      <td>0.557</td>\n",
              "      <td>2.550</td>\n",
              "      <td>5.92</td>\n",
              "      <td>8.54</td>\n",
              "      <td>1.470</td>\n",
              "      <td>0.514</td>\n",
              "    </tr>\n",
              "    <tr>\n",
              "      <th>3651</th>\n",
              "      <td>2023-12-31</td>\n",
              "      <td>59.1</td>\n",
              "      <td>63.0</td>\n",
              "      <td>77.3</td>\n",
              "      <td>22.20</td>\n",
              "      <td>35.30</td>\n",
              "      <td>42.50</td>\n",
              "      <td>1.410</td>\n",
              "      <td>13.10</td>\n",
              "      <td>0.669</td>\n",
              "      <td>8.83</td>\n",
              "      <td>4.480</td>\n",
              "      <td>2.670</td>\n",
              "      <td>8.92</td>\n",
              "      <td>0.492</td>\n",
              "      <td>2.330</td>\n",
              "      <td>5.40</td>\n",
              "      <td>7.66</td>\n",
              "      <td>1.290</td>\n",
              "      <td>0.458</td>\n",
              "    </tr>\n",
              "    <tr>\n",
              "      <th>3652</th>\n",
              "      <td>2024-01-01</td>\n",
              "      <td>56.0</td>\n",
              "      <td>58.5</td>\n",
              "      <td>71.9</td>\n",
              "      <td>20.70</td>\n",
              "      <td>33.30</td>\n",
              "      <td>40.30</td>\n",
              "      <td>1.420</td>\n",
              "      <td>12.10</td>\n",
              "      <td>0.565</td>\n",
              "      <td>8.57</td>\n",
              "      <td>4.540</td>\n",
              "      <td>2.390</td>\n",
              "      <td>8.46</td>\n",
              "      <td>0.457</td>\n",
              "      <td>2.250</td>\n",
              "      <td>6.30</td>\n",
              "      <td>8.20</td>\n",
              "      <td>1.260</td>\n",
              "      <td>0.414</td>\n",
              "    </tr>\n",
              "  </tbody>\n",
              "</table>\n",
              "<p>3653 rows × 20 columns</p>\n",
              "</div>"
            ],
            "text/plain": [
              "measurement_location       Datum  15202300  15205501  15207507  15210206  \\\n",
              "0                     2014-01-01      14.4      17.2      19.8      3.87   \n",
              "1                     2014-01-02      14.4      17.0      19.3      3.78   \n",
              "2                     2014-01-03      14.1      16.6      19.3      3.78   \n",
              "3                     2014-01-04      14.2      16.6      19.3      3.84   \n",
              "4                     2014-01-05      16.4      18.4      20.6      4.36   \n",
              "...                          ...       ...       ...       ...       ...   \n",
              "3648                  2023-12-28      79.7     102.0     120.0     28.50   \n",
              "3649                  2023-12-29      71.4      82.5      97.7     26.00   \n",
              "3650                  2023-12-30      64.0      71.4      86.3     24.40   \n",
              "3651                  2023-12-31      59.1      63.0      77.3     22.20   \n",
              "3652                  2024-01-01      56.0      58.5      71.9     20.70   \n",
              "\n",
              "measurement_location  15212008  15212700  15213500  15214003  15214604  \\\n",
              "0                         8.66      9.66     0.433      2.35     0.207   \n",
              "1                         8.52      9.46     0.435      2.51     0.204   \n",
              "2                         8.40      9.42     0.429      2.61     0.201   \n",
              "3                         8.57      9.50     0.445      2.49     0.214   \n",
              "4                         9.94     10.80     0.545      2.86     0.267   \n",
              "...                        ...       ...       ...       ...       ...   \n",
              "3648                     46.20     57.10     1.900     17.30     0.721   \n",
              "3649                     41.90     51.30     1.710     15.60     0.801   \n",
              "3650                     38.60     46.90     1.530     14.70     0.835   \n",
              "3651                     35.30     42.50     1.410     13.10     0.669   \n",
              "3652                     33.30     40.30     1.420     12.10     0.565   \n",
              "\n",
              "measurement_location  15216009  15217908  15221009  15228008  15241006  \\\n",
              "0                         1.66     0.921     0.671      2.59     0.253   \n",
              "1                         1.62     0.909     0.664      2.57     0.253   \n",
              "2                         1.60     0.907     0.641      2.58     0.253   \n",
              "3                         1.64     0.935     0.642      2.60     0.256   \n",
              "4                         1.80     1.130     0.690      3.10     0.300   \n",
              "...                        ...       ...       ...       ...       ...   \n",
              "3648                     10.30     6.070     3.920     12.20     0.786   \n",
              "3649                      9.85     5.480     3.470     10.90     0.653   \n",
              "3650                      9.40     4.900     3.100      9.77     0.557   \n",
              "3651                      8.83     4.480     2.670      8.92     0.492   \n",
              "3652                      8.57     4.540     2.390      8.46     0.457   \n",
              "\n",
              "measurement_location  15242304  15243001  15246000  15247002  15247501  \n",
              "0                        0.870      1.26      2.35     0.355     0.120  \n",
              "1                        0.870      1.23      2.32     0.361     0.131  \n",
              "2                        0.871      1.23      2.30     0.362     0.130  \n",
              "3                        0.929      1.26      2.44     0.382     0.127  \n",
              "4                        1.150      1.61      3.14     0.561     0.175  \n",
              "...                        ...       ...       ...       ...       ...  \n",
              "3648                     3.270      9.05     12.50     2.020     0.741  \n",
              "3649                     2.890      7.23      9.97     1.750     0.619  \n",
              "3650                     2.550      5.92      8.54     1.470     0.514  \n",
              "3651                     2.330      5.40      7.66     1.290     0.458  \n",
              "3652                     2.250      6.30      8.20     1.260     0.414  \n",
              "\n",
              "[3653 rows x 20 columns]"
            ]
          },
          "execution_count": 2,
          "metadata": {},
          "output_type": "execute_result"
        }
      ],
      "source": [
        "stream = pd.read_pickle(os.path.join('..','data','processed','stream_processed.pkl'),compression= 'zip')\n",
        "meteo = pd.read_pickle(os.path.join('..','data','processed','meteo_processed.pkl'),compression = 'zip')\n",
        "stream"
      ]
    },
    {
      "cell_type": "code",
      "execution_count": 3,
      "metadata": {},
      "outputs": [
        {
          "data": {
            "text/plain": [
              "[<matplotlib.lines.Line2D at 0x1765f90f0>]"
            ]
          },
          "execution_count": 3,
          "metadata": {},
          "output_type": "execute_result"
        },
        {
          "data": {
            "image/png": "[encoded data removed]",
            "text/plain": [
              "<Figure size 2000x1400 with 1 Axes>"
            ]
          },
          "metadata": {},
          "output_type": "display_data"
        }
      ],
      "source": [
        "stream['15207507_smooth'] = stream['15207507'].rolling(window=3).mean()\n",
        "\n",
        "plt.figure(figsize=(20, 14))\n",
        "\n",
        "plt.plot(stream['15207507'].iloc[-550:])\n",
        "plt.plot(stream['15207507_smooth'].iloc[-550:])"
      ]
    },
    {
      "cell_type": "code",
      "execution_count": 4,
      "metadata": {
        "colab": {
          "base_uri": "https://localhost:8080/"
        },
        "id": "3wilvKC0CeW_",
        "outputId": "a436a704-b7fc-4f48-880a-caebb37890bb"
      },
      "outputs": [
        {
          "data": {
            "text/html": [
              "<div>\n",
              "<style scoped>\n",
              "    .dataframe tbody tr th:only-of-type {\n",
              "        vertical-align: middle;\n",
              "    }\n",
              "\n",
              "    .dataframe tbody tr th {\n",
              "        vertical-align: top;\n",
              "    }\n",
              "\n",
              "    .dataframe thead th {\n",
              "        text-align: right;\n",
              "    }\n",
              "</style>\n",
              "<table border=\"1\" class=\"dataframe\">\n",
              "  <thead>\n",
              "    <tr style=\"text-align: right;\">\n",
              "      <th></th>\n",
              "      <th>15202300</th>\n",
              "      <th>15205501</th>\n",
              "      <th>15207507</th>\n",
              "      <th>15210206</th>\n",
              "      <th>15212008</th>\n",
              "      <th>15212700</th>\n",
              "      <th>15213500</th>\n",
              "      <th>15214003</th>\n",
              "      <th>15214604</th>\n",
              "      <th>15216009</th>\n",
              "      <th>...</th>\n",
              "      <th>tp_8600</th>\n",
              "      <th>tp_8711</th>\n",
              "      <th>tp_8712</th>\n",
              "      <th>tp_8720</th>\n",
              "      <th>tp_8731</th>\n",
              "      <th>tp_8732</th>\n",
              "      <th>tp_8800</th>\n",
              "      <th>tp_8900</th>\n",
              "      <th>groups</th>\n",
              "      <th>date</th>\n",
              "    </tr>\n",
              "  </thead>\n",
              "  <tbody>\n",
              "    <tr>\n",
              "      <th>2</th>\n",
              "      <td>14.1</td>\n",
              "      <td>16.6</td>\n",
              "      <td>19.3</td>\n",
              "      <td>3.78</td>\n",
              "      <td>8.40</td>\n",
              "      <td>9.42</td>\n",
              "      <td>0.429</td>\n",
              "      <td>2.61</td>\n",
              "      <td>0.201</td>\n",
              "      <td>1.60</td>\n",
              "      <td>...</td>\n",
              "      <td>9.848191e-07</td>\n",
              "      <td>0.000001</td>\n",
              "      <td>9.627160e-07</td>\n",
              "      <td>3.152130e-07</td>\n",
              "      <td>6.812810e-07</td>\n",
              "      <td>1.552123e-07</td>\n",
              "      <td>2.603002e-07</td>\n",
              "      <td>6.997454e-07</td>\n",
              "      <td>0</td>\n",
              "      <td>2</td>\n",
              "    </tr>\n",
              "    <tr>\n",
              "      <th>3</th>\n",
              "      <td>14.2</td>\n",
              "      <td>16.6</td>\n",
              "      <td>19.3</td>\n",
              "      <td>3.84</td>\n",
              "      <td>8.57</td>\n",
              "      <td>9.50</td>\n",
              "      <td>0.445</td>\n",
              "      <td>2.49</td>\n",
              "      <td>0.214</td>\n",
              "      <td>1.64</td>\n",
              "      <td>...</td>\n",
              "      <td>2.306176e-04</td>\n",
              "      <td>0.000231</td>\n",
              "      <td>2.262798e-04</td>\n",
              "      <td>1.507445e-04</td>\n",
              "      <td>2.086118e-04</td>\n",
              "      <td>1.238402e-04</td>\n",
              "      <td>1.149645e-04</td>\n",
              "      <td>2.004822e-04</td>\n",
              "      <td>0</td>\n",
              "      <td>3</td>\n",
              "    </tr>\n",
              "    <tr>\n",
              "      <th>4</th>\n",
              "      <td>16.4</td>\n",
              "      <td>18.4</td>\n",
              "      <td>20.6</td>\n",
              "      <td>4.36</td>\n",
              "      <td>9.94</td>\n",
              "      <td>10.80</td>\n",
              "      <td>0.545</td>\n",
              "      <td>2.86</td>\n",
              "      <td>0.267</td>\n",
              "      <td>1.80</td>\n",
              "      <td>...</td>\n",
              "      <td>1.084148e-04</td>\n",
              "      <td>0.000105</td>\n",
              "      <td>1.079762e-04</td>\n",
              "      <td>1.110781e-04</td>\n",
              "      <td>1.135130e-04</td>\n",
              "      <td>1.155993e-04</td>\n",
              "      <td>1.087480e-04</td>\n",
              "      <td>1.086862e-04</td>\n",
              "      <td>0</td>\n",
              "      <td>4</td>\n",
              "    </tr>\n",
              "    <tr>\n",
              "      <th>5</th>\n",
              "      <td>18.3</td>\n",
              "      <td>21.4</td>\n",
              "      <td>24.4</td>\n",
              "      <td>4.38</td>\n",
              "      <td>10.70</td>\n",
              "      <td>11.50</td>\n",
              "      <td>0.524</td>\n",
              "      <td>2.87</td>\n",
              "      <td>0.237</td>\n",
              "      <td>1.78</td>\n",
              "      <td>...</td>\n",
              "      <td>2.335611e-05</td>\n",
              "      <td>0.000031</td>\n",
              "      <td>2.357872e-05</td>\n",
              "      <td>8.976913e-06</td>\n",
              "      <td>1.149020e-05</td>\n",
              "      <td>2.702179e-06</td>\n",
              "      <td>1.805063e-06</td>\n",
              "      <td>9.742068e-06</td>\n",
              "      <td>0</td>\n",
              "      <td>5</td>\n",
              "    </tr>\n",
              "    <tr>\n",
              "      <th>6</th>\n",
              "      <td>15.5</td>\n",
              "      <td>19.6</td>\n",
              "      <td>23.9</td>\n",
              "      <td>4.04</td>\n",
              "      <td>9.61</td>\n",
              "      <td>10.40</td>\n",
              "      <td>0.477</td>\n",
              "      <td>2.60</td>\n",
              "      <td>0.219</td>\n",
              "      <td>1.67</td>\n",
              "      <td>...</td>\n",
              "      <td>1.518327e-05</td>\n",
              "      <td>0.000012</td>\n",
              "      <td>1.410753e-05</td>\n",
              "      <td>4.084133e-06</td>\n",
              "      <td>1.565296e-05</td>\n",
              "      <td>3.595743e-06</td>\n",
              "      <td>2.389897e-06</td>\n",
              "      <td>1.327128e-05</td>\n",
              "      <td>0</td>\n",
              "      <td>6</td>\n",
              "    </tr>\n",
              "    <tr>\n",
              "      <th>...</th>\n",
              "      <td>...</td>\n",
              "      <td>...</td>\n",
              "      <td>...</td>\n",
              "      <td>...</td>\n",
              "      <td>...</td>\n",
              "      <td>...</td>\n",
              "      <td>...</td>\n",
              "      <td>...</td>\n",
              "      <td>...</td>\n",
              "      <td>...</td>\n",
              "      <td>...</td>\n",
              "      <td>...</td>\n",
              "      <td>...</td>\n",
              "      <td>...</td>\n",
              "      <td>...</td>\n",
              "      <td>...</td>\n",
              "      <td>...</td>\n",
              "      <td>...</td>\n",
              "      <td>...</td>\n",
              "      <td>...</td>\n",
              "      <td>...</td>\n",
              "    </tr>\n",
              "    <tr>\n",
              "      <th>3647</th>\n",
              "      <td>95.2</td>\n",
              "      <td>138.0</td>\n",
              "      <td>161.0</td>\n",
              "      <td>32.60</td>\n",
              "      <td>54.00</td>\n",
              "      <td>67.80</td>\n",
              "      <td>2.210</td>\n",
              "      <td>21.50</td>\n",
              "      <td>0.993</td>\n",
              "      <td>9.91</td>\n",
              "      <td>...</td>\n",
              "      <td>1.199765e-05</td>\n",
              "      <td>0.000010</td>\n",
              "      <td>1.123335e-05</td>\n",
              "      <td>4.253323e-06</td>\n",
              "      <td>1.239131e-05</td>\n",
              "      <td>4.485424e-06</td>\n",
              "      <td>8.188290e-06</td>\n",
              "      <td>1.386781e-05</td>\n",
              "      <td>0</td>\n",
              "      <td>3647</td>\n",
              "    </tr>\n",
              "    <tr>\n",
              "      <th>3648</th>\n",
              "      <td>79.7</td>\n",
              "      <td>102.0</td>\n",
              "      <td>120.0</td>\n",
              "      <td>28.50</td>\n",
              "      <td>46.20</td>\n",
              "      <td>57.10</td>\n",
              "      <td>1.900</td>\n",
              "      <td>17.30</td>\n",
              "      <td>0.721</td>\n",
              "      <td>10.30</td>\n",
              "      <td>...</td>\n",
              "      <td>7.186941e-06</td>\n",
              "      <td>0.000008</td>\n",
              "      <td>7.407126e-06</td>\n",
              "      <td>8.299928e-06</td>\n",
              "      <td>6.351444e-06</td>\n",
              "      <td>6.934943e-06</td>\n",
              "      <td>4.598457e-06</td>\n",
              "      <td>5.399495e-06</td>\n",
              "      <td>0</td>\n",
              "      <td>3648</td>\n",
              "    </tr>\n",
              "    <tr>\n",
              "      <th>3649</th>\n",
              "      <td>71.4</td>\n",
              "      <td>82.5</td>\n",
              "      <td>97.7</td>\n",
              "      <td>26.00</td>\n",
              "      <td>41.90</td>\n",
              "      <td>51.30</td>\n",
              "      <td>1.710</td>\n",
              "      <td>15.60</td>\n",
              "      <td>0.801</td>\n",
              "      <td>9.85</td>\n",
              "      <td>...</td>\n",
              "      <td>4.738118e-05</td>\n",
              "      <td>0.000046</td>\n",
              "      <td>4.672316e-05</td>\n",
              "      <td>4.066719e-05</td>\n",
              "      <td>4.754517e-05</td>\n",
              "      <td>4.259339e-05</td>\n",
              "      <td>4.157456e-05</td>\n",
              "      <td>4.536385e-05</td>\n",
              "      <td>0</td>\n",
              "      <td>3649</td>\n",
              "    </tr>\n",
              "    <tr>\n",
              "      <th>3650</th>\n",
              "      <td>64.0</td>\n",
              "      <td>71.4</td>\n",
              "      <td>86.3</td>\n",
              "      <td>24.40</td>\n",
              "      <td>38.60</td>\n",
              "      <td>46.90</td>\n",
              "      <td>1.530</td>\n",
              "      <td>14.70</td>\n",
              "      <td>0.835</td>\n",
              "      <td>9.40</td>\n",
              "      <td>...</td>\n",
              "      <td>3.040644e-05</td>\n",
              "      <td>0.000025</td>\n",
              "      <td>2.828757e-05</td>\n",
              "      <td>8.883224e-06</td>\n",
              "      <td>3.148722e-05</td>\n",
              "      <td>9.169190e-06</td>\n",
              "      <td>2.475477e-05</td>\n",
              "      <td>3.975524e-05</td>\n",
              "      <td>0</td>\n",
              "      <td>3650</td>\n",
              "    </tr>\n",
              "    <tr>\n",
              "      <th>3651</th>\n",
              "      <td>59.1</td>\n",
              "      <td>63.0</td>\n",
              "      <td>77.3</td>\n",
              "      <td>22.20</td>\n",
              "      <td>35.30</td>\n",
              "      <td>42.50</td>\n",
              "      <td>1.410</td>\n",
              "      <td>13.10</td>\n",
              "      <td>0.669</td>\n",
              "      <td>8.83</td>\n",
              "      <td>...</td>\n",
              "      <td>7.788529e-05</td>\n",
              "      <td>0.000076</td>\n",
              "      <td>7.839432e-05</td>\n",
              "      <td>9.178094e-05</td>\n",
              "      <td>8.378309e-05</td>\n",
              "      <td>9.496099e-05</td>\n",
              "      <td>8.758489e-05</td>\n",
              "      <td>8.051063e-05</td>\n",
              "      <td>0</td>\n",
              "      <td>3651</td>\n",
              "    </tr>\n",
              "  </tbody>\n",
              "</table>\n",
              "<p>3650 rows × 117 columns</p>\n",
              "</div>"
            ],
            "text/plain": [
              "      15202300  15205501  15207507  15210206  15212008  15212700  15213500  \\\n",
              "2         14.1      16.6      19.3      3.78      8.40      9.42     0.429   \n",
              "3         14.2      16.6      19.3      3.84      8.57      9.50     0.445   \n",
              "4         16.4      18.4      20.6      4.36      9.94     10.80     0.545   \n",
              "5         18.3      21.4      24.4      4.38     10.70     11.50     0.524   \n",
              "6         15.5      19.6      23.9      4.04      9.61     10.40     0.477   \n",
              "...        ...       ...       ...       ...       ...       ...       ...   \n",
              "3647      95.2     138.0     161.0     32.60     54.00     67.80     2.210   \n",
              "3648      79.7     102.0     120.0     28.50     46.20     57.10     1.900   \n",
              "3649      71.4      82.5      97.7     26.00     41.90     51.30     1.710   \n",
              "3650      64.0      71.4      86.3     24.40     38.60     46.90     1.530   \n",
              "3651      59.1      63.0      77.3     22.20     35.30     42.50     1.410   \n",
              "\n",
              "      15214003  15214604  15216009  ...       tp_8600   tp_8711       tp_8712  \\\n",
              "2         2.61     0.201      1.60  ...  9.848191e-07  0.000001  9.627160e-07   \n",
              "3         2.49     0.214      1.64  ...  2.306176e-04  0.000231  2.262798e-04   \n",
              "4         2.86     0.267      1.80  ...  1.084148e-04  0.000105  1.079762e-04   \n",
              "5         2.87     0.237      1.78  ...  2.335611e-05  0.000031  2.357872e-05   \n",
              "6         2.60     0.219      1.67  ...  1.518327e-05  0.000012  1.410753e-05   \n",
              "...        ...       ...       ...  ...           ...       ...           ...   \n",
              "3647     21.50     0.993      9.91  ...  1.199765e-05  0.000010  1.123335e-05   \n",
              "3648     17.30     0.721     10.30  ...  7.186941e-06  0.000008  7.407126e-06   \n",
              "3649     15.60     0.801      9.85  ...  4.738118e-05  0.000046  4.672316e-05   \n",
              "3650     14.70     0.835      9.40  ...  3.040644e-05  0.000025  2.828757e-05   \n",
              "3651     13.10     0.669      8.83  ...  7.788529e-05  0.000076  7.839432e-05   \n",
              "\n",
              "           tp_8720       tp_8731       tp_8732       tp_8800       tp_8900  \\\n",
              "2     3.152130e-07  6.812810e-07  1.552123e-07  2.603002e-07  6.997454e-07   \n",
              "3     1.507445e-04  2.086118e-04  1.238402e-04  1.149645e-04  2.004822e-04   \n",
              "4     1.110781e-04  1.135130e-04  1.155993e-04  1.087480e-04  1.086862e-04   \n",
              "5     8.976913e-06  1.149020e-05  2.702179e-06  1.805063e-06  9.742068e-06   \n",
              "6     4.084133e-06  1.565296e-05  3.595743e-06  2.389897e-06  1.327128e-05   \n",
              "...            ...           ...           ...           ...           ...   \n",
              "3647  4.253323e-06  1.239131e-05  4.485424e-06  8.188290e-06  1.386781e-05   \n",
              "3648  8.299928e-06  6.351444e-06  6.934943e-06  4.598457e-06  5.399495e-06   \n",
              "3649  4.066719e-05  4.754517e-05  4.259339e-05  4.157456e-05  4.536385e-05   \n",
              "3650  8.883224e-06  3.148722e-05  9.169190e-06  2.475477e-05  3.975524e-05   \n",
              "3651  9.178094e-05  8.378309e-05  9.496099e-05  8.758489e-05  8.051063e-05   \n",
              "\n",
              "      groups  date  \n",
              "2          0     2  \n",
              "3          0     3  \n",
              "4          0     4  \n",
              "5          0     5  \n",
              "6          0     6  \n",
              "...      ...   ...  \n",
              "3647       0  3647  \n",
              "3648       0  3648  \n",
              "3649       0  3649  \n",
              "3650       0  3650  \n",
              "3651       0  3651  \n",
              "\n",
              "[3650 rows x 117 columns]"
            ]
          },
          "execution_count": 4,
          "metadata": {},
          "output_type": "execute_result"
        }
      ],
      "source": [
        "stream = stream.iloc[:3652]\n",
        "meteo = meteo.drop(columns = 'date')\n",
        "data = stream.join(meteo).drop(columns = 'Datum').dropna()\n",
        "data['groups'] = 0\n",
        "data['date'] = data.index\n",
        "data"
      ]
    },
    {
      "cell_type": "code",
      "execution_count": 5,
      "metadata": {
        "colab": {
          "base_uri": "https://localhost:8080/",
          "height": 984
        },
        "id": "5geOkRzuCeXA",
        "outputId": "8ef3c954-e3e9-49ef-bb01-c3c85b0edf81"
      },
      "outputs": [
        {
          "data": {
            "text/html": [
              "<div>\n",
              "<style scoped>\n",
              "    .dataframe tbody tr th:only-of-type {\n",
              "        vertical-align: middle;\n",
              "    }\n",
              "\n",
              "    .dataframe tbody tr th {\n",
              "        vertical-align: top;\n",
              "    }\n",
              "\n",
              "    .dataframe thead th {\n",
              "        text-align: right;\n",
              "    }\n",
              "</style>\n",
              "<table border=\"1\" class=\"dataframe\">\n",
              "  <thead>\n",
              "    <tr style=\"text-align: right;\">\n",
              "      <th></th>\n",
              "      <th>15207507</th>\n",
              "      <th>15207507_smooth</th>\n",
              "    </tr>\n",
              "  </thead>\n",
              "  <tbody>\n",
              "    <tr>\n",
              "      <th>2</th>\n",
              "      <td>19.3</td>\n",
              "      <td>19.466667</td>\n",
              "    </tr>\n",
              "    <tr>\n",
              "      <th>3</th>\n",
              "      <td>19.3</td>\n",
              "      <td>19.300000</td>\n",
              "    </tr>\n",
              "    <tr>\n",
              "      <th>4</th>\n",
              "      <td>20.6</td>\n",
              "      <td>19.733333</td>\n",
              "    </tr>\n",
              "    <tr>\n",
              "      <th>5</th>\n",
              "      <td>24.4</td>\n",
              "      <td>21.433333</td>\n",
              "    </tr>\n",
              "    <tr>\n",
              "      <th>6</th>\n",
              "      <td>23.9</td>\n",
              "      <td>22.966667</td>\n",
              "    </tr>\n",
              "    <tr>\n",
              "      <th>...</th>\n",
              "      <td>...</td>\n",
              "      <td>...</td>\n",
              "    </tr>\n",
              "    <tr>\n",
              "      <th>3647</th>\n",
              "      <td>161.0</td>\n",
              "      <td>240.000000</td>\n",
              "    </tr>\n",
              "    <tr>\n",
              "      <th>3648</th>\n",
              "      <td>120.0</td>\n",
              "      <td>172.666667</td>\n",
              "    </tr>\n",
              "    <tr>\n",
              "      <th>3649</th>\n",
              "      <td>97.7</td>\n",
              "      <td>126.233333</td>\n",
              "    </tr>\n",
              "    <tr>\n",
              "      <th>3650</th>\n",
              "      <td>86.3</td>\n",
              "      <td>101.333333</td>\n",
              "    </tr>\n",
              "    <tr>\n",
              "      <th>3651</th>\n",
              "      <td>77.3</td>\n",
              "      <td>87.100000</td>\n",
              "    </tr>\n",
              "  </tbody>\n",
              "</table>\n",
              "<p>3650 rows × 2 columns</p>\n",
              "</div>"
            ],
            "text/plain": [
              "      15207507  15207507_smooth\n",
              "2         19.3        19.466667\n",
              "3         19.3        19.300000\n",
              "4         20.6        19.733333\n",
              "5         24.4        21.433333\n",
              "6         23.9        22.966667\n",
              "...        ...              ...\n",
              "3647     161.0       240.000000\n",
              "3648     120.0       172.666667\n",
              "3649      97.7       126.233333\n",
              "3650      86.3       101.333333\n",
              "3651      77.3        87.100000\n",
              "\n",
              "[3650 rows x 2 columns]"
            ]
          },
          "execution_count": 5,
          "metadata": {},
          "output_type": "execute_result"
        }
      ],
      "source": [
        "data[['15207507','15207507_smooth']]"
      ]
    },
    {
      "cell_type": "code",
      "execution_count": 6,
      "metadata": {},
      "outputs": [],
      "source": [
        "max_pred_len = 5\n",
        "enc_len = 364\n",
        "training_cutoff = int(data[\"date\"].max()*0.7) - max_pred_len\n",
        "val_cutoff = int(data[\"date\"].max()*0.85) - max_pred_len\n",
        "\n",
        "training = TimeSeriesDataSet(\n",
        "    data= data.iloc[: training_cutoff],\n",
        "    target='15207507_smooth',#'15207507_smooth'\n",
        "    group_ids=['groups'],#groups\n",
        "    time_idx='date',#date\n",
        "    max_encoder_length=enc_len,\n",
        "    min_encoder_length=enc_len,\n",
        "    min_prediction_length=max_pred_len,\n",
        "    max_prediction_length=max_pred_len,\n",
        "    time_varying_unknown_reals=['15207507_smooth'],\n",
        "    time_varying_known_reals=data.columns[20:-2].values.tolist()#data.columns[20:-1].values.tolist(),\n",
        ")\n",
        "\n",
        "validation = TimeSeriesDataSet.from_dataset(training,data.iloc[training_cutoff: val_cutoff],min_prediction_idx=training_cutoff,stop_randomization=True)\n",
        "\n",
        "train_dataloader = training.to_dataloader(train=True, batch_size=128, num_workers=2)\n",
        "val_dataloader = validation.to_dataloader(train=False, batch_size=32, num_workers=2)\n"
      ]
    },
    {
      "cell_type": "code",
      "execution_count": 7,
      "metadata": {},
      "outputs": [],
      "source": [
        "# class KGE(MultiHorizonMetric):\n",
        "#     def loss(self, y_pred, target):\n",
        "#         y_pred = self.to_prediction(y_pred)\n",
        "\n",
        "#         kge_list = []\n",
        "#         for i in range(y_pred.size(0)):\n",
        "#             pred = y_pred[i,:]\n",
        "#             true = target[i,:]\n",
        "\n",
        "#             # Compute correlation coefficient\n",
        "#             r = torch.corrcoef(torch.stack((pred, true)))[0, 1]\n",
        "            \n",
        "#             # Compute alpha and beta\n",
        "#             alpha = pred.std() / true.std()\n",
        "#             beta = pred.mean() / true.mean()\n",
        "            \n",
        "#             # Calculate KGE\n",
        "#             kge = 1 - torch.sqrt((r - 1)**2 + (alpha - 1)**2 + (beta - 1)**2)\n",
        "            \n",
        "#             kge_list.append(kge)\n",
        "\n",
        "#         kge_tensor = torch.stack(kge_list)\n",
        "#         mean_kge = kge_tensor.mean()\n",
        "            \n",
        "#         return -1 * mean_kge"
      ]
    },
    {
      "cell_type": "code",
      "execution_count": 8,
      "metadata": {
        "colab": {
          "base_uri": "https://localhost:8080/"
        },
        "id": "ANkF0g2KCeXB",
        "outputId": "9bcc7aa3-e3c9-44a3-c643-e3b0ade8edbd"
      },
      "outputs": [
        {
          "name": "stderr",
          "output_type": "stream",
          "text": [
            "/Users/lemarx/anaconda3/envs/Climate_Data/lib/python3.10/site-packages/lightning/pytorch/utilities/parsing.py:199: Attribute 'loss' is an instance of `nn.Module` and is already saved during checkpointing. It is recommended to ignore them using `self.save_hyperparameters(ignore=['loss'])`.\n",
            "/Users/lemarx/anaconda3/envs/Climate_Data/lib/python3.10/site-packages/lightning/pytorch/utilities/parsing.py:199: Attribute 'logging_metrics' is an instance of `nn.Module` and is already saved during checkpointing. It is recommended to ignore them using `self.save_hyperparameters(ignore=['logging_metrics'])`.\n",
            "/Users/lemarx/anaconda3/envs/Climate_Data/lib/python3.10/site-packages/torch/nn/modules/rnn.py:83: UserWarning: dropout option adds dropout after all but last recurrent layer, so non-zero dropout expects num_layers greater than 1, but got dropout=0.3 and num_layers=1\n",
            "  warnings.warn(\"dropout option adds dropout after all but last \"\n"
          ]
        }
      ],
      "source": [
        "class LSTMModel(AutoRegressiveBaseModelWithCovariates):\n",
        "    def __init__(\n",
        "        self,\n",
        "        input_size:int,\n",
        "        target: str,\n",
        "        target_lags: Dict[str, Dict[str, int]],\n",
        "        n_layers: int,\n",
        "        hidden_size: int,\n",
        "        x_reals: List[str],\n",
        "        x_categoricals: List[str],\n",
        "        embedding_sizes: Dict[str, Tuple[int, int]],\n",
        "        embedding_labels: Dict[str, List[str]],\n",
        "        static_categoricals: List[str],\n",
        "        static_reals: List[str],\n",
        "        time_varying_categoricals_encoder: List[str],\n",
        "        time_varying_categoricals_decoder: List[str],\n",
        "        time_varying_reals_encoder: List[str],\n",
        "        time_varying_reals_decoder: List[str],\n",
        "        embedding_paddings: List[str],\n",
        "        categorical_groups: Dict[str, List[str]],\n",
        "        dropout: float = 0.2,\n",
        "        **kwargs,\n",
        "\n",
        "    ):\n",
        "        # arguments target and target_lags are required for autoregressive models\n",
        "        # even though target_lags cannot be used without covariates\n",
        "        # saves arguments in signature to `.hparams` attribute, mandatory call - do not skip this\n",
        "        self.save_hyperparameters()\n",
        "        # pass additional arguments to BaseModel.__init__, mandatory call - do not skip this\n",
        "        super().__init__(**kwargs)\n",
        "\n",
        "        # use version of LSTM that can handle zero-length sequences\n",
        "        self.lstm = LSTM(\n",
        "            hidden_size=self.hparams.hidden_size,\n",
        "            input_size=self.hparams.input_size,\n",
        "            num_layers=self.hparams.n_layers,\n",
        "            dropout=self.hparams.dropout,\n",
        "            batch_first=True,\n",
        "        )\n",
        "        self.dropout_layer = nn.Dropout(p = 0.2)\n",
        "        self.output_layer = nn.Linear(self.hparams.hidden_size, 1)\n",
        "\n",
        "    def encode(self, x: Dict[str, torch.Tensor]):\n",
        "        # we need at least one encoding step as because the target needs to be lagged by one time step\n",
        "        # because we use the custom LSTM, we do not have to require encoder lengths of > 1\n",
        "        # but can handle lengths of >= 1\n",
        "        assert x[\"encoder_lengths\"].min() >= 1\n",
        "        input_vector = x[\"encoder_cont\"].clone()\n",
        "\n",
        "        # run through LSTM network\n",
        "        _, hidden_state = self.lstm(\n",
        "            input_vector, enforce_sorted=False  # passing the lengths directly\n",
        "        )  # second ouput is not needed (hidden state)\n",
        "        return hidden_state\n",
        "\n",
        "    def decode(self, x: Dict[str, torch.Tensor], hidden_state):\n",
        "        # again lag target by one\n",
        "        input_vector = x[\"decoder_cont\"].clone()\n",
        "        input_vector[..., self.target_positions] = torch.roll(\n",
        "            input_vector[..., self.target_positions], shifts=1, dims=1\n",
        "        )\n",
        "        # but this time fill in missing target from encoder_cont at the first time step instead of throwing it away\n",
        "        last_encoder_target = x[\"encoder_cont\"][\n",
        "            torch.arange(x[\"encoder_cont\"].size(0), device=x[\"encoder_cont\"].device),\n",
        "            x[\"encoder_lengths\"] - 1,\n",
        "            self.target_positions.unsqueeze(-1),\n",
        "        ].T\n",
        "        input_vector[:, 0, self.target_positions] = last_encoder_target\n",
        "\n",
        "        if self.training:  # training mode\n",
        "            lstm_output, _ = self.lstm(input_vector, hidden_state, lengths=x[\"decoder_lengths\"], enforce_sorted=False)\n",
        "\n",
        "            # transform into right shape\n",
        "            prediction = self.output_layer(lstm_output)\n",
        "            prediction = self.transform_output(prediction, target_scale=x[\"target_scale\"])\n",
        "\n",
        "            # predictions are not yet rescaled\n",
        "            return prediction\n",
        "\n",
        "        else:  # prediction mode\n",
        "            target_pos = self.target_positions\n",
        "\n",
        "            def decode_one(idx, lagged_targets, hidden_state):\n",
        "                x = input_vector[:, [idx]]\n",
        "                # overwrite at target positions\n",
        "                x[:, 0, target_pos] = lagged_targets[-1]  # take most recent target (i.e. lag=1)\n",
        "                lstm_output, hidden_state = self.lstm(x, hidden_state)\n",
        "                # transform into right shape\n",
        "                prediction = self.output_layer(self.dropout_layer(lstm_output))[:, 0]  # take first timestep\n",
        "                return prediction, hidden_state\n",
        "\n",
        "            # make predictions which are fed into next step\n",
        "            output = self.decode_autoregressive(\n",
        "                decode_one,\n",
        "                first_target=input_vector[:, 0, target_pos],\n",
        "                first_hidden_state=hidden_state,\n",
        "                target_scale=x[\"target_scale\"],\n",
        "                n_decoder_steps=input_vector.size(1),\n",
        "            )\n",
        "\n",
        "            # predictions are already rescaled\n",
        "            return output\n",
        "\n",
        "    def forward(self, x: Dict[str, torch.Tensor]) -> Dict[str, torch.Tensor]:\n",
        "        hidden_state = self.encode(x)  # encode to hidden state\n",
        "        output = self.decode(x, hidden_state)  # decode leveraging hidden state\n",
        "\n",
        "        return self.to_network_output(prediction=output)\n",
        "\n",
        "\n",
        "\n",
        "model = LSTMModel.from_dataset(training,\n",
        "                               input_size = 96,\n",
        "                               learning_rate = 0.001,\n",
        "                               n_layers=1,\n",
        "                               hidden_size = 128,\n",
        "                               loss = MAE(),\n",
        "                               dropout = 0.3,\n",
        "                               optimizer = 'adam',\n",
        "                               reduce_on_plateau_patience = 7,\n",
        "                               reduce_on_plateau_min_lr = 0.00001,\n",
        "                               weight_decay = 0.003\n",
        "                               )"
      ]
    },
    {
      "cell_type": "code",
      "execution_count": 9,
      "metadata": {},
      "outputs": [],
      "source": [
        "# early_stopping_callback = EarlyStopping(\n",
        "#     monitor='val_loss',  # metric to monitor\n",
        "#     patience=5,          # number of epochs with no improvement after which training will be stopped\n",
        "#     mode='min',          # 'min' if the monitored metric should be minimized\n",
        "#     verbose=True         # print messages when early stopping\n",
        "# )"
      ]
    },
    {
      "cell_type": "code",
      "execution_count": 10,
      "metadata": {
        "colab": {
          "base_uri": "https://localhost:8080/"
        },
        "id": "w9GwR7HXCeXC",
        "outputId": "b01f93f9-04aa-4ee4-c30a-94d0da0b6d56"
      },
      "outputs": [
        {
          "name": "stderr",
          "output_type": "stream",
          "text": [
            "GPU available: True (mps), used: True\n",
            "TPU available: False, using: 0 TPU cores\n",
            "IPU available: False, using: 0 IPUs\n",
            "HPU available: False, using: 0 HPUs\n"
          ]
        }
      ],
      "source": [
        "trainer = pl.Trainer(\n",
        "    accelerator=\"auto\",\n",
        "    max_epochs=100,\n",
        "    # callbacks=[early_stopping_callback],\n",
        "    # clipping gradients is a hyperparameter and important to prevent divergance\n",
        "    # of the gradient for recurrent neural networks\n",
        "    gradient_clip_val=0.2,\n",
        ")"
      ]
    },
    {
      "cell_type": "code",
      "execution_count": 11,
      "metadata": {
        "colab": {
          "base_uri": "https://localhost:8080/",
          "height": 599,
          "referenced_widgets": [
            "4d8f6e1631884dd493aadcd3b869dc6e",
            "c2518ec19797425088cbd4eaf3d58616",
            "a5d6766bde214c739b390153e20f9fdf",
            "48cbc40b31a243e6a08617c5103ef033",
            "3366b3fba2454d68b9da10ecd76e5a03",
            "1a5ceb31bfc045e3876f62e12dcd27ef",
            "fa71714364184c01a6466fe814ed2f38",
            "8606b9cc867540d58bd5108a2202e9e3",
            "b0ab25d6547c4d91abeb6b25921faa31",
            "3f7e544c55504f83bcc37201f1d47a5c",
            "a483c0c05f3b4a589d66cf429fbed99b",
            "0677595cdb4e4ac79b1a293d352567a9",
            "7a9939dd658e4499842f400278dad68c",
            "9ce4223726d04b6794a41d27b730e901",
            "d45c99372cc54d208db3fef7aa69134c",
            "153b2ed24c4847f6af740ae6e18efb4d",
            "4715f50aaf33407eb6d6438b14c11137",
            "7a3e4000551c4d4ab9986a27a656a188",
            "65d79eebff5c43e7b2e6c0bcf01fdae8",
            "216448241ed04ee6b9e3faae8752379d",
            "bcef218584e24b729a9d3a8ecaa8ee79",
            "e84428878e4644eb8dee9b0abd1b6ea2",
            "fe50aad5b99f48c5b8beb1e4108a22a7",
            "db83de918b5642878fdb00b247c906b4",
            "81e421949501484aa77aa0e4226c996e",
            "3869bb97483f40e68105d69f15e292fc",
            "12a2e9e7c20c459d8c6be509e6f75926",
            "7a587e4acc1d4a5e8d47daf2b90bd93f",
            "15bb22f09b41419393fd48845c9ce75e",
            "3185b94fa0a7484283a3ee2fb049c5aa",
            "ba554fe701db4b62b34a914b6375387e",
            "6d62b87a583f425a867890f4bace7a8e",
            "252ef258a00e4c6dba35ac19bfc3f7b1",
            "3ebaefbf813e46a78fc7e4db4065c562",
            "cdbce62b91594f1cbe1f7c741f955e7c",
            "9b0299ef08494edd892de94868f2a490",
            "5d23a2898dab440280d443129bebcb77",
            "2ac8484740a446159b98208add211630",
            "c0f689aeacc741c8b3517c9448646d3e",
            "1b0227744a964f79834d5d267414ed08",
            "e6d33cc036ee459db5a87277e586561c",
            "2938faf22ece41e9a8db7bb9f7771787",
            "cbfe76bb175e402296f75703f04eefdb",
            "91a7e268325a4c6c9f0d21adebcba1bc",
            "fa34d6d6765749a4a15eaef140f3e9fa",
            "af6b69663b0c4a3e8a78ed8770d89de5",
            "1dca35f306144bc5b014123c25d8cd17",
            "68025f6ce7a34845bfdfbe11a09b4537",
            "4cdcfe2ceac7440b93f455cb2c69bc1a",
            "30ae0d5c59e5422e8f15b50c2b138caf",
            "351514beda27466f84484f37955862a0",
            "c9a3b5763b264c22951252bce67252cd",
            "cebae67c3da34f62990459668c3ae321",
            "86bbc21136d2406cadd74399bf7f993a",
            "212d536d6e114cf580cc7fe6788b3ca9",
            "367d48cab5074d839ba34a6f1803a66c",
            "00a34a6c696547bf8110adb0fc30af24",
            "841294d6505e4de598ed949acbc35a93",
            "0ffa35cf448a45bf806b61ec23a05121",
            "fb7300d0e5634b75957bd2df4fa44004",
            "f4390b524e5f4b2f8697b26cd44f67a2",
            "321cf8a8d07949a38953cc95f4dcbd8b",
            "47e7514f5a9d4ea19491de6b1471070b",
            "cba9c185689c42c6a620c9d4c4be5662",
            "38419c3d25da483a88337b6bef34ab88",
            "864c3ed83c0b4332a82e33a6c46751ef",
            "3876c888dd6145af9ad229f6d5772267",
            "85ab260a49254f7d87036f75b6447482",
            "7621132427964ba285c77163bbe6f663",
            "e49e76c683fe4e999b86ff66c8c1dcc5",
            "b0fbb64ef0244723b5e5639c0037b593",
            "05988a22cb1640b3952429aa6b9cf5b7",
            "c33ac4d6bfd1448ba8c58bc5ce1d628d",
            "feae7a312c2a466cb664a1faab56518b",
            "b286b1b494bb4b8882790f6dece6c233",
            "2ea4960e4779454baaf2d4d3df417179",
            "20ed439774944b5880622e4f4024670f"
          ]
        },
        "id": "hpbYRRZXCeXC",
        "outputId": "362ea1c0-0a35-471b-b5d1-fa276c698def"
      },
      "outputs": [
        {
          "name": "stderr",
          "output_type": "stream",
          "text": [
            "\n",
            "  | Name            | Type       | Params\n",
            "-----------------------------------------------\n",
            "0 | loss            | MAE        | 0     \n",
            "1 | logging_metrics | ModuleList | 0     \n",
            "2 | lstm            | LSTM       | 115 K \n",
            "3 | dropout_layer   | Dropout    | 0     \n",
            "4 | output_layer    | Linear     | 129   \n",
            "-----------------------------------------------\n",
            "115 K     Trainable params\n",
            "0         Non-trainable params\n",
            "115 K     Total params\n",
            "0.463     Total estimated model params size (MB)\n"
          ]
        },
        {
          "data": {
            "application/vnd.jupyter.widget-view+json": {
              "model_id": "fdd74c50a5ea441e8c4cd8f42f0b34ab",
              "version_major": 2,
              "version_minor": 0
            },
            "text/plain": [
              "Sanity Checking: |          | 0/? [00:00<?, ?it/s]"
            ]
          },
          "metadata": {},
          "output_type": "display_data"
        },
        {
          "name": "stderr",
          "output_type": "stream",
          "text": [
            "/Users/lemarx/anaconda3/envs/Climate_Data/lib/python3.10/site-packages/lightning/pytorch/trainer/connectors/data_connector.py:436: Consider setting `persistent_workers=True` in 'val_dataloader' to speed up the dataloader worker initialization.\n",
            "/Users/lemarx/anaconda3/envs/Climate_Data/lib/python3.10/site-packages/lightning/pytorch/trainer/connectors/data_connector.py:436: Consider setting `persistent_workers=True` in 'train_dataloader' to speed up the dataloader worker initialization.\n",
            "/Users/lemarx/anaconda3/envs/Climate_Data/lib/python3.10/site-packages/lightning/pytorch/loops/fit_loop.py:298: The number of training batches (17) is smaller than the logging interval Trainer(log_every_n_steps=50). Set a lower value for log_every_n_steps if you want to see logs for the training epoch.\n"
          ]
        },
        {
          "data": {
            "application/vnd.jupyter.widget-view+json": {
              "model_id": "81cdc0dec0b8467ca66309b2c22f881e",
              "version_major": 2,
              "version_minor": 0
            },
            "text/plain": [
              "Training: |          | 0/? [00:00<?, ?it/s]"
            ]
          },
          "metadata": {},
          "output_type": "display_data"
        },
        {
          "data": {
            "application/vnd.jupyter.widget-view+json": {
              "model_id": "e98922a682144d09afbdf5a01feeda64",
              "version_major": 2,
              "version_minor": 0
            },
            "text/plain": [
              "Validation: |          | 0/? [00:00<?, ?it/s]"
            ]
          },
          "metadata": {},
          "output_type": "display_data"
        },
        {
          "data": {
            "application/vnd.jupyter.widget-view+json": {
              "model_id": "5f220323e55e4b139807c55535584513",
              "version_major": 2,
              "version_minor": 0
            },
            "text/plain": [
              "Validation: |          | 0/? [00:00<?, ?it/s]"
            ]
          },
          "metadata": {},
          "output_type": "display_data"
        },
        {
          "data": {
            "application/vnd.jupyter.widget-view+json": {
              "model_id": "e6c1c70ed7d5412189f81bba05932e72",
              "version_major": 2,
              "version_minor": 0
            },
            "text/plain": [
              "Validation: |          | 0/? [00:00<?, ?it/s]"
            ]
          },
          "metadata": {},
          "output_type": "display_data"
        },
        {
          "data": {
            "application/vnd.jupyter.widget-view+json": {
              "model_id": "108059e9a1584a1884d6d9dcdb9f1640",
              "version_major": 2,
              "version_minor": 0
            },
            "text/plain": [
              "Validation: |          | 0/? [00:00<?, ?it/s]"
            ]
          },
          "metadata": {},
          "output_type": "display_data"
        },
        {
          "data": {
            "application/vnd.jupyter.widget-view+json": {
              "model_id": "e795855433b74abcad8df490370c662c",
              "version_major": 2,
              "version_minor": 0
            },
            "text/plain": [
              "Validation: |          | 0/? [00:00<?, ?it/s]"
            ]
          },
          "metadata": {},
          "output_type": "display_data"
        },
        {
          "data": {
            "application/vnd.jupyter.widget-view+json": {
              "model_id": "8f8575b59629412b8547900577e709aa",
              "version_major": 2,
              "version_minor": 0
            },
            "text/plain": [
              "Validation: |          | 0/? [00:00<?, ?it/s]"
            ]
          },
          "metadata": {},
          "output_type": "display_data"
        },
        {
          "data": {
            "application/vnd.jupyter.widget-view+json": {
              "model_id": "d7f3763d8d06431cbe116dd8f25bf0b7",
              "version_major": 2,
              "version_minor": 0
            },
            "text/plain": [
              "Validation: |          | 0/? [00:00<?, ?it/s]"
            ]
          },
          "metadata": {},
          "output_type": "display_data"
        },
        {
          "data": {
            "application/vnd.jupyter.widget-view+json": {
              "model_id": "d2ffb9ad728845e08977f657cf4c4b88",
              "version_major": 2,
              "version_minor": 0
            },
            "text/plain": [
              "Validation: |          | 0/? [00:00<?, ?it/s]"
            ]
          },
          "metadata": {},
          "output_type": "display_data"
        },
        {
          "data": {
            "application/vnd.jupyter.widget-view+json": {
              "model_id": "e45ce80d8954476d92d1b7a69e637354",
              "version_major": 2,
              "version_minor": 0
            },
            "text/plain": [
              "Validation: |          | 0/? [00:00<?, ?it/s]"
            ]
          },
          "metadata": {},
          "output_type": "display_data"
        },
        {
          "data": {
            "application/vnd.jupyter.widget-view+json": {
              "model_id": "e020be02f54b44bcb4a1e5191b797587",
              "version_major": 2,
              "version_minor": 0
            },
            "text/plain": [
              "Validation: |          | 0/? [00:00<?, ?it/s]"
            ]
          },
          "metadata": {},
          "output_type": "display_data"
        },
        {
          "data": {
            "application/vnd.jupyter.widget-view+json": {
              "model_id": "63be1edf0d7e4b488292f4d57e4b977b",
              "version_major": 2,
              "version_minor": 0
            },
            "text/plain": [
              "Validation: |          | 0/? [00:00<?, ?it/s]"
            ]
          },
          "metadata": {},
          "output_type": "display_data"
        },
        {
          "data": {
            "application/vnd.jupyter.widget-view+json": {
              "model_id": "22910a955a5544f2a0d5138bc0799d84",
              "version_major": 2,
              "version_minor": 0
            },
            "text/plain": [
              "Validation: |          | 0/? [00:00<?, ?it/s]"
            ]
          },
          "metadata": {},
          "output_type": "display_data"
        },
        {
          "data": {
            "application/vnd.jupyter.widget-view+json": {
              "model_id": "d85849386df740d4bb15e88b4b79c79b",
              "version_major": 2,
              "version_minor": 0
            },
            "text/plain": [
              "Validation: |          | 0/? [00:00<?, ?it/s]"
            ]
          },
          "metadata": {},
          "output_type": "display_data"
        },
        {
          "data": {
            "application/vnd.jupyter.widget-view+json": {
              "model_id": "3c2217fe4e574956acfdcaa20fcc6741",
              "version_major": 2,
              "version_minor": 0
            },
            "text/plain": [
              "Validation: |          | 0/? [00:00<?, ?it/s]"
            ]
          },
          "metadata": {},
          "output_type": "display_data"
        },
        {
          "data": {
            "application/vnd.jupyter.widget-view+json": {
              "model_id": "1cb42ac0912a4e3eb7057942db6a1e90",
              "version_major": 2,
              "version_minor": 0
            },
            "text/plain": [
              "Validation: |          | 0/? [00:00<?, ?it/s]"
            ]
          },
          "metadata": {},
          "output_type": "display_data"
        },
        {
          "data": {
            "application/vnd.jupyter.widget-view+json": {
              "model_id": "70eeb6f5a1914d74a389545b4e819652",
              "version_major": 2,
              "version_minor": 0
            },
            "text/plain": [
              "Validation: |          | 0/? [00:00<?, ?it/s]"
            ]
          },
          "metadata": {},
          "output_type": "display_data"
        },
        {
          "data": {
            "application/vnd.jupyter.widget-view+json": {
              "model_id": "b5234d53d58841b1986341dc28877263",
              "version_major": 2,
              "version_minor": 0
            },
            "text/plain": [
              "Validation: |          | 0/? [00:00<?, ?it/s]"
            ]
          },
          "metadata": {},
          "output_type": "display_data"
        },
        {
          "data": {
            "application/vnd.jupyter.widget-view+json": {
              "model_id": "cf9affb786a448ec9b16b080655d7099",
              "version_major": 2,
              "version_minor": 0
            },
            "text/plain": [
              "Validation: |          | 0/? [00:00<?, ?it/s]"
            ]
          },
          "metadata": {},
          "output_type": "display_data"
        },
        {
          "data": {
            "application/vnd.jupyter.widget-view+json": {
              "model_id": "778ea4002897469f90417b7d74a822eb",
              "version_major": 2,
              "version_minor": 0
            },
            "text/plain": [
              "Validation: |          | 0/? [00:00<?, ?it/s]"
            ]
          },
          "metadata": {},
          "output_type": "display_data"
        },
        {
          "data": {
            "application/vnd.jupyter.widget-view+json": {
              "model_id": "cd08d8af6b5248e7aaa6279aa8a36a98",
              "version_major": 2,
              "version_minor": 0
            },
            "text/plain": [
              "Validation: |          | 0/? [00:00<?, ?it/s]"
            ]
          },
          "metadata": {},
          "output_type": "display_data"
        },
        {
          "data": {
            "application/vnd.jupyter.widget-view+json": {
              "model_id": "68ccdca0c9854d88a8ed532919da01cb",
              "version_major": 2,
              "version_minor": 0
            },
            "text/plain": [
              "Validation: |          | 0/? [00:00<?, ?it/s]"
            ]
          },
          "metadata": {},
          "output_type": "display_data"
        },
        {
          "data": {
            "application/vnd.jupyter.widget-view+json": {
              "model_id": "2d45723119ae40c894a3d0e7b507adcf",
              "version_major": 2,
              "version_minor": 0
            },
            "text/plain": [
              "Validation: |          | 0/? [00:00<?, ?it/s]"
            ]
          },
          "metadata": {},
          "output_type": "display_data"
        },
        {
          "data": {
            "application/vnd.jupyter.widget-view+json": {
              "model_id": "e427a638991a46ba91ff0dc1448fa065",
              "version_major": 2,
              "version_minor": 0
            },
            "text/plain": [
              "Validation: |          | 0/? [00:00<?, ?it/s]"
            ]
          },
          "metadata": {},
          "output_type": "display_data"
        },
        {
          "data": {
            "application/vnd.jupyter.widget-view+json": {
              "model_id": "00727b4ccf8a48d6ba1433f432939c24",
              "version_major": 2,
              "version_minor": 0
            },
            "text/plain": [
              "Validation: |          | 0/? [00:00<?, ?it/s]"
            ]
          },
          "metadata": {},
          "output_type": "display_data"
        },
        {
          "data": {
            "application/vnd.jupyter.widget-view+json": {
              "model_id": "998c89aecffe4a869b5fcb5d284117a5",
              "version_major": 2,
              "version_minor": 0
            },
            "text/plain": [
              "Validation: |          | 0/? [00:00<?, ?it/s]"
            ]
          },
          "metadata": {},
          "output_type": "display_data"
        },
        {
          "data": {
            "application/vnd.jupyter.widget-view+json": {
              "model_id": "6f9388fa3a4f48a5a8dba6dbc2cea021",
              "version_major": 2,
              "version_minor": 0
            },
            "text/plain": [
              "Validation: |          | 0/? [00:00<?, ?it/s]"
            ]
          },
          "metadata": {},
          "output_type": "display_data"
        },
        {
          "data": {
            "application/vnd.jupyter.widget-view+json": {
              "model_id": "87f626771baa4af8a1969f45367d305c",
              "version_major": 2,
              "version_minor": 0
            },
            "text/plain": [
              "Validation: |          | 0/? [00:00<?, ?it/s]"
            ]
          },
          "metadata": {},
          "output_type": "display_data"
        },
        {
          "data": {
            "application/vnd.jupyter.widget-view+json": {
              "model_id": "a9e9ad93fbfd4922b8fff0d3135a53e2",
              "version_major": 2,
              "version_minor": 0
            },
            "text/plain": [
              "Validation: |          | 0/? [00:00<?, ?it/s]"
            ]
          },
          "metadata": {},
          "output_type": "display_data"
        },
        {
          "data": {
            "application/vnd.jupyter.widget-view+json": {
              "model_id": "0404528e32804ffaaf8b4c7e1098d79a",
              "version_major": 2,
              "version_minor": 0
            },
            "text/plain": [
              "Validation: |          | 0/? [00:00<?, ?it/s]"
            ]
          },
          "metadata": {},
          "output_type": "display_data"
        },
        {
          "data": {
            "application/vnd.jupyter.widget-view+json": {
              "model_id": "21fe9b28c72843769a6fe2df79e714c6",
              "version_major": 2,
              "version_minor": 0
            },
            "text/plain": [
              "Validation: |          | 0/? [00:00<?, ?it/s]"
            ]
          },
          "metadata": {},
          "output_type": "display_data"
        },
        {
          "data": {
            "application/vnd.jupyter.widget-view+json": {
              "model_id": "ee1eebd161274b8eaca68087368bfb8c",
              "version_major": 2,
              "version_minor": 0
            },
            "text/plain": [
              "Validation: |          | 0/? [00:00<?, ?it/s]"
            ]
          },
          "metadata": {},
          "output_type": "display_data"
        },
        {
          "data": {
            "application/vnd.jupyter.widget-view+json": {
              "model_id": "37eb8a3521ad4da680386bf14bd3e9c0",
              "version_major": 2,
              "version_minor": 0
            },
            "text/plain": [
              "Validation: |          | 0/? [00:00<?, ?it/s]"
            ]
          },
          "metadata": {},
          "output_type": "display_data"
        },
        {
          "data": {
            "application/vnd.jupyter.widget-view+json": {
              "model_id": "22b9ca5849e547df9cb2ed888956aa09",
              "version_major": 2,
              "version_minor": 0
            },
            "text/plain": [
              "Validation: |          | 0/? [00:00<?, ?it/s]"
            ]
          },
          "metadata": {},
          "output_type": "display_data"
        },
        {
          "data": {
            "application/vnd.jupyter.widget-view+json": {
              "model_id": "681e7b889ced4ad0a6f754d16b9ebb4b",
              "version_major": 2,
              "version_minor": 0
            },
            "text/plain": [
              "Validation: |          | 0/? [00:00<?, ?it/s]"
            ]
          },
          "metadata": {},
          "output_type": "display_data"
        },
        {
          "data": {
            "application/vnd.jupyter.widget-view+json": {
              "model_id": "588d581606ff4e058bdcbcfc35056791",
              "version_major": 2,
              "version_minor": 0
            },
            "text/plain": [
              "Validation: |          | 0/? [00:00<?, ?it/s]"
            ]
          },
          "metadata": {},
          "output_type": "display_data"
        },
        {
          "data": {
            "application/vnd.jupyter.widget-view+json": {
              "model_id": "58959f6c793046bf8863a450aafaf674",
              "version_major": 2,
              "version_minor": 0
            },
            "text/plain": [
              "Validation: |          | 0/? [00:00<?, ?it/s]"
            ]
          },
          "metadata": {},
          "output_type": "display_data"
        },
        {
          "data": {
            "application/vnd.jupyter.widget-view+json": {
              "model_id": "30daea6a357d4240b876a6fe47490fea",
              "version_major": 2,
              "version_minor": 0
            },
            "text/plain": [
              "Validation: |          | 0/? [00:00<?, ?it/s]"
            ]
          },
          "metadata": {},
          "output_type": "display_data"
        },
        {
          "data": {
            "application/vnd.jupyter.widget-view+json": {
              "model_id": "827b929719484fc2bec6cd22b020ed5c",
              "version_major": 2,
              "version_minor": 0
            },
            "text/plain": [
              "Validation: |          | 0/? [00:00<?, ?it/s]"
            ]
          },
          "metadata": {},
          "output_type": "display_data"
        },
        {
          "data": {
            "application/vnd.jupyter.widget-view+json": {
              "model_id": "552e5bfcfb3041e5be874151b31a5b40",
              "version_major": 2,
              "version_minor": 0
            },
            "text/plain": [
              "Validation: |          | 0/? [00:00<?, ?it/s]"
            ]
          },
          "metadata": {},
          "output_type": "display_data"
        },
        {
          "data": {
            "application/vnd.jupyter.widget-view+json": {
              "model_id": "ce45833018564042885c2953d98c3522",
              "version_major": 2,
              "version_minor": 0
            },
            "text/plain": [
              "Validation: |          | 0/? [00:00<?, ?it/s]"
            ]
          },
          "metadata": {},
          "output_type": "display_data"
        },
        {
          "data": {
            "application/vnd.jupyter.widget-view+json": {
              "model_id": "bea7bc73d46d459489d9ba7ba3282934",
              "version_major": 2,
              "version_minor": 0
            },
            "text/plain": [
              "Validation: |          | 0/? [00:00<?, ?it/s]"
            ]
          },
          "metadata": {},
          "output_type": "display_data"
        },
        {
          "data": {
            "application/vnd.jupyter.widget-view+json": {
              "model_id": "a7135af7dd3f4688980db3ae98a05535",
              "version_major": 2,
              "version_minor": 0
            },
            "text/plain": [
              "Validation: |          | 0/? [00:00<?, ?it/s]"
            ]
          },
          "metadata": {},
          "output_type": "display_data"
        },
        {
          "data": {
            "application/vnd.jupyter.widget-view+json": {
              "model_id": "8261c27cf99d4c6486c4dfa7b3161bd8",
              "version_major": 2,
              "version_minor": 0
            },
            "text/plain": [
              "Validation: |          | 0/? [00:00<?, ?it/s]"
            ]
          },
          "metadata": {},
          "output_type": "display_data"
        },
        {
          "data": {
            "application/vnd.jupyter.widget-view+json": {
              "model_id": "693642fb57814dd4914ed972870c6f78",
              "version_major": 2,
              "version_minor": 0
            },
            "text/plain": [
              "Validation: |          | 0/? [00:00<?, ?it/s]"
            ]
          },
          "metadata": {},
          "output_type": "display_data"
        },
        {
          "data": {
            "application/vnd.jupyter.widget-view+json": {
              "model_id": "89974e1141c94b8eb8c800077ee0aea2",
              "version_major": 2,
              "version_minor": 0
            },
            "text/plain": [
              "Validation: |          | 0/? [00:00<?, ?it/s]"
            ]
          },
          "metadata": {},
          "output_type": "display_data"
        },
        {
          "data": {
            "application/vnd.jupyter.widget-view+json": {
              "model_id": "c12d6a85523247d6a234d9037966e469",
              "version_major": 2,
              "version_minor": 0
            },
            "text/plain": [
              "Validation: |          | 0/? [00:00<?, ?it/s]"
            ]
          },
          "metadata": {},
          "output_type": "display_data"
        },
        {
          "data": {
            "application/vnd.jupyter.widget-view+json": {
              "model_id": "614d01f3dacb4bcf865d5238b81e2581",
              "version_major": 2,
              "version_minor": 0
            },
            "text/plain": [
              "Validation: |          | 0/? [00:00<?, ?it/s]"
            ]
          },
          "metadata": {},
          "output_type": "display_data"
        },
        {
          "data": {
            "application/vnd.jupyter.widget-view+json": {
              "model_id": "5d0d593c861c4eefab1e10d924055457",
              "version_major": 2,
              "version_minor": 0
            },
            "text/plain": [
              "Validation: |          | 0/? [00:00<?, ?it/s]"
            ]
          },
          "metadata": {},
          "output_type": "display_data"
        },
        {
          "data": {
            "application/vnd.jupyter.widget-view+json": {
              "model_id": "adbce9897e724a1db1bebc25eaddb5de",
              "version_major": 2,
              "version_minor": 0
            },
            "text/plain": [
              "Validation: |          | 0/? [00:00<?, ?it/s]"
            ]
          },
          "metadata": {},
          "output_type": "display_data"
        },
        {
          "data": {
            "application/vnd.jupyter.widget-view+json": {
              "model_id": "09d363ab6333463fb1dbefecdd7e1b97",
              "version_major": 2,
              "version_minor": 0
            },
            "text/plain": [
              "Validation: |          | 0/? [00:00<?, ?it/s]"
            ]
          },
          "metadata": {},
          "output_type": "display_data"
        },
        {
          "data": {
            "application/vnd.jupyter.widget-view+json": {
              "model_id": "e92001df64834cb5a6d01f6647814000",
              "version_major": 2,
              "version_minor": 0
            },
            "text/plain": [
              "Validation: |          | 0/? [00:00<?, ?it/s]"
            ]
          },
          "metadata": {},
          "output_type": "display_data"
        },
        {
          "data": {
            "application/vnd.jupyter.widget-view+json": {
              "model_id": "ad9879c44f0f40a589e0d71d63eea260",
              "version_major": 2,
              "version_minor": 0
            },
            "text/plain": [
              "Validation: |          | 0/? [00:00<?, ?it/s]"
            ]
          },
          "metadata": {},
          "output_type": "display_data"
        },
        {
          "data": {
            "application/vnd.jupyter.widget-view+json": {
              "model_id": "0a1edf2f7eb64550bcd3f41e1827ffc4",
              "version_major": 2,
              "version_minor": 0
            },
            "text/plain": [
              "Validation: |          | 0/? [00:00<?, ?it/s]"
            ]
          },
          "metadata": {},
          "output_type": "display_data"
        },
        {
          "data": {
            "application/vnd.jupyter.widget-view+json": {
              "model_id": "f492dcf1890d4579b92ef642896322af",
              "version_major": 2,
              "version_minor": 0
            },
            "text/plain": [
              "Validation: |          | 0/? [00:00<?, ?it/s]"
            ]
          },
          "metadata": {},
          "output_type": "display_data"
        },
        {
          "data": {
            "application/vnd.jupyter.widget-view+json": {
              "model_id": "1854b58ed96b481e9ec718337d1c5fd3",
              "version_major": 2,
              "version_minor": 0
            },
            "text/plain": [
              "Validation: |          | 0/? [00:00<?, ?it/s]"
            ]
          },
          "metadata": {},
          "output_type": "display_data"
        },
        {
          "data": {
            "application/vnd.jupyter.widget-view+json": {
              "model_id": "2a58dd47d4bf47a9ba7a38c637475b06",
              "version_major": 2,
              "version_minor": 0
            },
            "text/plain": [
              "Validation: |          | 0/? [00:00<?, ?it/s]"
            ]
          },
          "metadata": {},
          "output_type": "display_data"
        },
        {
          "data": {
            "application/vnd.jupyter.widget-view+json": {
              "model_id": "70ea57470e9f4fb1a1bf2e008233b726",
              "version_major": 2,
              "version_minor": 0
            },
            "text/plain": [
              "Validation: |          | 0/? [00:00<?, ?it/s]"
            ]
          },
          "metadata": {},
          "output_type": "display_data"
        },
        {
          "data": {
            "application/vnd.jupyter.widget-view+json": {
              "model_id": "18dd5947ec784bb6af15b64d677d4a47",
              "version_major": 2,
              "version_minor": 0
            },
            "text/plain": [
              "Validation: |          | 0/? [00:00<?, ?it/s]"
            ]
          },
          "metadata": {},
          "output_type": "display_data"
        },
        {
          "data": {
            "application/vnd.jupyter.widget-view+json": {
              "model_id": "f15eab9d86a145c2b2a8ba9d625d4cda",
              "version_major": 2,
              "version_minor": 0
            },
            "text/plain": [
              "Validation: |          | 0/? [00:00<?, ?it/s]"
            ]
          },
          "metadata": {},
          "output_type": "display_data"
        },
        {
          "data": {
            "application/vnd.jupyter.widget-view+json": {
              "model_id": "3fe371529a4e4c6aae3eca22b1c2dcbc",
              "version_major": 2,
              "version_minor": 0
            },
            "text/plain": [
              "Validation: |          | 0/? [00:00<?, ?it/s]"
            ]
          },
          "metadata": {},
          "output_type": "display_data"
        },
        {
          "data": {
            "application/vnd.jupyter.widget-view+json": {
              "model_id": "568bf567ffb244b7a0104684f0d9c4e1",
              "version_major": 2,
              "version_minor": 0
            },
            "text/plain": [
              "Validation: |          | 0/? [00:00<?, ?it/s]"
            ]
          },
          "metadata": {},
          "output_type": "display_data"
        },
        {
          "data": {
            "application/vnd.jupyter.widget-view+json": {
              "model_id": "3fb9610cf15b4c6d9d3ba17a53317ce7",
              "version_major": 2,
              "version_minor": 0
            },
            "text/plain": [
              "Validation: |          | 0/? [00:00<?, ?it/s]"
            ]
          },
          "metadata": {},
          "output_type": "display_data"
        },
        {
          "data": {
            "application/vnd.jupyter.widget-view+json": {
              "model_id": "53c5df6cc88a48adb3f0139b8e337adc",
              "version_major": 2,
              "version_minor": 0
            },
            "text/plain": [
              "Validation: |          | 0/? [00:00<?, ?it/s]"
            ]
          },
          "metadata": {},
          "output_type": "display_data"
        },
        {
          "data": {
            "application/vnd.jupyter.widget-view+json": {
              "model_id": "9555404ed18a48c09117c5af11fbd7a7",
              "version_major": 2,
              "version_minor": 0
            },
            "text/plain": [
              "Validation: |          | 0/? [00:00<?, ?it/s]"
            ]
          },
          "metadata": {},
          "output_type": "display_data"
        },
        {
          "data": {
            "application/vnd.jupyter.widget-view+json": {
              "model_id": "7e97f90043ed4f53ad4796ffe8680033",
              "version_major": 2,
              "version_minor": 0
            },
            "text/plain": [
              "Validation: |          | 0/? [00:00<?, ?it/s]"
            ]
          },
          "metadata": {},
          "output_type": "display_data"
        },
        {
          "data": {
            "application/vnd.jupyter.widget-view+json": {
              "model_id": "9f2106ca09e94d0c9f3ccad9b55d48ca",
              "version_major": 2,
              "version_minor": 0
            },
            "text/plain": [
              "Validation: |          | 0/? [00:00<?, ?it/s]"
            ]
          },
          "metadata": {},
          "output_type": "display_data"
        },
        {
          "data": {
            "application/vnd.jupyter.widget-view+json": {
              "model_id": "2f4b53c535224ec8b3c7403852789e14",
              "version_major": 2,
              "version_minor": 0
            },
            "text/plain": [
              "Validation: |          | 0/? [00:00<?, ?it/s]"
            ]
          },
          "metadata": {},
          "output_type": "display_data"
        },
        {
          "data": {
            "application/vnd.jupyter.widget-view+json": {
              "model_id": "5adcdce31f39478c8b05d5e91c175f26",
              "version_major": 2,
              "version_minor": 0
            },
            "text/plain": [
              "Validation: |          | 0/? [00:00<?, ?it/s]"
            ]
          },
          "metadata": {},
          "output_type": "display_data"
        },
        {
          "data": {
            "application/vnd.jupyter.widget-view+json": {
              "model_id": "170d0caaedb24a188333b5a17e8afbdd",
              "version_major": 2,
              "version_minor": 0
            },
            "text/plain": [
              "Validation: |          | 0/? [00:00<?, ?it/s]"
            ]
          },
          "metadata": {},
          "output_type": "display_data"
        },
        {
          "data": {
            "application/vnd.jupyter.widget-view+json": {
              "model_id": "9611c03aeb8149a9816f0f64858866c4",
              "version_major": 2,
              "version_minor": 0
            },
            "text/plain": [
              "Validation: |          | 0/? [00:00<?, ?it/s]"
            ]
          },
          "metadata": {},
          "output_type": "display_data"
        },
        {
          "data": {
            "application/vnd.jupyter.widget-view+json": {
              "model_id": "fabb792595124a83a74e14a4a10be59c",
              "version_major": 2,
              "version_minor": 0
            },
            "text/plain": [
              "Validation: |          | 0/? [00:00<?, ?it/s]"
            ]
          },
          "metadata": {},
          "output_type": "display_data"
        },
        {
          "data": {
            "application/vnd.jupyter.widget-view+json": {
              "model_id": "a1011003275949c39acb4dc9e2ed8c4e",
              "version_major": 2,
              "version_minor": 0
            },
            "text/plain": [
              "Validation: |          | 0/? [00:00<?, ?it/s]"
            ]
          },
          "metadata": {},
          "output_type": "display_data"
        },
        {
          "data": {
            "application/vnd.jupyter.widget-view+json": {
              "model_id": "7ab6ebe2b05146b3a8b98a868a87bb00",
              "version_major": 2,
              "version_minor": 0
            },
            "text/plain": [
              "Validation: |          | 0/? [00:00<?, ?it/s]"
            ]
          },
          "metadata": {},
          "output_type": "display_data"
        },
        {
          "data": {
            "application/vnd.jupyter.widget-view+json": {
              "model_id": "fb660def8ae44b33aabcaa3a6c6c8a53",
              "version_major": 2,
              "version_minor": 0
            },
            "text/plain": [
              "Validation: |          | 0/? [00:00<?, ?it/s]"
            ]
          },
          "metadata": {},
          "output_type": "display_data"
        },
        {
          "data": {
            "application/vnd.jupyter.widget-view+json": {
              "model_id": "ea7267a75b414b8bbe0c78fcbb3615d5",
              "version_major": 2,
              "version_minor": 0
            },
            "text/plain": [
              "Validation: |          | 0/? [00:00<?, ?it/s]"
            ]
          },
          "metadata": {},
          "output_type": "display_data"
        },
        {
          "data": {
            "application/vnd.jupyter.widget-view+json": {
              "model_id": "2717af706c9748049853529f57165b79",
              "version_major": 2,
              "version_minor": 0
            },
            "text/plain": [
              "Validation: |          | 0/? [00:00<?, ?it/s]"
            ]
          },
          "metadata": {},
          "output_type": "display_data"
        },
        {
          "data": {
            "application/vnd.jupyter.widget-view+json": {
              "model_id": "3b4bca1737344e1c82605884b31750d3",
              "version_major": 2,
              "version_minor": 0
            },
            "text/plain": [
              "Validation: |          | 0/? [00:00<?, ?it/s]"
            ]
          },
          "metadata": {},
          "output_type": "display_data"
        },
        {
          "data": {
            "application/vnd.jupyter.widget-view+json": {
              "model_id": "8b121a16cbc646ca86fb70401cbc52b6",
              "version_major": 2,
              "version_minor": 0
            },
            "text/plain": [
              "Validation: |          | 0/? [00:00<?, ?it/s]"
            ]
          },
          "metadata": {},
          "output_type": "display_data"
        },
        {
          "data": {
            "application/vnd.jupyter.widget-view+json": {
              "model_id": "22a3a491fceb4423943e915a7ec94f71",
              "version_major": 2,
              "version_minor": 0
            },
            "text/plain": [
              "Validation: |          | 0/? [00:00<?, ?it/s]"
            ]
          },
          "metadata": {},
          "output_type": "display_data"
        },
        {
          "data": {
            "application/vnd.jupyter.widget-view+json": {
              "model_id": "f8ae1a2886cd45f893d310e552cdd426",
              "version_major": 2,
              "version_minor": 0
            },
            "text/plain": [
              "Validation: |          | 0/? [00:00<?, ?it/s]"
            ]
          },
          "metadata": {},
          "output_type": "display_data"
        },
        {
          "data": {
            "application/vnd.jupyter.widget-view+json": {
              "model_id": "6b4cd3d6565b474695bc3bae083d9aae",
              "version_major": 2,
              "version_minor": 0
            },
            "text/plain": [
              "Validation: |          | 0/? [00:00<?, ?it/s]"
            ]
          },
          "metadata": {},
          "output_type": "display_data"
        },
        {
          "data": {
            "application/vnd.jupyter.widget-view+json": {
              "model_id": "9ff26bf656544153ac7b3001ca6f2356",
              "version_major": 2,
              "version_minor": 0
            },
            "text/plain": [
              "Validation: |          | 0/? [00:00<?, ?it/s]"
            ]
          },
          "metadata": {},
          "output_type": "display_data"
        },
        {
          "data": {
            "application/vnd.jupyter.widget-view+json": {
              "model_id": "6a4cd9dcebd848ec9c73d8a47f16ccca",
              "version_major": 2,
              "version_minor": 0
            },
            "text/plain": [
              "Validation: |          | 0/? [00:00<?, ?it/s]"
            ]
          },
          "metadata": {},
          "output_type": "display_data"
        },
        {
          "data": {
            "application/vnd.jupyter.widget-view+json": {
              "model_id": "192fa0514693481a9b23cf9b4ce45b48",
              "version_major": 2,
              "version_minor": 0
            },
            "text/plain": [
              "Validation: |          | 0/? [00:00<?, ?it/s]"
            ]
          },
          "metadata": {},
          "output_type": "display_data"
        },
        {
          "data": {
            "application/vnd.jupyter.widget-view+json": {
              "model_id": "84489f9bd275401aaf3bbe294540c704",
              "version_major": 2,
              "version_minor": 0
            },
            "text/plain": [
              "Validation: |          | 0/? [00:00<?, ?it/s]"
            ]
          },
          "metadata": {},
          "output_type": "display_data"
        },
        {
          "data": {
            "application/vnd.jupyter.widget-view+json": {
              "model_id": "30352b99ec2c4b83b39d0259f3719bdf",
              "version_major": 2,
              "version_minor": 0
            },
            "text/plain": [
              "Validation: |          | 0/? [00:00<?, ?it/s]"
            ]
          },
          "metadata": {},
          "output_type": "display_data"
        },
        {
          "data": {
            "application/vnd.jupyter.widget-view+json": {
              "model_id": "b7300ec9ee4149f5acbcd6e7faf6057b",
              "version_major": 2,
              "version_minor": 0
            },
            "text/plain": [
              "Validation: |          | 0/? [00:00<?, ?it/s]"
            ]
          },
          "metadata": {},
          "output_type": "display_data"
        },
        {
          "data": {
            "application/vnd.jupyter.widget-view+json": {
              "model_id": "0c99b7bb3e4e4025ba5541f195ddad3a",
              "version_major": 2,
              "version_minor": 0
            },
            "text/plain": [
              "Validation: |          | 0/? [00:00<?, ?it/s]"
            ]
          },
          "metadata": {},
          "output_type": "display_data"
        },
        {
          "data": {
            "application/vnd.jupyter.widget-view+json": {
              "model_id": "27ae9d292928469097f882741c5e30d1",
              "version_major": 2,
              "version_minor": 0
            },
            "text/plain": [
              "Validation: |          | 0/? [00:00<?, ?it/s]"
            ]
          },
          "metadata": {},
          "output_type": "display_data"
        },
        {
          "data": {
            "application/vnd.jupyter.widget-view+json": {
              "model_id": "a46f1e1787544370bd4ceab3c41449c7",
              "version_major": 2,
              "version_minor": 0
            },
            "text/plain": [
              "Validation: |          | 0/? [00:00<?, ?it/s]"
            ]
          },
          "metadata": {},
          "output_type": "display_data"
        },
        {
          "data": {
            "application/vnd.jupyter.widget-view+json": {
              "model_id": "31970687ed8d4322a07847076edebc87",
              "version_major": 2,
              "version_minor": 0
            },
            "text/plain": [
              "Validation: |          | 0/? [00:00<?, ?it/s]"
            ]
          },
          "metadata": {},
          "output_type": "display_data"
        },
        {
          "data": {
            "application/vnd.jupyter.widget-view+json": {
              "model_id": "e34c3db808584285ad3d30832722d706",
              "version_major": 2,
              "version_minor": 0
            },
            "text/plain": [
              "Validation: |          | 0/? [00:00<?, ?it/s]"
            ]
          },
          "metadata": {},
          "output_type": "display_data"
        },
        {
          "data": {
            "application/vnd.jupyter.widget-view+json": {
              "model_id": "8c1de5b7d6864523a8cec661837885c8",
              "version_major": 2,
              "version_minor": 0
            },
            "text/plain": [
              "Validation: |          | 0/? [00:00<?, ?it/s]"
            ]
          },
          "metadata": {},
          "output_type": "display_data"
        },
        {
          "data": {
            "application/vnd.jupyter.widget-view+json": {
              "model_id": "17c72b0ee7804c61bc937d2002045098",
              "version_major": 2,
              "version_minor": 0
            },
            "text/plain": [
              "Validation: |          | 0/? [00:00<?, ?it/s]"
            ]
          },
          "metadata": {},
          "output_type": "display_data"
        },
        {
          "data": {
            "application/vnd.jupyter.widget-view+json": {
              "model_id": "dd1897b3f34d4bb8ad1add2ad1f63b7d",
              "version_major": 2,
              "version_minor": 0
            },
            "text/plain": [
              "Validation: |          | 0/? [00:00<?, ?it/s]"
            ]
          },
          "metadata": {},
          "output_type": "display_data"
        },
        {
          "data": {
            "application/vnd.jupyter.widget-view+json": {
              "model_id": "2df81ac986c741e58ca5e9c4a285ff81",
              "version_major": 2,
              "version_minor": 0
            },
            "text/plain": [
              "Validation: |          | 0/? [00:00<?, ?it/s]"
            ]
          },
          "metadata": {},
          "output_type": "display_data"
        },
        {
          "data": {
            "application/vnd.jupyter.widget-view+json": {
              "model_id": "4bce73dc99d34d49a3fadb80c36a99a1",
              "version_major": 2,
              "version_minor": 0
            },
            "text/plain": [
              "Validation: |          | 0/? [00:00<?, ?it/s]"
            ]
          },
          "metadata": {},
          "output_type": "display_data"
        },
        {
          "data": {
            "application/vnd.jupyter.widget-view+json": {
              "model_id": "a4689beec2764addbfe31cb8c8d0a006",
              "version_major": 2,
              "version_minor": 0
            },
            "text/plain": [
              "Validation: |          | 0/? [00:00<?, ?it/s]"
            ]
          },
          "metadata": {},
          "output_type": "display_data"
        },
        {
          "data": {
            "application/vnd.jupyter.widget-view+json": {
              "model_id": "a4a60d9d1ae04dc09189bf82fb49ec03",
              "version_major": 2,
              "version_minor": 0
            },
            "text/plain": [
              "Validation: |          | 0/? [00:00<?, ?it/s]"
            ]
          },
          "metadata": {},
          "output_type": "display_data"
        },
        {
          "data": {
            "application/vnd.jupyter.widget-view+json": {
              "model_id": "c711a3b064a44f70b7401732a1ddf7e8",
              "version_major": 2,
              "version_minor": 0
            },
            "text/plain": [
              "Validation: |          | 0/? [00:00<?, ?it/s]"
            ]
          },
          "metadata": {},
          "output_type": "display_data"
        },
        {
          "name": "stderr",
          "output_type": "stream",
          "text": [
            "`Trainer.fit` stopped: `max_epochs=100` reached.\n"
          ]
        }
      ],
      "source": [
        "# fit network\n",
        "trainer.fit(\n",
        "    model,\n",
        "    train_dataloaders=train_dataloader,\n",
        "    val_dataloaders=val_dataloader,\n",
        ")"
      ]
    },
    {
      "cell_type": "code",
      "execution_count": 19,
      "metadata": {},
      "outputs": [
        {
          "name": "stderr",
          "output_type": "stream",
          "text": [
            "/Users/lemarx/anaconda3/envs/Climate_Data/lib/python3.10/site-packages/lightning/pytorch/utilities/parsing.py:199: Attribute 'logging_metrics' is an instance of `nn.Module` and is already saved during checkpointing. It is recommended to ignore them using `self.save_hyperparameters(ignore=['logging_metrics'])`.\n",
            "/Users/lemarx/anaconda3/envs/Climate_Data/lib/python3.10/site-packages/lightning/pytorch/utilities/parsing.py:199: Attribute 'loss' is an instance of `nn.Module` and is already saved during checkpointing. It is recommended to ignore them using `self.save_hyperparameters(ignore=['loss'])`.\n",
            "/Users/lemarx/anaconda3/envs/Climate_Data/lib/python3.10/site-packages/torch/nn/modules/rnn.py:83: UserWarning: dropout option adds dropout after all but last recurrent layer, so non-zero dropout expects num_layers greater than 1, but got dropout=0.3 and num_layers=1\n",
            "  warnings.warn(\"dropout option adds dropout after all but last \"\n"
          ]
        }
      ],
      "source": [
        "best_model_path = trainer.checkpoint_callback.best_model_path\n",
        "#os.path.join(,'lightning_logs','version_9','checkpoints','epoch=9-step=680.ckpt')\n",
        "best_lstm = LSTMModel.load_from_checkpoint(best_model_path)#os.path.join(best_model_path,'lightning_logs','version_24','checkpoints','epoch=19-step=680.ckpt'))"
      ]
    },
    {
      "cell_type": "code",
      "execution_count": 33,
      "metadata": {},
      "outputs": [
        {
          "data": {
            "text/plain": [
              "550"
            ]
          },
          "execution_count": 33,
          "metadata": {},
          "output_type": "execute_result"
        }
      ],
      "source": [
        "test = TimeSeriesDataSet.from_dataset(training,data,min_prediction_idx = val_cutoff,stop_randomization=True)\n",
        "test_dataloader = test.to_dataloader(train=False, batch_size=5, num_workers=2)\n",
        "len(test)"
      ]
    },
    {
      "cell_type": "code",
      "execution_count": 34,
      "metadata": {},
      "outputs": [
        {
          "name": "stderr",
          "output_type": "stream",
          "text": [
            "GPU available: True (mps), used: False\n",
            "TPU available: False, using: 0 TPU cores\n",
            "IPU available: False, using: 0 IPUs\n",
            "HPU available: False, using: 0 HPUs\n",
            "/Users/lemarx/anaconda3/envs/Climate_Data/lib/python3.10/site-packages/lightning/pytorch/trainer/setup.py:187: GPU available but not used. You can set it by doing `Trainer(accelerator='gpu')`.\n",
            "/Users/lemarx/anaconda3/envs/Climate_Data/lib/python3.10/site-packages/lightning/pytorch/trainer/connectors/data_connector.py:436: Consider setting `persistent_workers=True` in 'predict_dataloader' to speed up the dataloader worker initialization.\n"
          ]
        }
      ],
      "source": [
        "predictions = best_lstm.predict(test_dataloader,return_y=True,trainer_kwargs=dict(accelerator=\"cpu\"))\n"
      ]
    },
    {
      "cell_type": "code",
      "execution_count": 45,
      "metadata": {},
      "outputs": [
        {
          "data": {
            "text/plain": [
              "tensor([ 34.5982,  33.9790,  34.9501,  33.7773,  37.2153,  35.2276,  34.9819,\n",
              "         29.3833,  26.8411,  24.4219,  23.4183,  21.8171,  23.1680,  22.5190,\n",
              "         23.8310,  22.3834,  20.9677,  17.6778,  16.1785,  15.7552,  14.7033,\n",
              "         14.0601,  13.4421,  12.9824,  12.3821,  12.3819,  12.1650,  12.3086,\n",
              "         12.4038,  12.1224,  11.8696,  11.9252,  11.7184,  11.5446,  12.6519,\n",
              "         14.5181,  14.9761,  15.2027,  14.2978,  12.5223,  11.3356,  10.7476,\n",
              "         10.5211,  10.3694,  10.7087,  10.6074,  10.2254,   9.5735,   9.3170,\n",
              "          9.2280,   8.9964,   8.8586,   8.8560,   9.0290,   9.2879,  10.0028,\n",
              "         13.7579,  17.4778,  19.6091,  17.3317,  13.4648,  10.9098,  10.2856,\n",
              "         10.8416,  12.3410,  12.4729,  12.0441,  11.8555,  11.6547,  12.9353,\n",
              "         13.9435,  13.2430,  10.7029,   9.6454,   9.2843,  10.4087,  13.1128,\n",
              "         16.5381,  20.7742,  21.1686,  19.4347,  24.9315,  44.3436,  54.6533,\n",
              "         55.0330,  53.7771,  53.8062,  68.1006,  63.5761,  50.0909,  31.6795,\n",
              "         25.0473,  22.9086,  20.0948,  21.0403,  27.2438,  36.8700,  37.2588,\n",
              "         41.0654,  46.3979,  49.9022,  47.4118,  42.8478,  32.9908,  26.6288,\n",
              "         24.4698,  22.4798,  21.4664,  20.8434,  20.2492,  19.7992,  21.4374,\n",
              "         31.3416,  31.5644,  29.8550,  27.5007,  22.9039,  19.4179,  18.8573,\n",
              "         19.6930,  19.7824,  25.8178,  26.2019,  26.7303,  25.5169,  22.8518,\n",
              "         19.8308,  18.6840,  17.9211,  17.8860,  17.5333,  17.2645,  21.7948,\n",
              "         22.1333,  22.9373,  22.5291,  21.1678,  20.5075,  20.8133,  21.5488,\n",
              "         21.1532,  20.2093,  18.5956,  17.6825,  20.1142,  22.1245,  33.5488,\n",
              "         47.5144,  55.2697,  56.5292,  51.9517,  45.9156,  45.7388,  40.2370,\n",
              "         39.3770,  37.4316,  35.0798,  32.3795,  30.7475,  29.8968,  30.3245,\n",
              "         29.2283,  27.9974,  28.3036,  29.3677,  29.4037,  28.1465,  26.6264,\n",
              "         25.4125,  24.1308,  23.5855,  22.1420,  21.0201,  20.7068,  21.6751,\n",
              "         23.2504,  23.1901,  22.9384,  23.4840,  26.5158,  40.5672, 108.0766,\n",
              "        150.8122, 123.0537, 102.9256,  68.4074,  54.2098,  53.0468,  52.1469,\n",
              "         48.9336,  48.5294,  45.5921,  42.9170,  40.9288,  43.5183,  50.4320,\n",
              "         50.8889,  48.9065,  42.7945,  39.7711,  40.7866,  41.8845,  48.8301,\n",
              "         50.2364,  54.5604,  53.7078,  50.6104,  48.2197,  40.4060,  36.0567,\n",
              "         34.1156,  33.2995,  32.5957,  31.8351,  31.4797,  30.9418,  30.1933,\n",
              "         28.9227,  28.3872,  28.4089,  30.4194,  36.3207,  60.2737,  88.6829,\n",
              "        107.2730,  95.4931,  76.5549,  55.0778,  42.0161,  37.8380,  35.6226,\n",
              "         34.4247,  34.4345,  34.7689,  34.7204,  34.6748,  35.4918,  40.0044,\n",
              "         51.0761,  86.5455,  97.9741,  89.1952,  73.6971,  60.0970,  54.6218,\n",
              "         53.3322,  50.8058,  47.4213,  44.1836,  41.5503,  39.9485,  38.4065,\n",
              "         37.5442,  37.0709,  36.4694,  35.4854,  40.2520,  57.3738,  90.8872,\n",
              "         88.1895,  82.5620,  65.9622,  64.4137,  61.4718,  59.7690,  56.6055,\n",
              "         51.1397,  46.2012,  44.4761,  42.7277,  41.1350,  39.3357,  41.5853,\n",
              "         44.0511,  47.8644,  48.8015,  47.8587,  46.8627,  54.8448,  64.7232,\n",
              "         83.3207, 101.4123, 100.9461,  80.8842,  69.4041,  54.5572,  51.9290,\n",
              "         50.0542,  49.1944,  48.8202,  49.9619,  50.8188,  49.0642,  53.6780,\n",
              "         71.8410,  86.0157,  80.8418,  70.6254,  55.7712,  52.1542,  52.1445,\n",
              "         49.9010,  48.2409,  52.1672,  62.6316,  58.9817,  51.4226,  49.0942,\n",
              "         45.4876,  39.9303,  37.9382,  35.9515,  33.8247,  32.3066,  32.4235,\n",
              "         33.8659,  33.7465,  33.4993,  32.7008,  39.3249,  46.3018,  52.1896,\n",
              "         49.1674,  47.8590,  41.0972,  42.1613,  40.0358,  36.4793,  33.9367,\n",
              "         31.9247,  30.9253,  29.9517,  31.2780,  29.3967,  27.7094,  27.0355,\n",
              "         26.8439,  26.7063,  26.3878,  26.5116,  26.4040,  26.5463,  26.4187,\n",
              "         26.2506,  26.0054,  27.6572,  29.1363,  29.5114,  31.3339,  32.6987,\n",
              "         33.0184,  31.9024,  29.9873,  27.7074,  26.8777,  26.3994,  26.4683,\n",
              "         26.3474,  26.4146,  26.9107,  27.0444,  27.0823,  27.4055,  30.8130,\n",
              "         32.7533,  32.6874,  29.9253,  26.9787,  25.2384,  24.0323,  26.8199,\n",
              "         26.3240,  24.7413,  23.2309,  22.4870,  22.9668,  22.0419,  21.8362,\n",
              "         21.5390,  20.9545,  19.7937,  19.1873,  19.3662,  19.5422,  19.7760,\n",
              "         19.4195,  18.7958,  18.4340,  17.6169,  17.1741,  16.5770,  16.0886,\n",
              "         14.8805,  14.5691,  14.6615,  16.2135,  18.0441,  19.3038,  22.1573,\n",
              "         23.5804,  27.8519,  25.5241,  28.6920,  27.9681,  24.2658,  23.6750,\n",
              "         23.4750,  26.6498,  34.5935,  53.6427,  82.4372,  67.9549,  38.8565,\n",
              "         28.8959,  20.4245,  14.7133,  12.6185,  12.1546,  13.6464,  14.5538,\n",
              "         14.6280,  14.0060,  12.7896,  11.4337,   9.9157,   9.4108,   9.1694,\n",
              "         10.6749,  14.0641,  27.5413,  50.8688,  58.3983,  48.3441,  38.3162,\n",
              "         28.1113,  23.8757,  21.6354,  19.6627,  17.9001,  16.6894,  15.9952,\n",
              "         15.4423,  14.9822,  14.7356,  14.4096,  14.7233,  14.6224,  14.5250,\n",
              "         14.5021,  14.2961,  14.5813,  14.4809,  14.3917,  13.9642,  16.1429,\n",
              "         15.7266,  15.5553,  15.3989,  15.1643,  14.4704,  14.0730,  13.8187,\n",
              "         13.9255,  13.8070,  13.8342,  14.3972,  14.2453,  14.0396,  13.9537,\n",
              "         13.8219,  14.3063,  14.4120,  14.1876,  14.0765,  14.4149,  13.7281,\n",
              "         15.1000,  15.6751,  16.2958,  16.2077,  16.1110,  15.1689,  15.2119,\n",
              "         16.8143,  16.3488,  15.5334,  17.6147,  17.7781,  18.6941,  22.4371,\n",
              "         24.3513,  24.2972,  21.7607,  23.5856,  19.5042,  22.6125,  25.7911,\n",
              "         24.2669,  27.6321,  26.8472,  25.2348,  21.2704,  19.2224,  18.1044,\n",
              "         20.4426,  23.0753,  40.1331,  62.4541,  85.3834,  83.4600,  64.0845,\n",
              "         45.0597,  49.6241,  56.1503,  57.8660,  51.0618,  37.2655,  35.1392,\n",
              "         40.4016,  41.6843,  44.1896,  44.4077,  42.1056,  40.0261,  38.4240,\n",
              "         36.2030,  32.5962,  30.9019,  30.5865,  31.0270,  32.3466,  34.2245,\n",
              "         38.7392,  53.8906, 103.8794, 135.6142, 146.3173, 125.2028,  93.6215,\n",
              "         74.7262,  60.5340,  53.2949,  51.2024,  53.6664,  82.8274, 119.2768,\n",
              "        261.9542, 405.6873, 413.7330, 285.7911])"
            ]
          },
          "execution_count": 45,
          "metadata": {},
          "output_type": "execute_result"
        }
      ],
      "source": [
        "predictions.output[:,-5]"
      ]
    },
    {
      "cell_type": "code",
      "execution_count": 41,
      "metadata": {},
      "outputs": [
        {
          "data": {
            "text/plain": [
              "3098     31.133333\n",
              "3099     31.800000\n",
              "3100     31.433333\n",
              "3101     33.066667\n",
              "3102     34.166667\n",
              "           ...    \n",
              "3647    240.000000\n",
              "3648    172.666667\n",
              "3649    126.233333\n",
              "3650    101.333333\n",
              "3651     87.100000\n",
              "Name: 15207507_smooth, Length: 554, dtype: float64"
            ]
          },
          "execution_count": 41,
          "metadata": {},
          "output_type": "execute_result"
        }
      ],
      "source": [
        "stream['15207507_smooth'].iloc[val_cutoff:]"
      ]
    },
    {
      "cell_type": "code",
      "execution_count": 23,
      "metadata": {},
      "outputs": [],
      "source": [
        "def kge(inputs,targets):\n",
        "    r = torch.corrcoef(torch.stack((inputs.squeeze(),targets)))[0][1]\n",
        "    alpha = inputs.std()/targets.std()\n",
        "    beta = inputs.mean()/targets.mean()\n",
        "    kge = torch.sqrt(torch.square(r-1) + torch.square(alpha-1) + torch.square(beta-1))\n",
        "    return 1 - kge"
      ]
    },
    {
      "cell_type": "code",
      "execution_count": 36,
      "metadata": {},
      "outputs": [
        {
          "data": {
            "text/plain": [
              "{'lag: 5': tensor(0.6148, dtype=torch.float64),\n",
              " 'lag: 4': tensor(0.6344, dtype=torch.float64),\n",
              " 'lag: 3': tensor(0.6643, dtype=torch.float64),\n",
              " 'lag: 2': tensor(0.7138, dtype=torch.float64),\n",
              " 'lag: 1': tensor(0.7947, dtype=torch.float64)}"
            ]
          },
          "execution_count": 36,
          "metadata": {},
          "output_type": "execute_result"
        }
      ],
      "source": [
        "results = {}\n",
        "for i in range(predictions.output.size(1)):\n",
        "    if i == 0:\n",
        "        results[f\"lag: {max_pred_len - i }\"] = kge(torch.tensor(stream['15207507_smooth'].iloc[val_cutoff+4 :].values),predictions.output[:,max_pred_len-i-1])\n",
        "        continue\n",
        "    results[f\"lag: {max_pred_len - i}\"] = kge(torch.tensor(stream['15207507_smooth'].iloc[val_cutoff+4 - i:-i].values),predictions.output[:,max_pred_len-i-1])\n",
        "\n",
        "results "
      ]
    },
    {
      "cell_type": "code",
      "execution_count": 47,
      "metadata": {},
      "outputs": [
        {
          "data": {
            "image/png": "[encoded data removed]",
            "text/plain": [
              "<Figure size 2000x600 with 1 Axes>"
            ]
          },
          "metadata": {},
          "output_type": "display_data"
        }
      ],
      "source": [
        "import matplotlib.dates as mdates\n",
        "\n",
        "\n",
        "stream_plot = stream.set_index('Datum')\n",
        "predictions_np = predictions.output[:,max_pred_len-1].numpy()#[:,max_pred_len-1]\n",
        "# true_values_np = predictions.y[0].view(-1, 1).squeeze().numpy()\n",
        "\n",
        "# Plotting\n",
        "\n",
        "plt.figure(figsize=(20, 6))\n",
        "\n",
        "\n",
        "plt.plot(stream_plot.index[-550 - max_pred_len:],stream_plot['15207507_smooth'].iloc[-550 - max_pred_len:].values,  label = 'true values')\n",
        "\n",
        "for i in range(0,5,2):\n",
        "    predictions_np = predictions.output[:,max_pred_len-i-1].numpy()\n",
        "    if i == 0:\n",
        "        plt.plot(stream_plot.index[-550:],predictions_np, label=f\"Predictions Lag :{max_pred_len-i}\")\n",
        "        continue\n",
        "    plt.plot(stream_plot.index[-550-i:-i],predictions_np, label=f\"Predictions Lag :{max_pred_len-i}\")\n",
        "\n",
        "plt.plot(stream_plot.index[-550 - max_pred_len:],stream_plot['15207507_smooth'].iloc[-550 - max_pred_len:].values,  label = 'true values')\n",
        "\n",
        "# plt.plot(stream_plot.index[-184:],predictions_np, label=f\"Predictions Lag :{max_pred_len-1}\")\n",
        "# predictions_np = predictions.output[:,max_pred_len-5].numpy()\n",
        "# plt.plot(stream_plot.index[-184-4:-4],predictions_np, label=f\"Predictions Lag :{max_pred_len-4}\")\n",
        "\n",
        "plt.ylabel('Streamflow [m3/s]')\n",
        "plt.title('Streamflows at Marienthal')\n",
        "\n",
        "plt.gca().xaxis.set_major_locator(mdates.DayLocator(interval=14))\n",
        "plt.legend()\n",
        "plt.xticks(rotation=90)\n",
        "plt.show()"
      ]
    }
  ],
  "metadata": {
    "accelerator": "GPU",
    "colab": {
      "gpuType": "T4",
      "provenance": []
    },
    "kernelspec": {
      "display_name": "Python 3",
      "name": "python3"
    },
    "language_info": {
      "codemirror_mode": {
        "name": "ipython",
        "version": 3
      },
      "file_extension": ".py",
      "mimetype": "text/x-python",
      "name": "python",
      "nbconvert_exporter": "python",
      "pygments_lexer": "ipython3",
      "version": "3.10.14"
    },
    "widgets": {
      "application/vnd.jupyter.widget-state+json": {
        "00a34a6c696547bf8110adb0fc30af24": {
          "model_module": "@jupyter-widgets/controls",
          "model_module_version": "1.5.0",
          "model_name": "HTMLModel",
          "state": {
            "_dom_classes": [],
            "_model_module": "@jupyter-widgets/controls",
            "_model_module_version": "1.5.0",
            "_model_name": "HTMLModel",
            "_view_count": null,
            "_view_module": "@jupyter-widgets/controls",
            "_view_module_version": "1.5.0",
            "_view_name": "HTMLView",
            "description": "",
            "description_tooltip": null,
            "layout": "IPY_MODEL_f4390b524e5f4b2f8697b26cd44f67a2",
            "placeholder": "​",
            "style": "IPY_MODEL_321cf8a8d07949a38953cc95f4dcbd8b",
            "value": "Validation DataLoader 0: 100%"
          }
        },
        "05988a22cb1640b3952429aa6b9cf5b7": {
          "model_module": "@jupyter-widgets/base",
          "model_module_version": "1.2.0",
          "model_name": "LayoutModel",
          "state": {
            "_model_module": "@jupyter-widgets/base",
            "_model_module_version": "1.2.0",
            "_model_name": "LayoutModel",
            "_view_count": null,
            "_view_module": "@jupyter-widgets/base",
            "_view_module_version": "1.2.0",
            "_view_name": "LayoutView",
            "align_content": null,
            "align_items": null,
            "align_self": null,
            "border": null,
            "bottom": null,
            "display": null,
            "flex": null,
            "flex_flow": null,
            "grid_area": null,
            "grid_auto_columns": null,
            "grid_auto_flow": null,
            "grid_auto_rows": null,
            "grid_column": null,
            "grid_gap": null,
            "grid_row": null,
            "grid_template_areas": null,
            "grid_template_columns": null,
            "grid_template_rows": null,
            "height": null,
            "justify_content": null,
            "justify_items": null,
            "left": null,
            "margin": null,
            "max_height": null,
            "max_width": null,
            "min_height": null,
            "min_width": null,
            "object_fit": null,
            "object_position": null,
            "order": null,
            "overflow": null,
            "overflow_x": null,
            "overflow_y": null,
            "padding": null,
            "right": null,
            "top": null,
            "visibility": null,
            "width": null
          }
        },
        "0677595cdb4e4ac79b1a293d352567a9": {
          "model_module": "@jupyter-widgets/controls",
          "model_module_version": "1.5.0",
          "model_name": "HBoxModel",
          "state": {
            "_dom_classes": [],
            "_model_module": "@jupyter-widgets/controls",
            "_model_module_version": "1.5.0",
            "_model_name": "HBoxModel",
            "_view_count": null,
            "_view_module": "@jupyter-widgets/controls",
            "_view_module_version": "1.5.0",
            "_view_name": "HBoxView",
            "box_style": "",
            "children": [
              "IPY_MODEL_7a9939dd658e4499842f400278dad68c",
              "IPY_MODEL_9ce4223726d04b6794a41d27b730e901",
              "IPY_MODEL_d45c99372cc54d208db3fef7aa69134c"
            ],
            "layout": "IPY_MODEL_153b2ed24c4847f6af740ae6e18efb4d"
          }
        },
        "0ffa35cf448a45bf806b61ec23a05121": {
          "model_module": "@jupyter-widgets/controls",
          "model_module_version": "1.5.0",
          "model_name": "HTMLModel",
          "state": {
            "_dom_classes": [],
            "_model_module": "@jupyter-widgets/controls",
            "_model_module_version": "1.5.0",
            "_model_name": "HTMLModel",
            "_view_count": null,
            "_view_module": "@jupyter-widgets/controls",
            "_view_module_version": "1.5.0",
            "_view_name": "HTMLView",
            "description": "",
            "description_tooltip": null,
            "layout": "IPY_MODEL_38419c3d25da483a88337b6bef34ab88",
            "placeholder": "​",
            "style": "IPY_MODEL_864c3ed83c0b4332a82e33a6c46751ef",
            "value": " 6/6 [00:00&lt;00:00, 15.37it/s]"
          }
        },
        "12a2e9e7c20c459d8c6be509e6f75926": {
          "model_module": "@jupyter-widgets/base",
          "model_module_version": "1.2.0",
          "model_name": "LayoutModel",
          "state": {
            "_model_module": "@jupyter-widgets/base",
            "_model_module_version": "1.2.0",
            "_model_name": "LayoutModel",
            "_view_count": null,
            "_view_module": "@jupyter-widgets/base",
            "_view_module_version": "1.2.0",
            "_view_name": "LayoutView",
            "align_content": null,
            "align_items": null,
            "align_self": null,
            "border": null,
            "bottom": null,
            "display": "inline-flex",
            "flex": null,
            "flex_flow": "row wrap",
            "grid_area": null,
            "grid_auto_columns": null,
            "grid_auto_flow": null,
            "grid_auto_rows": null,
            "grid_column": null,
            "grid_gap": null,
            "grid_row": null,
            "grid_template_areas": null,
            "grid_template_columns": null,
            "grid_template_rows": null,
            "height": null,
            "justify_content": null,
            "justify_items": null,
            "left": null,
            "margin": null,
            "max_height": null,
            "max_width": null,
            "min_height": null,
            "min_width": null,
            "object_fit": null,
            "object_position": null,
            "order": null,
            "overflow": null,
            "overflow_x": null,
            "overflow_y": null,
            "padding": null,
            "right": null,
            "top": null,
            "visibility": "hidden",
            "width": "100%"
          }
        },
        "153b2ed24c4847f6af740ae6e18efb4d": {
          "model_module": "@jupyter-widgets/base",
          "model_module_version": "1.2.0",
          "model_name": "LayoutModel",
          "state": {
            "_model_module": "@jupyter-widgets/base",
            "_model_module_version": "1.2.0",
            "_model_name": "LayoutModel",
            "_view_count": null,
            "_view_module": "@jupyter-widgets/base",
            "_view_module_version": "1.2.0",
            "_view_name": "LayoutView",
            "align_content": null,
            "align_items": null,
            "align_self": null,
            "border": null,
            "bottom": null,
            "display": "inline-flex",
            "flex": null,
            "flex_flow": "row wrap",
            "grid_area": null,
            "grid_auto_columns": null,
            "grid_auto_flow": null,
            "grid_auto_rows": null,
            "grid_column": null,
            "grid_gap": null,
            "grid_row": null,
            "grid_template_areas": null,
            "grid_template_columns": null,
            "grid_template_rows": null,
            "height": null,
            "justify_content": null,
            "justify_items": null,
            "left": null,
            "margin": null,
            "max_height": null,
            "max_width": null,
            "min_height": null,
            "min_width": null,
            "object_fit": null,
            "object_position": null,
            "order": null,
            "overflow": null,
            "overflow_x": null,
            "overflow_y": null,
            "padding": null,
            "right": null,
            "top": null,
            "visibility": null,
            "width": "100%"
          }
        },
        "15bb22f09b41419393fd48845c9ce75e": {
          "model_module": "@jupyter-widgets/controls",
          "model_module_version": "1.5.0",
          "model_name": "DescriptionStyleModel",
          "state": {
            "_model_module": "@jupyter-widgets/controls",
            "_model_module_version": "1.5.0",
            "_model_name": "DescriptionStyleModel",
            "_view_count": null,
            "_view_module": "@jupyter-widgets/base",
            "_view_module_version": "1.2.0",
            "_view_name": "StyleView",
            "description_width": ""
          }
        },
        "1a5ceb31bfc045e3876f62e12dcd27ef": {
          "model_module": "@jupyter-widgets/base",
          "model_module_version": "1.2.0",
          "model_name": "LayoutModel",
          "state": {
            "_model_module": "@jupyter-widgets/base",
            "_model_module_version": "1.2.0",
            "_model_name": "LayoutModel",
            "_view_count": null,
            "_view_module": "@jupyter-widgets/base",
            "_view_module_version": "1.2.0",
            "_view_name": "LayoutView",
            "align_content": null,
            "align_items": null,
            "align_self": null,
            "border": null,
            "bottom": null,
            "display": null,
            "flex": null,
            "flex_flow": null,
            "grid_area": null,
            "grid_auto_columns": null,
            "grid_auto_flow": null,
            "grid_auto_rows": null,
            "grid_column": null,
            "grid_gap": null,
            "grid_row": null,
            "grid_template_areas": null,
            "grid_template_columns": null,
            "grid_template_rows": null,
            "height": null,
            "justify_content": null,
            "justify_items": null,
            "left": null,
            "margin": null,
            "max_height": null,
            "max_width": null,
            "min_height": null,
            "min_width": null,
            "object_fit": null,
            "object_position": null,
            "order": null,
            "overflow": null,
            "overflow_x": null,
            "overflow_y": null,
            "padding": null,
            "right": null,
            "top": null,
            "visibility": null,
            "width": null
          }
        },
        "1b0227744a964f79834d5d267414ed08": {
          "model_module": "@jupyter-widgets/controls",
          "model_module_version": "1.5.0",
          "model_name": "DescriptionStyleModel",
          "state": {
            "_model_module": "@jupyter-widgets/controls",
            "_model_module_version": "1.5.0",
            "_model_name": "DescriptionStyleModel",
            "_view_count": null,
            "_view_module": "@jupyter-widgets/base",
            "_view_module_version": "1.2.0",
            "_view_name": "StyleView",
            "description_width": ""
          }
        },
        "1dca35f306144bc5b014123c25d8cd17": {
          "model_module": "@jupyter-widgets/controls",
          "model_module_version": "1.5.0",
          "model_name": "FloatProgressModel",
          "state": {
            "_dom_classes": [],
            "_model_module": "@jupyter-widgets/controls",
            "_model_module_version": "1.5.0",
            "_model_name": "FloatProgressModel",
            "_view_count": null,
            "_view_module": "@jupyter-widgets/controls",
            "_view_module_version": "1.5.0",
            "_view_name": "ProgressView",
            "bar_style": "",
            "description": "",
            "description_tooltip": null,
            "layout": "IPY_MODEL_c9a3b5763b264c22951252bce67252cd",
            "max": 6,
            "min": 0,
            "orientation": "horizontal",
            "style": "IPY_MODEL_cebae67c3da34f62990459668c3ae321",
            "value": 6
          }
        },
        "20ed439774944b5880622e4f4024670f": {
          "model_module": "@jupyter-widgets/controls",
          "model_module_version": "1.5.0",
          "model_name": "DescriptionStyleModel",
          "state": {
            "_model_module": "@jupyter-widgets/controls",
            "_model_module_version": "1.5.0",
            "_model_name": "DescriptionStyleModel",
            "_view_count": null,
            "_view_module": "@jupyter-widgets/base",
            "_view_module_version": "1.2.0",
            "_view_name": "StyleView",
            "description_width": ""
          }
        },
        "212d536d6e114cf580cc7fe6788b3ca9": {
          "model_module": "@jupyter-widgets/controls",
          "model_module_version": "1.5.0",
          "model_name": "DescriptionStyleModel",
          "state": {
            "_model_module": "@jupyter-widgets/controls",
            "_model_module_version": "1.5.0",
            "_model_name": "DescriptionStyleModel",
            "_view_count": null,
            "_view_module": "@jupyter-widgets/base",
            "_view_module_version": "1.2.0",
            "_view_name": "StyleView",
            "description_width": ""
          }
        },
        "216448241ed04ee6b9e3faae8752379d": {
          "model_module": "@jupyter-widgets/controls",
          "model_module_version": "1.5.0",
          "model_name": "ProgressStyleModel",
          "state": {
            "_model_module": "@jupyter-widgets/controls",
            "_model_module_version": "1.5.0",
            "_model_name": "ProgressStyleModel",
            "_view_count": null,
            "_view_module": "@jupyter-widgets/base",
            "_view_module_version": "1.2.0",
            "_view_name": "StyleView",
            "bar_color": null,
            "description_width": ""
          }
        },
        "252ef258a00e4c6dba35ac19bfc3f7b1": {
          "model_module": "@jupyter-widgets/controls",
          "model_module_version": "1.5.0",
          "model_name": "DescriptionStyleModel",
          "state": {
            "_model_module": "@jupyter-widgets/controls",
            "_model_module_version": "1.5.0",
            "_model_name": "DescriptionStyleModel",
            "_view_count": null,
            "_view_module": "@jupyter-widgets/base",
            "_view_module_version": "1.2.0",
            "_view_name": "StyleView",
            "description_width": ""
          }
        },
        "2938faf22ece41e9a8db7bb9f7771787": {
          "model_module": "@jupyter-widgets/controls",
          "model_module_version": "1.5.0",
          "model_name": "ProgressStyleModel",
          "state": {
            "_model_module": "@jupyter-widgets/controls",
            "_model_module_version": "1.5.0",
            "_model_name": "ProgressStyleModel",
            "_view_count": null,
            "_view_module": "@jupyter-widgets/base",
            "_view_module_version": "1.2.0",
            "_view_name": "StyleView",
            "bar_color": null,
            "description_width": ""
          }
        },
        "2ac8484740a446159b98208add211630": {
          "model_module": "@jupyter-widgets/base",
          "model_module_version": "1.2.0",
          "model_name": "LayoutModel",
          "state": {
            "_model_module": "@jupyter-widgets/base",
            "_model_module_version": "1.2.0",
            "_model_name": "LayoutModel",
            "_view_count": null,
            "_view_module": "@jupyter-widgets/base",
            "_view_module_version": "1.2.0",
            "_view_name": "LayoutView",
            "align_content": null,
            "align_items": null,
            "align_self": null,
            "border": null,
            "bottom": null,
            "display": "inline-flex",
            "flex": null,
            "flex_flow": "row wrap",
            "grid_area": null,
            "grid_auto_columns": null,
            "grid_auto_flow": null,
            "grid_auto_rows": null,
            "grid_column": null,
            "grid_gap": null,
            "grid_row": null,
            "grid_template_areas": null,
            "grid_template_columns": null,
            "grid_template_rows": null,
            "height": null,
            "justify_content": null,
            "justify_items": null,
            "left": null,
            "margin": null,
            "max_height": null,
            "max_width": null,
            "min_height": null,
            "min_width": null,
            "object_fit": null,
            "object_position": null,
            "order": null,
            "overflow": null,
            "overflow_x": null,
            "overflow_y": null,
            "padding": null,
            "right": null,
            "top": null,
            "visibility": "hidden",
            "width": "100%"
          }
        },
        "2ea4960e4779454baaf2d4d3df417179": {
          "model_module": "@jupyter-widgets/base",
          "model_module_version": "1.2.0",
          "model_name": "LayoutModel",
          "state": {
            "_model_module": "@jupyter-widgets/base",
            "_model_module_version": "1.2.0",
            "_model_name": "LayoutModel",
            "_view_count": null,
            "_view_module": "@jupyter-widgets/base",
            "_view_module_version": "1.2.0",
            "_view_name": "LayoutView",
            "align_content": null,
            "align_items": null,
            "align_self": null,
            "border": null,
            "bottom": null,
            "display": null,
            "flex": null,
            "flex_flow": null,
            "grid_area": null,
            "grid_auto_columns": null,
            "grid_auto_flow": null,
            "grid_auto_rows": null,
            "grid_column": null,
            "grid_gap": null,
            "grid_row": null,
            "grid_template_areas": null,
            "grid_template_columns": null,
            "grid_template_rows": null,
            "height": null,
            "justify_content": null,
            "justify_items": null,
            "left": null,
            "margin": null,
            "max_height": null,
            "max_width": null,
            "min_height": null,
            "min_width": null,
            "object_fit": null,
            "object_position": null,
            "order": null,
            "overflow": null,
            "overflow_x": null,
            "overflow_y": null,
            "padding": null,
            "right": null,
            "top": null,
            "visibility": null,
            "width": null
          }
        },
        "30ae0d5c59e5422e8f15b50c2b138caf": {
          "model_module": "@jupyter-widgets/base",
          "model_module_version": "1.2.0",
          "model_name": "LayoutModel",
          "state": {
            "_model_module": "@jupyter-widgets/base",
            "_model_module_version": "1.2.0",
            "_model_name": "LayoutModel",
            "_view_count": null,
            "_view_module": "@jupyter-widgets/base",
            "_view_module_version": "1.2.0",
            "_view_name": "LayoutView",
            "align_content": null,
            "align_items": null,
            "align_self": null,
            "border": null,
            "bottom": null,
            "display": null,
            "flex": null,
            "flex_flow": null,
            "grid_area": null,
            "grid_auto_columns": null,
            "grid_auto_flow": null,
            "grid_auto_rows": null,
            "grid_column": null,
            "grid_gap": null,
            "grid_row": null,
            "grid_template_areas": null,
            "grid_template_columns": null,
            "grid_template_rows": null,
            "height": null,
            "justify_content": null,
            "justify_items": null,
            "left": null,
            "margin": null,
            "max_height": null,
            "max_width": null,
            "min_height": null,
            "min_width": null,
            "object_fit": null,
            "object_position": null,
            "order": null,
            "overflow": null,
            "overflow_x": null,
            "overflow_y": null,
            "padding": null,
            "right": null,
            "top": null,
            "visibility": null,
            "width": null
          }
        },
        "3185b94fa0a7484283a3ee2fb049c5aa": {
          "model_module": "@jupyter-widgets/base",
          "model_module_version": "1.2.0",
          "model_name": "LayoutModel",
          "state": {
            "_model_module": "@jupyter-widgets/base",
            "_model_module_version": "1.2.0",
            "_model_name": "LayoutModel",
            "_view_count": null,
            "_view_module": "@jupyter-widgets/base",
            "_view_module_version": "1.2.0",
            "_view_name": "LayoutView",
            "align_content": null,
            "align_items": null,
            "align_self": null,
            "border": null,
            "bottom": null,
            "display": null,
            "flex": "2",
            "flex_flow": null,
            "grid_area": null,
            "grid_auto_columns": null,
            "grid_auto_flow": null,
            "grid_auto_rows": null,
            "grid_column": null,
            "grid_gap": null,
            "grid_row": null,
            "grid_template_areas": null,
            "grid_template_columns": null,
            "grid_template_rows": null,
            "height": null,
            "justify_content": null,
            "justify_items": null,
            "left": null,
            "margin": null,
            "max_height": null,
            "max_width": null,
            "min_height": null,
            "min_width": null,
            "object_fit": null,
            "object_position": null,
            "order": null,
            "overflow": null,
            "overflow_x": null,
            "overflow_y": null,
            "padding": null,
            "right": null,
            "top": null,
            "visibility": null,
            "width": null
          }
        },
        "321cf8a8d07949a38953cc95f4dcbd8b": {
          "model_module": "@jupyter-widgets/controls",
          "model_module_version": "1.5.0",
          "model_name": "DescriptionStyleModel",
          "state": {
            "_model_module": "@jupyter-widgets/controls",
            "_model_module_version": "1.5.0",
            "_model_name": "DescriptionStyleModel",
            "_view_count": null,
            "_view_module": "@jupyter-widgets/base",
            "_view_module_version": "1.2.0",
            "_view_name": "StyleView",
            "description_width": ""
          }
        },
        "3366b3fba2454d68b9da10ecd76e5a03": {
          "model_module": "@jupyter-widgets/base",
          "model_module_version": "1.2.0",
          "model_name": "LayoutModel",
          "state": {
            "_model_module": "@jupyter-widgets/base",
            "_model_module_version": "1.2.0",
            "_model_name": "LayoutModel",
            "_view_count": null,
            "_view_module": "@jupyter-widgets/base",
            "_view_module_version": "1.2.0",
            "_view_name": "LayoutView",
            "align_content": null,
            "align_items": null,
            "align_self": null,
            "border": null,
            "bottom": null,
            "display": "inline-flex",
            "flex": null,
            "flex_flow": "row wrap",
            "grid_area": null,
            "grid_auto_columns": null,
            "grid_auto_flow": null,
            "grid_auto_rows": null,
            "grid_column": null,
            "grid_gap": null,
            "grid_row": null,
            "grid_template_areas": null,
            "grid_template_columns": null,
            "grid_template_rows": null,
            "height": null,
            "justify_content": null,
            "justify_items": null,
            "left": null,
            "margin": null,
            "max_height": null,
            "max_width": null,
            "min_height": null,
            "min_width": null,
            "object_fit": null,
            "object_position": null,
            "order": null,
            "overflow": null,
            "overflow_x": null,
            "overflow_y": null,
            "padding": null,
            "right": null,
            "top": null,
            "visibility": "hidden",
            "width": "100%"
          }
        },
        "351514beda27466f84484f37955862a0": {
          "model_module": "@jupyter-widgets/controls",
          "model_module_version": "1.5.0",
          "model_name": "DescriptionStyleModel",
          "state": {
            "_model_module": "@jupyter-widgets/controls",
            "_model_module_version": "1.5.0",
            "_model_name": "DescriptionStyleModel",
            "_view_count": null,
            "_view_module": "@jupyter-widgets/base",
            "_view_module_version": "1.2.0",
            "_view_name": "StyleView",
            "description_width": ""
          }
        },
        "367d48cab5074d839ba34a6f1803a66c": {
          "model_module": "@jupyter-widgets/controls",
          "model_module_version": "1.5.0",
          "model_name": "HBoxModel",
          "state": {
            "_dom_classes": [],
            "_model_module": "@jupyter-widgets/controls",
            "_model_module_version": "1.5.0",
            "_model_name": "HBoxModel",
            "_view_count": null,
            "_view_module": "@jupyter-widgets/controls",
            "_view_module_version": "1.5.0",
            "_view_name": "HBoxView",
            "box_style": "",
            "children": [
              "IPY_MODEL_00a34a6c696547bf8110adb0fc30af24",
              "IPY_MODEL_841294d6505e4de598ed949acbc35a93",
              "IPY_MODEL_0ffa35cf448a45bf806b61ec23a05121"
            ],
            "layout": "IPY_MODEL_fb7300d0e5634b75957bd2df4fa44004"
          }
        },
        "38419c3d25da483a88337b6bef34ab88": {
          "model_module": "@jupyter-widgets/base",
          "model_module_version": "1.2.0",
          "model_name": "LayoutModel",
          "state": {
            "_model_module": "@jupyter-widgets/base",
            "_model_module_version": "1.2.0",
            "_model_name": "LayoutModel",
            "_view_count": null,
            "_view_module": "@jupyter-widgets/base",
            "_view_module_version": "1.2.0",
            "_view_name": "LayoutView",
            "align_content": null,
            "align_items": null,
            "align_self": null,
            "border": null,
            "bottom": null,
            "display": null,
            "flex": null,
            "flex_flow": null,
            "grid_area": null,
            "grid_auto_columns": null,
            "grid_auto_flow": null,
            "grid_auto_rows": null,
            "grid_column": null,
            "grid_gap": null,
            "grid_row": null,
            "grid_template_areas": null,
            "grid_template_columns": null,
            "grid_template_rows": null,
            "height": null,
            "justify_content": null,
            "justify_items": null,
            "left": null,
            "margin": null,
            "max_height": null,
            "max_width": null,
            "min_height": null,
            "min_width": null,
            "object_fit": null,
            "object_position": null,
            "order": null,
            "overflow": null,
            "overflow_x": null,
            "overflow_y": null,
            "padding": null,
            "right": null,
            "top": null,
            "visibility": null,
            "width": null
          }
        },
        "3869bb97483f40e68105d69f15e292fc": {
          "model_module": "@jupyter-widgets/controls",
          "model_module_version": "1.5.0",
          "model_name": "HTMLModel",
          "state": {
            "_dom_classes": [],
            "_model_module": "@jupyter-widgets/controls",
            "_model_module_version": "1.5.0",
            "_model_name": "HTMLModel",
            "_view_count": null,
            "_view_module": "@jupyter-widgets/controls",
            "_view_module_version": "1.5.0",
            "_view_name": "HTMLView",
            "description": "",
            "description_tooltip": null,
            "layout": "IPY_MODEL_6d62b87a583f425a867890f4bace7a8e",
            "placeholder": "​",
            "style": "IPY_MODEL_252ef258a00e4c6dba35ac19bfc3f7b1",
            "value": " 6/6 [00:00&lt;00:00, 14.67it/s]"
          }
        },
        "3876c888dd6145af9ad229f6d5772267": {
          "model_module": "@jupyter-widgets/controls",
          "model_module_version": "1.5.0",
          "model_name": "HBoxModel",
          "state": {
            "_dom_classes": [],
            "_model_module": "@jupyter-widgets/controls",
            "_model_module_version": "1.5.0",
            "_model_name": "HBoxModel",
            "_view_count": null,
            "_view_module": "@jupyter-widgets/controls",
            "_view_module_version": "1.5.0",
            "_view_name": "HBoxView",
            "box_style": "",
            "children": [
              "IPY_MODEL_85ab260a49254f7d87036f75b6447482",
              "IPY_MODEL_7621132427964ba285c77163bbe6f663",
              "IPY_MODEL_e49e76c683fe4e999b86ff66c8c1dcc5"
            ],
            "layout": "IPY_MODEL_b0fbb64ef0244723b5e5639c0037b593"
          }
        },
        "3ebaefbf813e46a78fc7e4db4065c562": {
          "model_module": "@jupyter-widgets/controls",
          "model_module_version": "1.5.0",
          "model_name": "HBoxModel",
          "state": {
            "_dom_classes": [],
            "_model_module": "@jupyter-widgets/controls",
            "_model_module_version": "1.5.0",
            "_model_name": "HBoxModel",
            "_view_count": null,
            "_view_module": "@jupyter-widgets/controls",
            "_view_module_version": "1.5.0",
            "_view_name": "HBoxView",
            "box_style": "",
            "children": [
              "IPY_MODEL_cdbce62b91594f1cbe1f7c741f955e7c",
              "IPY_MODEL_9b0299ef08494edd892de94868f2a490",
              "IPY_MODEL_5d23a2898dab440280d443129bebcb77"
            ],
            "layout": "IPY_MODEL_2ac8484740a446159b98208add211630"
          }
        },
        "3f7e544c55504f83bcc37201f1d47a5c": {
          "model_module": "@jupyter-widgets/base",
          "model_module_version": "1.2.0",
          "model_name": "LayoutModel",
          "state": {
            "_model_module": "@jupyter-widgets/base",
            "_model_module_version": "1.2.0",
            "_model_name": "LayoutModel",
            "_view_count": null,
            "_view_module": "@jupyter-widgets/base",
            "_view_module_version": "1.2.0",
            "_view_name": "LayoutView",
            "align_content": null,
            "align_items": null,
            "align_self": null,
            "border": null,
            "bottom": null,
            "display": null,
            "flex": null,
            "flex_flow": null,
            "grid_area": null,
            "grid_auto_columns": null,
            "grid_auto_flow": null,
            "grid_auto_rows": null,
            "grid_column": null,
            "grid_gap": null,
            "grid_row": null,
            "grid_template_areas": null,
            "grid_template_columns": null,
            "grid_template_rows": null,
            "height": null,
            "justify_content": null,
            "justify_items": null,
            "left": null,
            "margin": null,
            "max_height": null,
            "max_width": null,
            "min_height": null,
            "min_width": null,
            "object_fit": null,
            "object_position": null,
            "order": null,
            "overflow": null,
            "overflow_x": null,
            "overflow_y": null,
            "padding": null,
            "right": null,
            "top": null,
            "visibility": null,
            "width": null
          }
        },
        "4715f50aaf33407eb6d6438b14c11137": {
          "model_module": "@jupyter-widgets/base",
          "model_module_version": "1.2.0",
          "model_name": "LayoutModel",
          "state": {
            "_model_module": "@jupyter-widgets/base",
            "_model_module_version": "1.2.0",
            "_model_name": "LayoutModel",
            "_view_count": null,
            "_view_module": "@jupyter-widgets/base",
            "_view_module_version": "1.2.0",
            "_view_name": "LayoutView",
            "align_content": null,
            "align_items": null,
            "align_self": null,
            "border": null,
            "bottom": null,
            "display": null,
            "flex": null,
            "flex_flow": null,
            "grid_area": null,
            "grid_auto_columns": null,
            "grid_auto_flow": null,
            "grid_auto_rows": null,
            "grid_column": null,
            "grid_gap": null,
            "grid_row": null,
            "grid_template_areas": null,
            "grid_template_columns": null,
            "grid_template_rows": null,
            "height": null,
            "justify_content": null,
            "justify_items": null,
            "left": null,
            "margin": null,
            "max_height": null,
            "max_width": null,
            "min_height": null,
            "min_width": null,
            "object_fit": null,
            "object_position": null,
            "order": null,
            "overflow": null,
            "overflow_x": null,
            "overflow_y": null,
            "padding": null,
            "right": null,
            "top": null,
            "visibility": null,
            "width": null
          }
        },
        "47e7514f5a9d4ea19491de6b1471070b": {
          "model_module": "@jupyter-widgets/base",
          "model_module_version": "1.2.0",
          "model_name": "LayoutModel",
          "state": {
            "_model_module": "@jupyter-widgets/base",
            "_model_module_version": "1.2.0",
            "_model_name": "LayoutModel",
            "_view_count": null,
            "_view_module": "@jupyter-widgets/base",
            "_view_module_version": "1.2.0",
            "_view_name": "LayoutView",
            "align_content": null,
            "align_items": null,
            "align_self": null,
            "border": null,
            "bottom": null,
            "display": null,
            "flex": "2",
            "flex_flow": null,
            "grid_area": null,
            "grid_auto_columns": null,
            "grid_auto_flow": null,
            "grid_auto_rows": null,
            "grid_column": null,
            "grid_gap": null,
            "grid_row": null,
            "grid_template_areas": null,
            "grid_template_columns": null,
            "grid_template_rows": null,
            "height": null,
            "justify_content": null,
            "justify_items": null,
            "left": null,
            "margin": null,
            "max_height": null,
            "max_width": null,
            "min_height": null,
            "min_width": null,
            "object_fit": null,
            "object_position": null,
            "order": null,
            "overflow": null,
            "overflow_x": null,
            "overflow_y": null,
            "padding": null,
            "right": null,
            "top": null,
            "visibility": null,
            "width": null
          }
        },
        "48cbc40b31a243e6a08617c5103ef033": {
          "model_module": "@jupyter-widgets/controls",
          "model_module_version": "1.5.0",
          "model_name": "HTMLModel",
          "state": {
            "_dom_classes": [],
            "_model_module": "@jupyter-widgets/controls",
            "_model_module_version": "1.5.0",
            "_model_name": "HTMLModel",
            "_view_count": null,
            "_view_module": "@jupyter-widgets/controls",
            "_view_module_version": "1.5.0",
            "_view_name": "HTMLView",
            "description": "",
            "description_tooltip": null,
            "layout": "IPY_MODEL_3f7e544c55504f83bcc37201f1d47a5c",
            "placeholder": "​",
            "style": "IPY_MODEL_a483c0c05f3b4a589d66cf429fbed99b",
            "value": " 2/2 [00:00&lt;00:00,  8.42it/s]"
          }
        },
        "4cdcfe2ceac7440b93f455cb2c69bc1a": {
          "model_module": "@jupyter-widgets/base",
          "model_module_version": "1.2.0",
          "model_name": "LayoutModel",
          "state": {
            "_model_module": "@jupyter-widgets/base",
            "_model_module_version": "1.2.0",
            "_model_name": "LayoutModel",
            "_view_count": null,
            "_view_module": "@jupyter-widgets/base",
            "_view_module_version": "1.2.0",
            "_view_name": "LayoutView",
            "align_content": null,
            "align_items": null,
            "align_self": null,
            "border": null,
            "bottom": null,
            "display": "inline-flex",
            "flex": null,
            "flex_flow": "row wrap",
            "grid_area": null,
            "grid_auto_columns": null,
            "grid_auto_flow": null,
            "grid_auto_rows": null,
            "grid_column": null,
            "grid_gap": null,
            "grid_row": null,
            "grid_template_areas": null,
            "grid_template_columns": null,
            "grid_template_rows": null,
            "height": null,
            "justify_content": null,
            "justify_items": null,
            "left": null,
            "margin": null,
            "max_height": null,
            "max_width": null,
            "min_height": null,
            "min_width": null,
            "object_fit": null,
            "object_position": null,
            "order": null,
            "overflow": null,
            "overflow_x": null,
            "overflow_y": null,
            "padding": null,
            "right": null,
            "top": null,
            "visibility": "hidden",
            "width": "100%"
          }
        },
        "4d8f6e1631884dd493aadcd3b869dc6e": {
          "model_module": "@jupyter-widgets/controls",
          "model_module_version": "1.5.0",
          "model_name": "HBoxModel",
          "state": {
            "_dom_classes": [],
            "_model_module": "@jupyter-widgets/controls",
            "_model_module_version": "1.5.0",
            "_model_name": "HBoxModel",
            "_view_count": null,
            "_view_module": "@jupyter-widgets/controls",
            "_view_module_version": "1.5.0",
            "_view_name": "HBoxView",
            "box_style": "",
            "children": [
              "IPY_MODEL_c2518ec19797425088cbd4eaf3d58616",
              "IPY_MODEL_a5d6766bde214c739b390153e20f9fdf",
              "IPY_MODEL_48cbc40b31a243e6a08617c5103ef033"
            ],
            "layout": "IPY_MODEL_3366b3fba2454d68b9da10ecd76e5a03"
          }
        },
        "5d23a2898dab440280d443129bebcb77": {
          "model_module": "@jupyter-widgets/controls",
          "model_module_version": "1.5.0",
          "model_name": "HTMLModel",
          "state": {
            "_dom_classes": [],
            "_model_module": "@jupyter-widgets/controls",
            "_model_module_version": "1.5.0",
            "_model_name": "HTMLModel",
            "_view_count": null,
            "_view_module": "@jupyter-widgets/controls",
            "_view_module_version": "1.5.0",
            "_view_name": "HTMLView",
            "description": "",
            "description_tooltip": null,
            "layout": "IPY_MODEL_cbfe76bb175e402296f75703f04eefdb",
            "placeholder": "​",
            "style": "IPY_MODEL_91a7e268325a4c6c9f0d21adebcba1bc",
            "value": " 6/6 [00:00&lt;00:00, 16.82it/s]"
          }
        },
        "65d79eebff5c43e7b2e6c0bcf01fdae8": {
          "model_module": "@jupyter-widgets/base",
          "model_module_version": "1.2.0",
          "model_name": "LayoutModel",
          "state": {
            "_model_module": "@jupyter-widgets/base",
            "_model_module_version": "1.2.0",
            "_model_name": "LayoutModel",
            "_view_count": null,
            "_view_module": "@jupyter-widgets/base",
            "_view_module_version": "1.2.0",
            "_view_name": "LayoutView",
            "align_content": null,
            "align_items": null,
            "align_self": null,
            "border": null,
            "bottom": null,
            "display": null,
            "flex": "2",
            "flex_flow": null,
            "grid_area": null,
            "grid_auto_columns": null,
            "grid_auto_flow": null,
            "grid_auto_rows": null,
            "grid_column": null,
            "grid_gap": null,
            "grid_row": null,
            "grid_template_areas": null,
            "grid_template_columns": null,
            "grid_template_rows": null,
            "height": null,
            "justify_content": null,
            "justify_items": null,
            "left": null,
            "margin": null,
            "max_height": null,
            "max_width": null,
            "min_height": null,
            "min_width": null,
            "object_fit": null,
            "object_position": null,
            "order": null,
            "overflow": null,
            "overflow_x": null,
            "overflow_y": null,
            "padding": null,
            "right": null,
            "top": null,
            "visibility": null,
            "width": null
          }
        },
        "68025f6ce7a34845bfdfbe11a09b4537": {
          "model_module": "@jupyter-widgets/controls",
          "model_module_version": "1.5.0",
          "model_name": "HTMLModel",
          "state": {
            "_dom_classes": [],
            "_model_module": "@jupyter-widgets/controls",
            "_model_module_version": "1.5.0",
            "_model_name": "HTMLModel",
            "_view_count": null,
            "_view_module": "@jupyter-widgets/controls",
            "_view_module_version": "1.5.0",
            "_view_name": "HTMLView",
            "description": "",
            "description_tooltip": null,
            "layout": "IPY_MODEL_86bbc21136d2406cadd74399bf7f993a",
            "placeholder": "​",
            "style": "IPY_MODEL_212d536d6e114cf580cc7fe6788b3ca9",
            "value": " 6/6 [00:00&lt;00:00, 13.49it/s]"
          }
        },
        "6d62b87a583f425a867890f4bace7a8e": {
          "model_module": "@jupyter-widgets/base",
          "model_module_version": "1.2.0",
          "model_name": "LayoutModel",
          "state": {
            "_model_module": "@jupyter-widgets/base",
            "_model_module_version": "1.2.0",
            "_model_name": "LayoutModel",
            "_view_count": null,
            "_view_module": "@jupyter-widgets/base",
            "_view_module_version": "1.2.0",
            "_view_name": "LayoutView",
            "align_content": null,
            "align_items": null,
            "align_self": null,
            "border": null,
            "bottom": null,
            "display": null,
            "flex": null,
            "flex_flow": null,
            "grid_area": null,
            "grid_auto_columns": null,
            "grid_auto_flow": null,
            "grid_auto_rows": null,
            "grid_column": null,
            "grid_gap": null,
            "grid_row": null,
            "grid_template_areas": null,
            "grid_template_columns": null,
            "grid_template_rows": null,
            "height": null,
            "justify_content": null,
            "justify_items": null,
            "left": null,
            "margin": null,
            "max_height": null,
            "max_width": null,
            "min_height": null,
            "min_width": null,
            "object_fit": null,
            "object_position": null,
            "order": null,
            "overflow": null,
            "overflow_x": null,
            "overflow_y": null,
            "padding": null,
            "right": null,
            "top": null,
            "visibility": null,
            "width": null
          }
        },
        "7621132427964ba285c77163bbe6f663": {
          "model_module": "@jupyter-widgets/controls",
          "model_module_version": "1.5.0",
          "model_name": "FloatProgressModel",
          "state": {
            "_dom_classes": [],
            "_model_module": "@jupyter-widgets/controls",
            "_model_module_version": "1.5.0",
            "_model_name": "FloatProgressModel",
            "_view_count": null,
            "_view_module": "@jupyter-widgets/controls",
            "_view_module_version": "1.5.0",
            "_view_name": "ProgressView",
            "bar_style": "",
            "description": "",
            "description_tooltip": null,
            "layout": "IPY_MODEL_feae7a312c2a466cb664a1faab56518b",
            "max": 6,
            "min": 0,
            "orientation": "horizontal",
            "style": "IPY_MODEL_b286b1b494bb4b8882790f6dece6c233",
            "value": 6
          }
        },
        "7a3e4000551c4d4ab9986a27a656a188": {
          "model_module": "@jupyter-widgets/controls",
          "model_module_version": "1.5.0",
          "model_name": "DescriptionStyleModel",
          "state": {
            "_model_module": "@jupyter-widgets/controls",
            "_model_module_version": "1.5.0",
            "_model_name": "DescriptionStyleModel",
            "_view_count": null,
            "_view_module": "@jupyter-widgets/base",
            "_view_module_version": "1.2.0",
            "_view_name": "StyleView",
            "description_width": ""
          }
        },
        "7a587e4acc1d4a5e8d47daf2b90bd93f": {
          "model_module": "@jupyter-widgets/base",
          "model_module_version": "1.2.0",
          "model_name": "LayoutModel",
          "state": {
            "_model_module": "@jupyter-widgets/base",
            "_model_module_version": "1.2.0",
            "_model_name": "LayoutModel",
            "_view_count": null,
            "_view_module": "@jupyter-widgets/base",
            "_view_module_version": "1.2.0",
            "_view_name": "LayoutView",
            "align_content": null,
            "align_items": null,
            "align_self": null,
            "border": null,
            "bottom": null,
            "display": null,
            "flex": null,
            "flex_flow": null,
            "grid_area": null,
            "grid_auto_columns": null,
            "grid_auto_flow": null,
            "grid_auto_rows": null,
            "grid_column": null,
            "grid_gap": null,
            "grid_row": null,
            "grid_template_areas": null,
            "grid_template_columns": null,
            "grid_template_rows": null,
            "height": null,
            "justify_content": null,
            "justify_items": null,
            "left": null,
            "margin": null,
            "max_height": null,
            "max_width": null,
            "min_height": null,
            "min_width": null,
            "object_fit": null,
            "object_position": null,
            "order": null,
            "overflow": null,
            "overflow_x": null,
            "overflow_y": null,
            "padding": null,
            "right": null,
            "top": null,
            "visibility": null,
            "width": null
          }
        },
        "7a9939dd658e4499842f400278dad68c": {
          "model_module": "@jupyter-widgets/controls",
          "model_module_version": "1.5.0",
          "model_name": "HTMLModel",
          "state": {
            "_dom_classes": [],
            "_model_module": "@jupyter-widgets/controls",
            "_model_module_version": "1.5.0",
            "_model_name": "HTMLModel",
            "_view_count": null,
            "_view_module": "@jupyter-widgets/controls",
            "_view_module_version": "1.5.0",
            "_view_name": "HTMLView",
            "description": "",
            "description_tooltip": null,
            "layout": "IPY_MODEL_4715f50aaf33407eb6d6438b14c11137",
            "placeholder": "​",
            "style": "IPY_MODEL_7a3e4000551c4d4ab9986a27a656a188",
            "value": "Epoch 5:   0%"
          }
        },
        "81e421949501484aa77aa0e4226c996e": {
          "model_module": "@jupyter-widgets/controls",
          "model_module_version": "1.5.0",
          "model_name": "FloatProgressModel",
          "state": {
            "_dom_classes": [],
            "_model_module": "@jupyter-widgets/controls",
            "_model_module_version": "1.5.0",
            "_model_name": "FloatProgressModel",
            "_view_count": null,
            "_view_module": "@jupyter-widgets/controls",
            "_view_module_version": "1.5.0",
            "_view_name": "ProgressView",
            "bar_style": "",
            "description": "",
            "description_tooltip": null,
            "layout": "IPY_MODEL_3185b94fa0a7484283a3ee2fb049c5aa",
            "max": 6,
            "min": 0,
            "orientation": "horizontal",
            "style": "IPY_MODEL_ba554fe701db4b62b34a914b6375387e",
            "value": 6
          }
        },
        "841294d6505e4de598ed949acbc35a93": {
          "model_module": "@jupyter-widgets/controls",
          "model_module_version": "1.5.0",
          "model_name": "FloatProgressModel",
          "state": {
            "_dom_classes": [],
            "_model_module": "@jupyter-widgets/controls",
            "_model_module_version": "1.5.0",
            "_model_name": "FloatProgressModel",
            "_view_count": null,
            "_view_module": "@jupyter-widgets/controls",
            "_view_module_version": "1.5.0",
            "_view_name": "ProgressView",
            "bar_style": "",
            "description": "",
            "description_tooltip": null,
            "layout": "IPY_MODEL_47e7514f5a9d4ea19491de6b1471070b",
            "max": 6,
            "min": 0,
            "orientation": "horizontal",
            "style": "IPY_MODEL_cba9c185689c42c6a620c9d4c4be5662",
            "value": 6
          }
        },
        "85ab260a49254f7d87036f75b6447482": {
          "model_module": "@jupyter-widgets/controls",
          "model_module_version": "1.5.0",
          "model_name": "HTMLModel",
          "state": {
            "_dom_classes": [],
            "_model_module": "@jupyter-widgets/controls",
            "_model_module_version": "1.5.0",
            "_model_name": "HTMLModel",
            "_view_count": null,
            "_view_module": "@jupyter-widgets/controls",
            "_view_module_version": "1.5.0",
            "_view_name": "HTMLView",
            "description": "",
            "description_tooltip": null,
            "layout": "IPY_MODEL_05988a22cb1640b3952429aa6b9cf5b7",
            "placeholder": "​",
            "style": "IPY_MODEL_c33ac4d6bfd1448ba8c58bc5ce1d628d",
            "value": "Validation DataLoader 0: 100%"
          }
        },
        "8606b9cc867540d58bd5108a2202e9e3": {
          "model_module": "@jupyter-widgets/base",
          "model_module_version": "1.2.0",
          "model_name": "LayoutModel",
          "state": {
            "_model_module": "@jupyter-widgets/base",
            "_model_module_version": "1.2.0",
            "_model_name": "LayoutModel",
            "_view_count": null,
            "_view_module": "@jupyter-widgets/base",
            "_view_module_version": "1.2.0",
            "_view_name": "LayoutView",
            "align_content": null,
            "align_items": null,
            "align_self": null,
            "border": null,
            "bottom": null,
            "display": null,
            "flex": "2",
            "flex_flow": null,
            "grid_area": null,
            "grid_auto_columns": null,
            "grid_auto_flow": null,
            "grid_auto_rows": null,
            "grid_column": null,
            "grid_gap": null,
            "grid_row": null,
            "grid_template_areas": null,
            "grid_template_columns": null,
            "grid_template_rows": null,
            "height": null,
            "justify_content": null,
            "justify_items": null,
            "left": null,
            "margin": null,
            "max_height": null,
            "max_width": null,
            "min_height": null,
            "min_width": null,
            "object_fit": null,
            "object_position": null,
            "order": null,
            "overflow": null,
            "overflow_x": null,
            "overflow_y": null,
            "padding": null,
            "right": null,
            "top": null,
            "visibility": null,
            "width": null
          }
        },
        "864c3ed83c0b4332a82e33a6c46751ef": {
          "model_module": "@jupyter-widgets/controls",
          "model_module_version": "1.5.0",
          "model_name": "DescriptionStyleModel",
          "state": {
            "_model_module": "@jupyter-widgets/controls",
            "_model_module_version": "1.5.0",
            "_model_name": "DescriptionStyleModel",
            "_view_count": null,
            "_view_module": "@jupyter-widgets/base",
            "_view_module_version": "1.2.0",
            "_view_name": "StyleView",
            "description_width": ""
          }
        },
        "86bbc21136d2406cadd74399bf7f993a": {
          "model_module": "@jupyter-widgets/base",
          "model_module_version": "1.2.0",
          "model_name": "LayoutModel",
          "state": {
            "_model_module": "@jupyter-widgets/base",
            "_model_module_version": "1.2.0",
            "_model_name": "LayoutModel",
            "_view_count": null,
            "_view_module": "@jupyter-widgets/base",
            "_view_module_version": "1.2.0",
            "_view_name": "LayoutView",
            "align_content": null,
            "align_items": null,
            "align_self": null,
            "border": null,
            "bottom": null,
            "display": null,
            "flex": null,
            "flex_flow": null,
            "grid_area": null,
            "grid_auto_columns": null,
            "grid_auto_flow": null,
            "grid_auto_rows": null,
            "grid_column": null,
            "grid_gap": null,
            "grid_row": null,
            "grid_template_areas": null,
            "grid_template_columns": null,
            "grid_template_rows": null,
            "height": null,
            "justify_content": null,
            "justify_items": null,
            "left": null,
            "margin": null,
            "max_height": null,
            "max_width": null,
            "min_height": null,
            "min_width": null,
            "object_fit": null,
            "object_position": null,
            "order": null,
            "overflow": null,
            "overflow_x": null,
            "overflow_y": null,
            "padding": null,
            "right": null,
            "top": null,
            "visibility": null,
            "width": null
          }
        },
        "91a7e268325a4c6c9f0d21adebcba1bc": {
          "model_module": "@jupyter-widgets/controls",
          "model_module_version": "1.5.0",
          "model_name": "DescriptionStyleModel",
          "state": {
            "_model_module": "@jupyter-widgets/controls",
            "_model_module_version": "1.5.0",
            "_model_name": "DescriptionStyleModel",
            "_view_count": null,
            "_view_module": "@jupyter-widgets/base",
            "_view_module_version": "1.2.0",
            "_view_name": "StyleView",
            "description_width": ""
          }
        },
        "9b0299ef08494edd892de94868f2a490": {
          "model_module": "@jupyter-widgets/controls",
          "model_module_version": "1.5.0",
          "model_name": "FloatProgressModel",
          "state": {
            "_dom_classes": [],
            "_model_module": "@jupyter-widgets/controls",
            "_model_module_version": "1.5.0",
            "_model_name": "FloatProgressModel",
            "_view_count": null,
            "_view_module": "@jupyter-widgets/controls",
            "_view_module_version": "1.5.0",
            "_view_name": "ProgressView",
            "bar_style": "",
            "description": "",
            "description_tooltip": null,
            "layout": "IPY_MODEL_e6d33cc036ee459db5a87277e586561c",
            "max": 6,
            "min": 0,
            "orientation": "horizontal",
            "style": "IPY_MODEL_2938faf22ece41e9a8db7bb9f7771787",
            "value": 6
          }
        },
        "9ce4223726d04b6794a41d27b730e901": {
          "model_module": "@jupyter-widgets/controls",
          "model_module_version": "1.5.0",
          "model_name": "FloatProgressModel",
          "state": {
            "_dom_classes": [],
            "_model_module": "@jupyter-widgets/controls",
            "_model_module_version": "1.5.0",
            "_model_name": "FloatProgressModel",
            "_view_count": null,
            "_view_module": "@jupyter-widgets/controls",
            "_view_module_version": "1.5.0",
            "_view_name": "ProgressView",
            "bar_style": "",
            "description": "",
            "description_tooltip": null,
            "layout": "IPY_MODEL_65d79eebff5c43e7b2e6c0bcf01fdae8",
            "max": 5,
            "min": 0,
            "orientation": "horizontal",
            "style": "IPY_MODEL_216448241ed04ee6b9e3faae8752379d",
            "value": 0
          }
        },
        "a483c0c05f3b4a589d66cf429fbed99b": {
          "model_module": "@jupyter-widgets/controls",
          "model_module_version": "1.5.0",
          "model_name": "DescriptionStyleModel",
          "state": {
            "_model_module": "@jupyter-widgets/controls",
            "_model_module_version": "1.5.0",
            "_model_name": "DescriptionStyleModel",
            "_view_count": null,
            "_view_module": "@jupyter-widgets/base",
            "_view_module_version": "1.2.0",
            "_view_name": "StyleView",
            "description_width": ""
          }
        },
        "a5d6766bde214c739b390153e20f9fdf": {
          "model_module": "@jupyter-widgets/controls",
          "model_module_version": "1.5.0",
          "model_name": "FloatProgressModel",
          "state": {
            "_dom_classes": [],
            "_model_module": "@jupyter-widgets/controls",
            "_model_module_version": "1.5.0",
            "_model_name": "FloatProgressModel",
            "_view_count": null,
            "_view_module": "@jupyter-widgets/controls",
            "_view_module_version": "1.5.0",
            "_view_name": "ProgressView",
            "bar_style": "",
            "description": "",
            "description_tooltip": null,
            "layout": "IPY_MODEL_8606b9cc867540d58bd5108a2202e9e3",
            "max": 2,
            "min": 0,
            "orientation": "horizontal",
            "style": "IPY_MODEL_b0ab25d6547c4d91abeb6b25921faa31",
            "value": 2
          }
        },
        "af6b69663b0c4a3e8a78ed8770d89de5": {
          "model_module": "@jupyter-widgets/controls",
          "model_module_version": "1.5.0",
          "model_name": "HTMLModel",
          "state": {
            "_dom_classes": [],
            "_model_module": "@jupyter-widgets/controls",
            "_model_module_version": "1.5.0",
            "_model_name": "HTMLModel",
            "_view_count": null,
            "_view_module": "@jupyter-widgets/controls",
            "_view_module_version": "1.5.0",
            "_view_name": "HTMLView",
            "description": "",
            "description_tooltip": null,
            "layout": "IPY_MODEL_30ae0d5c59e5422e8f15b50c2b138caf",
            "placeholder": "​",
            "style": "IPY_MODEL_351514beda27466f84484f37955862a0",
            "value": "Validation DataLoader 0: 100%"
          }
        },
        "b0ab25d6547c4d91abeb6b25921faa31": {
          "model_module": "@jupyter-widgets/controls",
          "model_module_version": "1.5.0",
          "model_name": "ProgressStyleModel",
          "state": {
            "_model_module": "@jupyter-widgets/controls",
            "_model_module_version": "1.5.0",
            "_model_name": "ProgressStyleModel",
            "_view_count": null,
            "_view_module": "@jupyter-widgets/base",
            "_view_module_version": "1.2.0",
            "_view_name": "StyleView",
            "bar_color": null,
            "description_width": ""
          }
        },
        "b0fbb64ef0244723b5e5639c0037b593": {
          "model_module": "@jupyter-widgets/base",
          "model_module_version": "1.2.0",
          "model_name": "LayoutModel",
          "state": {
            "_model_module": "@jupyter-widgets/base",
            "_model_module_version": "1.2.0",
            "_model_name": "LayoutModel",
            "_view_count": null,
            "_view_module": "@jupyter-widgets/base",
            "_view_module_version": "1.2.0",
            "_view_name": "LayoutView",
            "align_content": null,
            "align_items": null,
            "align_self": null,
            "border": null,
            "bottom": null,
            "display": "inline-flex",
            "flex": null,
            "flex_flow": "row wrap",
            "grid_area": null,
            "grid_auto_columns": null,
            "grid_auto_flow": null,
            "grid_auto_rows": null,
            "grid_column": null,
            "grid_gap": null,
            "grid_row": null,
            "grid_template_areas": null,
            "grid_template_columns": null,
            "grid_template_rows": null,
            "height": null,
            "justify_content": null,
            "justify_items": null,
            "left": null,
            "margin": null,
            "max_height": null,
            "max_width": null,
            "min_height": null,
            "min_width": null,
            "object_fit": null,
            "object_position": null,
            "order": null,
            "overflow": null,
            "overflow_x": null,
            "overflow_y": null,
            "padding": null,
            "right": null,
            "top": null,
            "visibility": "hidden",
            "width": "100%"
          }
        },
        "b286b1b494bb4b8882790f6dece6c233": {
          "model_module": "@jupyter-widgets/controls",
          "model_module_version": "1.5.0",
          "model_name": "ProgressStyleModel",
          "state": {
            "_model_module": "@jupyter-widgets/controls",
            "_model_module_version": "1.5.0",
            "_model_name": "ProgressStyleModel",
            "_view_count": null,
            "_view_module": "@jupyter-widgets/base",
            "_view_module_version": "1.2.0",
            "_view_name": "StyleView",
            "bar_color": null,
            "description_width": ""
          }
        },
        "ba554fe701db4b62b34a914b6375387e": {
          "model_module": "@jupyter-widgets/controls",
          "model_module_version": "1.5.0",
          "model_name": "ProgressStyleModel",
          "state": {
            "_model_module": "@jupyter-widgets/controls",
            "_model_module_version": "1.5.0",
            "_model_name": "ProgressStyleModel",
            "_view_count": null,
            "_view_module": "@jupyter-widgets/base",
            "_view_module_version": "1.2.0",
            "_view_name": "StyleView",
            "bar_color": null,
            "description_width": ""
          }
        },
        "bcef218584e24b729a9d3a8ecaa8ee79": {
          "model_module": "@jupyter-widgets/base",
          "model_module_version": "1.2.0",
          "model_name": "LayoutModel",
          "state": {
            "_model_module": "@jupyter-widgets/base",
            "_model_module_version": "1.2.0",
            "_model_name": "LayoutModel",
            "_view_count": null,
            "_view_module": "@jupyter-widgets/base",
            "_view_module_version": "1.2.0",
            "_view_name": "LayoutView",
            "align_content": null,
            "align_items": null,
            "align_self": null,
            "border": null,
            "bottom": null,
            "display": null,
            "flex": null,
            "flex_flow": null,
            "grid_area": null,
            "grid_auto_columns": null,
            "grid_auto_flow": null,
            "grid_auto_rows": null,
            "grid_column": null,
            "grid_gap": null,
            "grid_row": null,
            "grid_template_areas": null,
            "grid_template_columns": null,
            "grid_template_rows": null,
            "height": null,
            "justify_content": null,
            "justify_items": null,
            "left": null,
            "margin": null,
            "max_height": null,
            "max_width": null,
            "min_height": null,
            "min_width": null,
            "object_fit": null,
            "object_position": null,
            "order": null,
            "overflow": null,
            "overflow_x": null,
            "overflow_y": null,
            "padding": null,
            "right": null,
            "top": null,
            "visibility": null,
            "width": null
          }
        },
        "c0f689aeacc741c8b3517c9448646d3e": {
          "model_module": "@jupyter-widgets/base",
          "model_module_version": "1.2.0",
          "model_name": "LayoutModel",
          "state": {
            "_model_module": "@jupyter-widgets/base",
            "_model_module_version": "1.2.0",
            "_model_name": "LayoutModel",
            "_view_count": null,
            "_view_module": "@jupyter-widgets/base",
            "_view_module_version": "1.2.0",
            "_view_name": "LayoutView",
            "align_content": null,
            "align_items": null,
            "align_self": null,
            "border": null,
            "bottom": null,
            "display": null,
            "flex": null,
            "flex_flow": null,
            "grid_area": null,
            "grid_auto_columns": null,
            "grid_auto_flow": null,
            "grid_auto_rows": null,
            "grid_column": null,
            "grid_gap": null,
            "grid_row": null,
            "grid_template_areas": null,
            "grid_template_columns": null,
            "grid_template_rows": null,
            "height": null,
            "justify_content": null,
            "justify_items": null,
            "left": null,
            "margin": null,
            "max_height": null,
            "max_width": null,
            "min_height": null,
            "min_width": null,
            "object_fit": null,
            "object_position": null,
            "order": null,
            "overflow": null,
            "overflow_x": null,
            "overflow_y": null,
            "padding": null,
            "right": null,
            "top": null,
            "visibility": null,
            "width": null
          }
        },
        "c2518ec19797425088cbd4eaf3d58616": {
          "model_module": "@jupyter-widgets/controls",
          "model_module_version": "1.5.0",
          "model_name": "HTMLModel",
          "state": {
            "_dom_classes": [],
            "_model_module": "@jupyter-widgets/controls",
            "_model_module_version": "1.5.0",
            "_model_name": "HTMLModel",
            "_view_count": null,
            "_view_module": "@jupyter-widgets/controls",
            "_view_module_version": "1.5.0",
            "_view_name": "HTMLView",
            "description": "",
            "description_tooltip": null,
            "layout": "IPY_MODEL_1a5ceb31bfc045e3876f62e12dcd27ef",
            "placeholder": "​",
            "style": "IPY_MODEL_fa71714364184c01a6466fe814ed2f38",
            "value": "Sanity Checking DataLoader 0: 100%"
          }
        },
        "c33ac4d6bfd1448ba8c58bc5ce1d628d": {
          "model_module": "@jupyter-widgets/controls",
          "model_module_version": "1.5.0",
          "model_name": "DescriptionStyleModel",
          "state": {
            "_model_module": "@jupyter-widgets/controls",
            "_model_module_version": "1.5.0",
            "_model_name": "DescriptionStyleModel",
            "_view_count": null,
            "_view_module": "@jupyter-widgets/base",
            "_view_module_version": "1.2.0",
            "_view_name": "StyleView",
            "description_width": ""
          }
        },
        "c9a3b5763b264c22951252bce67252cd": {
          "model_module": "@jupyter-widgets/base",
          "model_module_version": "1.2.0",
          "model_name": "LayoutModel",
          "state": {
            "_model_module": "@jupyter-widgets/base",
            "_model_module_version": "1.2.0",
            "_model_name": "LayoutModel",
            "_view_count": null,
            "_view_module": "@jupyter-widgets/base",
            "_view_module_version": "1.2.0",
            "_view_name": "LayoutView",
            "align_content": null,
            "align_items": null,
            "align_self": null,
            "border": null,
            "bottom": null,
            "display": null,
            "flex": "2",
            "flex_flow": null,
            "grid_area": null,
            "grid_auto_columns": null,
            "grid_auto_flow": null,
            "grid_auto_rows": null,
            "grid_column": null,
            "grid_gap": null,
            "grid_row": null,
            "grid_template_areas": null,
            "grid_template_columns": null,
            "grid_template_rows": null,
            "height": null,
            "justify_content": null,
            "justify_items": null,
            "left": null,
            "margin": null,
            "max_height": null,
            "max_width": null,
            "min_height": null,
            "min_width": null,
            "object_fit": null,
            "object_position": null,
            "order": null,
            "overflow": null,
            "overflow_x": null,
            "overflow_y": null,
            "padding": null,
            "right": null,
            "top": null,
            "visibility": null,
            "width": null
          }
        },
        "cba9c185689c42c6a620c9d4c4be5662": {
          "model_module": "@jupyter-widgets/controls",
          "model_module_version": "1.5.0",
          "model_name": "ProgressStyleModel",
          "state": {
            "_model_module": "@jupyter-widgets/controls",
            "_model_module_version": "1.5.0",
            "_model_name": "ProgressStyleModel",
            "_view_count": null,
            "_view_module": "@jupyter-widgets/base",
            "_view_module_version": "1.2.0",
            "_view_name": "StyleView",
            "bar_color": null,
            "description_width": ""
          }
        },
        "cbfe76bb175e402296f75703f04eefdb": {
          "model_module": "@jupyter-widgets/base",
          "model_module_version": "1.2.0",
          "model_name": "LayoutModel",
          "state": {
            "_model_module": "@jupyter-widgets/base",
            "_model_module_version": "1.2.0",
            "_model_name": "LayoutModel",
            "_view_count": null,
            "_view_module": "@jupyter-widgets/base",
            "_view_module_version": "1.2.0",
            "_view_name": "LayoutView",
            "align_content": null,
            "align_items": null,
            "align_self": null,
            "border": null,
            "bottom": null,
            "display": null,
            "flex": null,
            "flex_flow": null,
            "grid_area": null,
            "grid_auto_columns": null,
            "grid_auto_flow": null,
            "grid_auto_rows": null,
            "grid_column": null,
            "grid_gap": null,
            "grid_row": null,
            "grid_template_areas": null,
            "grid_template_columns": null,
            "grid_template_rows": null,
            "height": null,
            "justify_content": null,
            "justify_items": null,
            "left": null,
            "margin": null,
            "max_height": null,
            "max_width": null,
            "min_height": null,
            "min_width": null,
            "object_fit": null,
            "object_position": null,
            "order": null,
            "overflow": null,
            "overflow_x": null,
            "overflow_y": null,
            "padding": null,
            "right": null,
            "top": null,
            "visibility": null,
            "width": null
          }
        },
        "cdbce62b91594f1cbe1f7c741f955e7c": {
          "model_module": "@jupyter-widgets/controls",
          "model_module_version": "1.5.0",
          "model_name": "HTMLModel",
          "state": {
            "_dom_classes": [],
            "_model_module": "@jupyter-widgets/controls",
            "_model_module_version": "1.5.0",
            "_model_name": "HTMLModel",
            "_view_count": null,
            "_view_module": "@jupyter-widgets/controls",
            "_view_module_version": "1.5.0",
            "_view_name": "HTMLView",
            "description": "",
            "description_tooltip": null,
            "layout": "IPY_MODEL_c0f689aeacc741c8b3517c9448646d3e",
            "placeholder": "​",
            "style": "IPY_MODEL_1b0227744a964f79834d5d267414ed08",
            "value": "Validation DataLoader 0: 100%"
          }
        },
        "cebae67c3da34f62990459668c3ae321": {
          "model_module": "@jupyter-widgets/controls",
          "model_module_version": "1.5.0",
          "model_name": "ProgressStyleModel",
          "state": {
            "_model_module": "@jupyter-widgets/controls",
            "_model_module_version": "1.5.0",
            "_model_name": "ProgressStyleModel",
            "_view_count": null,
            "_view_module": "@jupyter-widgets/base",
            "_view_module_version": "1.2.0",
            "_view_name": "StyleView",
            "bar_color": null,
            "description_width": ""
          }
        },
        "d45c99372cc54d208db3fef7aa69134c": {
          "model_module": "@jupyter-widgets/controls",
          "model_module_version": "1.5.0",
          "model_name": "HTMLModel",
          "state": {
            "_dom_classes": [],
            "_model_module": "@jupyter-widgets/controls",
            "_model_module_version": "1.5.0",
            "_model_name": "HTMLModel",
            "_view_count": null,
            "_view_module": "@jupyter-widgets/controls",
            "_view_module_version": "1.5.0",
            "_view_name": "HTMLView",
            "description": "",
            "description_tooltip": null,
            "layout": "IPY_MODEL_bcef218584e24b729a9d3a8ecaa8ee79",
            "placeholder": "​",
            "style": "IPY_MODEL_e84428878e4644eb8dee9b0abd1b6ea2",
            "value": " 0/5 [00:00&lt;?, ?it/s, v_num=15, train_loss_step=13.60, val_loss=11.30, train_loss_epoch=11.20]"
          }
        },
        "db83de918b5642878fdb00b247c906b4": {
          "model_module": "@jupyter-widgets/controls",
          "model_module_version": "1.5.0",
          "model_name": "HTMLModel",
          "state": {
            "_dom_classes": [],
            "_model_module": "@jupyter-widgets/controls",
            "_model_module_version": "1.5.0",
            "_model_name": "HTMLModel",
            "_view_count": null,
            "_view_module": "@jupyter-widgets/controls",
            "_view_module_version": "1.5.0",
            "_view_name": "HTMLView",
            "description": "",
            "description_tooltip": null,
            "layout": "IPY_MODEL_7a587e4acc1d4a5e8d47daf2b90bd93f",
            "placeholder": "​",
            "style": "IPY_MODEL_15bb22f09b41419393fd48845c9ce75e",
            "value": "Validation DataLoader 0: 100%"
          }
        },
        "e49e76c683fe4e999b86ff66c8c1dcc5": {
          "model_module": "@jupyter-widgets/controls",
          "model_module_version": "1.5.0",
          "model_name": "HTMLModel",
          "state": {
            "_dom_classes": [],
            "_model_module": "@jupyter-widgets/controls",
            "_model_module_version": "1.5.0",
            "_model_name": "HTMLModel",
            "_view_count": null,
            "_view_module": "@jupyter-widgets/controls",
            "_view_module_version": "1.5.0",
            "_view_name": "HTMLView",
            "description": "",
            "description_tooltip": null,
            "layout": "IPY_MODEL_2ea4960e4779454baaf2d4d3df417179",
            "placeholder": "​",
            "style": "IPY_MODEL_20ed439774944b5880622e4f4024670f",
            "value": " 6/6 [00:00&lt;00:00, 15.58it/s]"
          }
        },
        "e6d33cc036ee459db5a87277e586561c": {
          "model_module": "@jupyter-widgets/base",
          "model_module_version": "1.2.0",
          "model_name": "LayoutModel",
          "state": {
            "_model_module": "@jupyter-widgets/base",
            "_model_module_version": "1.2.0",
            "_model_name": "LayoutModel",
            "_view_count": null,
            "_view_module": "@jupyter-widgets/base",
            "_view_module_version": "1.2.0",
            "_view_name": "LayoutView",
            "align_content": null,
            "align_items": null,
            "align_self": null,
            "border": null,
            "bottom": null,
            "display": null,
            "flex": "2",
            "flex_flow": null,
            "grid_area": null,
            "grid_auto_columns": null,
            "grid_auto_flow": null,
            "grid_auto_rows": null,
            "grid_column": null,
            "grid_gap": null,
            "grid_row": null,
            "grid_template_areas": null,
            "grid_template_columns": null,
            "grid_template_rows": null,
            "height": null,
            "justify_content": null,
            "justify_items": null,
            "left": null,
            "margin": null,
            "max_height": null,
            "max_width": null,
            "min_height": null,
            "min_width": null,
            "object_fit": null,
            "object_position": null,
            "order": null,
            "overflow": null,
            "overflow_x": null,
            "overflow_y": null,
            "padding": null,
            "right": null,
            "top": null,
            "visibility": null,
            "width": null
          }
        },
        "e84428878e4644eb8dee9b0abd1b6ea2": {
          "model_module": "@jupyter-widgets/controls",
          "model_module_version": "1.5.0",
          "model_name": "DescriptionStyleModel",
          "state": {
            "_model_module": "@jupyter-widgets/controls",
            "_model_module_version": "1.5.0",
            "_model_name": "DescriptionStyleModel",
            "_view_count": null,
            "_view_module": "@jupyter-widgets/base",
            "_view_module_version": "1.2.0",
            "_view_name": "StyleView",
            "description_width": ""
          }
        },
        "f4390b524e5f4b2f8697b26cd44f67a2": {
          "model_module": "@jupyter-widgets/base",
          "model_module_version": "1.2.0",
          "model_name": "LayoutModel",
          "state": {
            "_model_module": "@jupyter-widgets/base",
            "_model_module_version": "1.2.0",
            "_model_name": "LayoutModel",
            "_view_count": null,
            "_view_module": "@jupyter-widgets/base",
            "_view_module_version": "1.2.0",
            "_view_name": "LayoutView",
            "align_content": null,
            "align_items": null,
            "align_self": null,
            "border": null,
            "bottom": null,
            "display": null,
            "flex": null,
            "flex_flow": null,
            "grid_area": null,
            "grid_auto_columns": null,
            "grid_auto_flow": null,
            "grid_auto_rows": null,
            "grid_column": null,
            "grid_gap": null,
            "grid_row": null,
            "grid_template_areas": null,
            "grid_template_columns": null,
            "grid_template_rows": null,
            "height": null,
            "justify_content": null,
            "justify_items": null,
            "left": null,
            "margin": null,
            "max_height": null,
            "max_width": null,
            "min_height": null,
            "min_width": null,
            "object_fit": null,
            "object_position": null,
            "order": null,
            "overflow": null,
            "overflow_x": null,
            "overflow_y": null,
            "padding": null,
            "right": null,
            "top": null,
            "visibility": null,
            "width": null
          }
        },
        "fa34d6d6765749a4a15eaef140f3e9fa": {
          "model_module": "@jupyter-widgets/controls",
          "model_module_version": "1.5.0",
          "model_name": "HBoxModel",
          "state": {
            "_dom_classes": [],
            "_model_module": "@jupyter-widgets/controls",
            "_model_module_version": "1.5.0",
            "_model_name": "HBoxModel",
            "_view_count": null,
            "_view_module": "@jupyter-widgets/controls",
            "_view_module_version": "1.5.0",
            "_view_name": "HBoxView",
            "box_style": "",
            "children": [
              "IPY_MODEL_af6b69663b0c4a3e8a78ed8770d89de5",
              "IPY_MODEL_1dca35f306144bc5b014123c25d8cd17",
              "IPY_MODEL_68025f6ce7a34845bfdfbe11a09b4537"
            ],
            "layout": "IPY_MODEL_4cdcfe2ceac7440b93f455cb2c69bc1a"
          }
        },
        "fa71714364184c01a6466fe814ed2f38": {
          "model_module": "@jupyter-widgets/controls",
          "model_module_version": "1.5.0",
          "model_name": "DescriptionStyleModel",
          "state": {
            "_model_module": "@jupyter-widgets/controls",
            "_model_module_version": "1.5.0",
            "_model_name": "DescriptionStyleModel",
            "_view_count": null,
            "_view_module": "@jupyter-widgets/base",
            "_view_module_version": "1.2.0",
            "_view_name": "StyleView",
            "description_width": ""
          }
        },
        "fb7300d0e5634b75957bd2df4fa44004": {
          "model_module": "@jupyter-widgets/base",
          "model_module_version": "1.2.0",
          "model_name": "LayoutModel",
          "state": {
            "_model_module": "@jupyter-widgets/base",
            "_model_module_version": "1.2.0",
            "_model_name": "LayoutModel",
            "_view_count": null,
            "_view_module": "@jupyter-widgets/base",
            "_view_module_version": "1.2.0",
            "_view_name": "LayoutView",
            "align_content": null,
            "align_items": null,
            "align_self": null,
            "border": null,
            "bottom": null,
            "display": "inline-flex",
            "flex": null,
            "flex_flow": "row wrap",
            "grid_area": null,
            "grid_auto_columns": null,
            "grid_auto_flow": null,
            "grid_auto_rows": null,
            "grid_column": null,
            "grid_gap": null,
            "grid_row": null,
            "grid_template_areas": null,
            "grid_template_columns": null,
            "grid_template_rows": null,
            "height": null,
            "justify_content": null,
            "justify_items": null,
            "left": null,
            "margin": null,
            "max_height": null,
            "max_width": null,
            "min_height": null,
            "min_width": null,
            "object_fit": null,
            "object_position": null,
            "order": null,
            "overflow": null,
            "overflow_x": null,
            "overflow_y": null,
            "padding": null,
            "right": null,
            "top": null,
            "visibility": "hidden",
            "width": "100%"
          }
        },
        "fe50aad5b99f48c5b8beb1e4108a22a7": {
          "model_module": "@jupyter-widgets/controls",
          "model_module_version": "1.5.0",
          "model_name": "HBoxModel",
          "state": {
            "_dom_classes": [],
            "_model_module": "@jupyter-widgets/controls",
            "_model_module_version": "1.5.0",
            "_model_name": "HBoxModel",
            "_view_count": null,
            "_view_module": "@jupyter-widgets/controls",
            "_view_module_version": "1.5.0",
            "_view_name": "HBoxView",
            "box_style": "",
            "children": [
              "IPY_MODEL_db83de918b5642878fdb00b247c906b4",
              "IPY_MODEL_81e421949501484aa77aa0e4226c996e",
              "IPY_MODEL_3869bb97483f40e68105d69f15e292fc"
            ],
            "layout": "IPY_MODEL_12a2e9e7c20c459d8c6be509e6f75926"
          }
        },
        "feae7a312c2a466cb664a1faab56518b": {
          "model_module": "@jupyter-widgets/base",
          "model_module_version": "1.2.0",
          "model_name": "LayoutModel",
          "state": {
            "_model_module": "@jupyter-widgets/base",
            "_model_module_version": "1.2.0",
            "_model_name": "LayoutModel",
            "_view_count": null,
            "_view_module": "@jupyter-widgets/base",
            "_view_module_version": "1.2.0",
            "_view_name": "LayoutView",
            "align_content": null,
            "align_items": null,
            "align_self": null,
            "border": null,
            "bottom": null,
            "display": null,
            "flex": "2",
            "flex_flow": null,
            "grid_area": null,
            "grid_auto_columns": null,
            "grid_auto_flow": null,
            "grid_auto_rows": null,
            "grid_column": null,
            "grid_gap": null,
            "grid_row": null,
            "grid_template_areas": null,
            "grid_template_columns": null,
            "grid_template_rows": null,
            "height": null,
            "justify_content": null,
            "justify_items": null,
            "left": null,
            "margin": null,
            "max_height": null,
            "max_width": null,
            "min_height": null,
            "min_width": null,
            "object_fit": null,
            "object_position": null,
            "order": null,
            "overflow": null,
            "overflow_x": null,
            "overflow_y": null,
            "padding": null,
            "right": null,
            "top": null,
            "visibility": null,
            "width": null
          }
        }
      }
    }
  },
  "nbformat": 4,
  "nbformat_minor": 0
}
