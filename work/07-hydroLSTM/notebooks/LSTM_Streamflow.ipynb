{
  "cells": [
    {
      "cell_type": "code",
      "execution_count": 544,
      "metadata": {
        "id": "xUT_hlZ8CeW8"
      },
      "outputs": [],
      "source": [
        "import lightning.pytorch as pl\n",
        "from lightning.pytorch.callbacks import EarlyStopping, LearningRateMonitor\n",
        "from lightning.pytorch.tuner import Tuner\n",
        "from pytorch_forecasting import TimeSeriesDataSet,AutoRegressiveBaseModelWithCovariates\n",
        "from pytorch_forecasting.metrics import MAE,RMSE,SMAPE\n",
        "from pytorch_forecasting.metrics import MultiHorizonMetric\n",
        "import os\n",
        "import pandas as pd # type: ignore\n",
        "import matplotlib.pyplot as plt # type: ignore\n",
        "import numpy as np # type: ignore\n",
        "import torch\n",
        "from torch import nn\n",
        "from torch.utils.data import Dataset, DataLoader\n",
        "from pytorch_forecasting.models.nn import LSTM\n",
        "from typing import Dict,Tuple,List\n",
        "from sklearn.preprocessing import StandardScaler\n",
        "import random"
      ]
    },
    {
      "cell_type": "code",
      "execution_count": 545,
      "metadata": {
        "colab": {
          "base_uri": "https://localhost:8080/",
          "height": 598
        },
        "id": "2dLYxPM_CeW-",
        "outputId": "4807c080-ad39-42b2-fdbd-3299b4881e9e"
      },
      "outputs": [
        {
          "data": {
            "text/html": [
              "<div>\n",
              "<style scoped>\n",
              "    .dataframe tbody tr th:only-of-type {\n",
              "        vertical-align: middle;\n",
              "    }\n",
              "\n",
              "    .dataframe tbody tr th {\n",
              "        vertical-align: top;\n",
              "    }\n",
              "\n",
              "    .dataframe thead th {\n",
              "        text-align: right;\n",
              "    }\n",
              "</style>\n",
              "<table border=\"1\" class=\"dataframe\">\n",
              "  <thead>\n",
              "    <tr style=\"text-align: right;\">\n",
              "      <th>measurement_location</th>\n",
              "      <th>Datum</th>\n",
              "      <th>15202300</th>\n",
              "      <th>15205501</th>\n",
              "      <th>15207507</th>\n",
              "      <th>15210206</th>\n",
              "      <th>15212008</th>\n",
              "      <th>15212700</th>\n",
              "      <th>15213500</th>\n",
              "      <th>15214003</th>\n",
              "      <th>15214604</th>\n",
              "      <th>15216009</th>\n",
              "      <th>15217908</th>\n",
              "      <th>15221009</th>\n",
              "      <th>15228008</th>\n",
              "      <th>15241006</th>\n",
              "      <th>15242304</th>\n",
              "      <th>15243001</th>\n",
              "      <th>15246000</th>\n",
              "      <th>15247002</th>\n",
              "      <th>15247501</th>\n",
              "    </tr>\n",
              "  </thead>\n",
              "  <tbody>\n",
              "    <tr>\n",
              "      <th>0</th>\n",
              "      <td>2014-01-01</td>\n",
              "      <td>14.4</td>\n",
              "      <td>17.2</td>\n",
              "      <td>19.8</td>\n",
              "      <td>3.87</td>\n",
              "      <td>8.66</td>\n",
              "      <td>9.66</td>\n",
              "      <td>0.433</td>\n",
              "      <td>2.35</td>\n",
              "      <td>0.207</td>\n",
              "      <td>1.66</td>\n",
              "      <td>0.921</td>\n",
              "      <td>0.671</td>\n",
              "      <td>2.59</td>\n",
              "      <td>0.253</td>\n",
              "      <td>0.870</td>\n",
              "      <td>1.26</td>\n",
              "      <td>2.35</td>\n",
              "      <td>0.355</td>\n",
              "      <td>0.120</td>\n",
              "    </tr>\n",
              "    <tr>\n",
              "      <th>1</th>\n",
              "      <td>2014-01-02</td>\n",
              "      <td>14.4</td>\n",
              "      <td>17.0</td>\n",
              "      <td>19.3</td>\n",
              "      <td>3.78</td>\n",
              "      <td>8.52</td>\n",
              "      <td>9.46</td>\n",
              "      <td>0.435</td>\n",
              "      <td>2.51</td>\n",
              "      <td>0.204</td>\n",
              "      <td>1.62</td>\n",
              "      <td>0.909</td>\n",
              "      <td>0.664</td>\n",
              "      <td>2.57</td>\n",
              "      <td>0.253</td>\n",
              "      <td>0.870</td>\n",
              "      <td>1.23</td>\n",
              "      <td>2.32</td>\n",
              "      <td>0.361</td>\n",
              "      <td>0.131</td>\n",
              "    </tr>\n",
              "    <tr>\n",
              "      <th>2</th>\n",
              "      <td>2014-01-03</td>\n",
              "      <td>14.1</td>\n",
              "      <td>16.6</td>\n",
              "      <td>19.3</td>\n",
              "      <td>3.78</td>\n",
              "      <td>8.40</td>\n",
              "      <td>9.42</td>\n",
              "      <td>0.429</td>\n",
              "      <td>2.61</td>\n",
              "      <td>0.201</td>\n",
              "      <td>1.60</td>\n",
              "      <td>0.907</td>\n",
              "      <td>0.641</td>\n",
              "      <td>2.58</td>\n",
              "      <td>0.253</td>\n",
              "      <td>0.871</td>\n",
              "      <td>1.23</td>\n",
              "      <td>2.30</td>\n",
              "      <td>0.362</td>\n",
              "      <td>0.130</td>\n",
              "    </tr>\n",
              "    <tr>\n",
              "      <th>3</th>\n",
              "      <td>2014-01-04</td>\n",
              "      <td>14.2</td>\n",
              "      <td>16.6</td>\n",
              "      <td>19.3</td>\n",
              "      <td>3.84</td>\n",
              "      <td>8.57</td>\n",
              "      <td>9.50</td>\n",
              "      <td>0.445</td>\n",
              "      <td>2.49</td>\n",
              "      <td>0.214</td>\n",
              "      <td>1.64</td>\n",
              "      <td>0.935</td>\n",
              "      <td>0.642</td>\n",
              "      <td>2.60</td>\n",
              "      <td>0.256</td>\n",
              "      <td>0.929</td>\n",
              "      <td>1.26</td>\n",
              "      <td>2.44</td>\n",
              "      <td>0.382</td>\n",
              "      <td>0.127</td>\n",
              "    </tr>\n",
              "    <tr>\n",
              "      <th>4</th>\n",
              "      <td>2014-01-05</td>\n",
              "      <td>16.4</td>\n",
              "      <td>18.4</td>\n",
              "      <td>20.6</td>\n",
              "      <td>4.36</td>\n",
              "      <td>9.94</td>\n",
              "      <td>10.80</td>\n",
              "      <td>0.545</td>\n",
              "      <td>2.86</td>\n",
              "      <td>0.267</td>\n",
              "      <td>1.80</td>\n",
              "      <td>1.130</td>\n",
              "      <td>0.690</td>\n",
              "      <td>3.10</td>\n",
              "      <td>0.300</td>\n",
              "      <td>1.150</td>\n",
              "      <td>1.61</td>\n",
              "      <td>3.14</td>\n",
              "      <td>0.561</td>\n",
              "      <td>0.175</td>\n",
              "    </tr>\n",
              "    <tr>\n",
              "      <th>...</th>\n",
              "      <td>...</td>\n",
              "      <td>...</td>\n",
              "      <td>...</td>\n",
              "      <td>...</td>\n",
              "      <td>...</td>\n",
              "      <td>...</td>\n",
              "      <td>...</td>\n",
              "      <td>...</td>\n",
              "      <td>...</td>\n",
              "      <td>...</td>\n",
              "      <td>...</td>\n",
              "      <td>...</td>\n",
              "      <td>...</td>\n",
              "      <td>...</td>\n",
              "      <td>...</td>\n",
              "      <td>...</td>\n",
              "      <td>...</td>\n",
              "      <td>...</td>\n",
              "      <td>...</td>\n",
              "      <td>...</td>\n",
              "    </tr>\n",
              "    <tr>\n",
              "      <th>3648</th>\n",
              "      <td>2023-12-28</td>\n",
              "      <td>79.7</td>\n",
              "      <td>102.0</td>\n",
              "      <td>120.0</td>\n",
              "      <td>28.50</td>\n",
              "      <td>46.20</td>\n",
              "      <td>57.10</td>\n",
              "      <td>1.900</td>\n",
              "      <td>17.30</td>\n",
              "      <td>0.721</td>\n",
              "      <td>10.30</td>\n",
              "      <td>6.070</td>\n",
              "      <td>3.920</td>\n",
              "      <td>12.20</td>\n",
              "      <td>0.786</td>\n",
              "      <td>3.270</td>\n",
              "      <td>9.05</td>\n",
              "      <td>12.50</td>\n",
              "      <td>2.020</td>\n",
              "      <td>0.741</td>\n",
              "    </tr>\n",
              "    <tr>\n",
              "      <th>3649</th>\n",
              "      <td>2023-12-29</td>\n",
              "      <td>71.4</td>\n",
              "      <td>82.5</td>\n",
              "      <td>97.7</td>\n",
              "      <td>26.00</td>\n",
              "      <td>41.90</td>\n",
              "      <td>51.30</td>\n",
              "      <td>1.710</td>\n",
              "      <td>15.60</td>\n",
              "      <td>0.801</td>\n",
              "      <td>9.85</td>\n",
              "      <td>5.480</td>\n",
              "      <td>3.470</td>\n",
              "      <td>10.90</td>\n",
              "      <td>0.653</td>\n",
              "      <td>2.890</td>\n",
              "      <td>7.23</td>\n",
              "      <td>9.97</td>\n",
              "      <td>1.750</td>\n",
              "      <td>0.619</td>\n",
              "    </tr>\n",
              "    <tr>\n",
              "      <th>3650</th>\n",
              "      <td>2023-12-30</td>\n",
              "      <td>64.0</td>\n",
              "      <td>71.4</td>\n",
              "      <td>86.3</td>\n",
              "      <td>24.40</td>\n",
              "      <td>38.60</td>\n",
              "      <td>46.90</td>\n",
              "      <td>1.530</td>\n",
              "      <td>14.70</td>\n",
              "      <td>0.835</td>\n",
              "      <td>9.40</td>\n",
              "      <td>4.900</td>\n",
              "      <td>3.100</td>\n",
              "      <td>9.77</td>\n",
              "      <td>0.557</td>\n",
              "      <td>2.550</td>\n",
              "      <td>5.92</td>\n",
              "      <td>8.54</td>\n",
              "      <td>1.470</td>\n",
              "      <td>0.514</td>\n",
              "    </tr>\n",
              "    <tr>\n",
              "      <th>3651</th>\n",
              "      <td>2023-12-31</td>\n",
              "      <td>59.1</td>\n",
              "      <td>63.0</td>\n",
              "      <td>77.3</td>\n",
              "      <td>22.20</td>\n",
              "      <td>35.30</td>\n",
              "      <td>42.50</td>\n",
              "      <td>1.410</td>\n",
              "      <td>13.10</td>\n",
              "      <td>0.669</td>\n",
              "      <td>8.83</td>\n",
              "      <td>4.480</td>\n",
              "      <td>2.670</td>\n",
              "      <td>8.92</td>\n",
              "      <td>0.492</td>\n",
              "      <td>2.330</td>\n",
              "      <td>5.40</td>\n",
              "      <td>7.66</td>\n",
              "      <td>1.290</td>\n",
              "      <td>0.458</td>\n",
              "    </tr>\n",
              "    <tr>\n",
              "      <th>3652</th>\n",
              "      <td>2024-01-01</td>\n",
              "      <td>56.0</td>\n",
              "      <td>58.5</td>\n",
              "      <td>71.9</td>\n",
              "      <td>20.70</td>\n",
              "      <td>33.30</td>\n",
              "      <td>40.30</td>\n",
              "      <td>1.420</td>\n",
              "      <td>12.10</td>\n",
              "      <td>0.565</td>\n",
              "      <td>8.57</td>\n",
              "      <td>4.540</td>\n",
              "      <td>2.390</td>\n",
              "      <td>8.46</td>\n",
              "      <td>0.457</td>\n",
              "      <td>2.250</td>\n",
              "      <td>6.30</td>\n",
              "      <td>8.20</td>\n",
              "      <td>1.260</td>\n",
              "      <td>0.414</td>\n",
              "    </tr>\n",
              "  </tbody>\n",
              "</table>\n",
              "<p>3653 rows × 20 columns</p>\n",
              "</div>"
            ],
            "text/plain": [
              "measurement_location       Datum  15202300  15205501  15207507  15210206  \\\n",
              "0                     2014-01-01      14.4      17.2      19.8      3.87   \n",
              "1                     2014-01-02      14.4      17.0      19.3      3.78   \n",
              "2                     2014-01-03      14.1      16.6      19.3      3.78   \n",
              "3                     2014-01-04      14.2      16.6      19.3      3.84   \n",
              "4                     2014-01-05      16.4      18.4      20.6      4.36   \n",
              "...                          ...       ...       ...       ...       ...   \n",
              "3648                  2023-12-28      79.7     102.0     120.0     28.50   \n",
              "3649                  2023-12-29      71.4      82.5      97.7     26.00   \n",
              "3650                  2023-12-30      64.0      71.4      86.3     24.40   \n",
              "3651                  2023-12-31      59.1      63.0      77.3     22.20   \n",
              "3652                  2024-01-01      56.0      58.5      71.9     20.70   \n",
              "\n",
              "measurement_location  15212008  15212700  15213500  15214003  15214604  \\\n",
              "0                         8.66      9.66     0.433      2.35     0.207   \n",
              "1                         8.52      9.46     0.435      2.51     0.204   \n",
              "2                         8.40      9.42     0.429      2.61     0.201   \n",
              "3                         8.57      9.50     0.445      2.49     0.214   \n",
              "4                         9.94     10.80     0.545      2.86     0.267   \n",
              "...                        ...       ...       ...       ...       ...   \n",
              "3648                     46.20     57.10     1.900     17.30     0.721   \n",
              "3649                     41.90     51.30     1.710     15.60     0.801   \n",
              "3650                     38.60     46.90     1.530     14.70     0.835   \n",
              "3651                     35.30     42.50     1.410     13.10     0.669   \n",
              "3652                     33.30     40.30     1.420     12.10     0.565   \n",
              "\n",
              "measurement_location  15216009  15217908  15221009  15228008  15241006  \\\n",
              "0                         1.66     0.921     0.671      2.59     0.253   \n",
              "1                         1.62     0.909     0.664      2.57     0.253   \n",
              "2                         1.60     0.907     0.641      2.58     0.253   \n",
              "3                         1.64     0.935     0.642      2.60     0.256   \n",
              "4                         1.80     1.130     0.690      3.10     0.300   \n",
              "...                        ...       ...       ...       ...       ...   \n",
              "3648                     10.30     6.070     3.920     12.20     0.786   \n",
              "3649                      9.85     5.480     3.470     10.90     0.653   \n",
              "3650                      9.40     4.900     3.100      9.77     0.557   \n",
              "3651                      8.83     4.480     2.670      8.92     0.492   \n",
              "3652                      8.57     4.540     2.390      8.46     0.457   \n",
              "\n",
              "measurement_location  15242304  15243001  15246000  15247002  15247501  \n",
              "0                        0.870      1.26      2.35     0.355     0.120  \n",
              "1                        0.870      1.23      2.32     0.361     0.131  \n",
              "2                        0.871      1.23      2.30     0.362     0.130  \n",
              "3                        0.929      1.26      2.44     0.382     0.127  \n",
              "4                        1.150      1.61      3.14     0.561     0.175  \n",
              "...                        ...       ...       ...       ...       ...  \n",
              "3648                     3.270      9.05     12.50     2.020     0.741  \n",
              "3649                     2.890      7.23      9.97     1.750     0.619  \n",
              "3650                     2.550      5.92      8.54     1.470     0.514  \n",
              "3651                     2.330      5.40      7.66     1.290     0.458  \n",
              "3652                     2.250      6.30      8.20     1.260     0.414  \n",
              "\n",
              "[3653 rows x 20 columns]"
            ]
          },
          "execution_count": 545,
          "metadata": {},
          "output_type": "execute_result"
        }
      ],
      "source": [
        "stream = pd.read_pickle(os.path.join('..','data','processed','stream_processed.pkl'),compression= 'zip')\n",
        "meteo = pd.read_pickle(os.path.join('..','data','processed','meteo_processed.pkl'),compression = 'zip')\n",
        "stream"
      ]
    },
    {
      "cell_type": "code",
      "execution_count": 546,
      "metadata": {},
      "outputs": [],
      "source": [
        "def mean_meteo(df : pd.DataFrame,meteo : str):\n",
        "    in_df = df.copy()[[col for col in df.columns if meteo in col]]\n",
        "    return in_df.mean(axis = 1)\n",
        "    \n",
        "    "
      ]
    },
    {
      "cell_type": "code",
      "execution_count": 547,
      "metadata": {},
      "outputs": [
        {
          "data": {
            "text/plain": [
              "[<matplotlib.lines.Line2D at 0x3ada16980>]"
            ]
          },
          "execution_count": 547,
          "metadata": {},
          "output_type": "execute_result"
        },
        {
          "data": {
            "image/png": "[encoded data removed]",
            "text/plain": [
              "<Figure size 1900x600 with 1 Axes>"
            ]
          },
          "metadata": {},
          "output_type": "display_data"
        }
      ],
      "source": [
        "plt.figure(figsize=(19,6))\n",
        "plt.plot(mean_meteo(meteo,'t2m').rolling(3,center = True).mean())"
      ]
    },
    {
      "cell_type": "code",
      "execution_count": 548,
      "metadata": {},
      "outputs": [],
      "source": [
        "stream[list(stream.columns[1:])] = stream[list(stream.columns[1:])].rolling(window=3).mean()"
      ]
    },
    {
      "cell_type": "code",
      "execution_count": 549,
      "metadata": {},
      "outputs": [
        {
          "data": {
            "text/html": [
              "<div>\n",
              "<style scoped>\n",
              "    .dataframe tbody tr th:only-of-type {\n",
              "        vertical-align: middle;\n",
              "    }\n",
              "\n",
              "    .dataframe tbody tr th {\n",
              "        vertical-align: top;\n",
              "    }\n",
              "\n",
              "    .dataframe thead th {\n",
              "        text-align: right;\n",
              "    }\n",
              "</style>\n",
              "<table border=\"1\" class=\"dataframe\">\n",
              "  <thead>\n",
              "    <tr style=\"text-align: right;\">\n",
              "      <th></th>\n",
              "      <th>date</th>\n",
              "      <th>mean_t2m</th>\n",
              "      <th>mean_tp</th>\n",
              "      <th>mean_ssr</th>\n",
              "      <th>mean_d2m</th>\n",
              "      <th>mean_sp</th>\n",
              "    </tr>\n",
              "  </thead>\n",
              "  <tbody>\n",
              "    <tr>\n",
              "      <th>2</th>\n",
              "      <td>2014-01-03</td>\n",
              "      <td>273.021965</td>\n",
              "      <td>0.000003</td>\n",
              "      <td>119146.173438</td>\n",
              "      <td>271.883361</td>\n",
              "      <td>95313.604938</td>\n",
              "    </tr>\n",
              "    <tr>\n",
              "      <th>3</th>\n",
              "      <td>2014-01-04</td>\n",
              "      <td>274.925370</td>\n",
              "      <td>0.000063</td>\n",
              "      <td>126557.485226</td>\n",
              "      <td>273.071493</td>\n",
              "      <td>95113.810892</td>\n",
              "    </tr>\n",
              "    <tr>\n",
              "      <th>4</th>\n",
              "      <td>2014-01-05</td>\n",
              "      <td>275.965074</td>\n",
              "      <td>0.000089</td>\n",
              "      <td>101905.371445</td>\n",
              "      <td>274.455001</td>\n",
              "      <td>95083.448483</td>\n",
              "    </tr>\n",
              "    <tr>\n",
              "      <th>5</th>\n",
              "      <td>2014-01-06</td>\n",
              "      <td>276.129214</td>\n",
              "      <td>0.000097</td>\n",
              "      <td>99399.849663</td>\n",
              "      <td>274.637074</td>\n",
              "      <td>95148.867959</td>\n",
              "    </tr>\n",
              "    <tr>\n",
              "      <th>6</th>\n",
              "      <td>2014-01-07</td>\n",
              "      <td>276.075047</td>\n",
              "      <td>0.000038</td>\n",
              "      <td>114978.027700</td>\n",
              "      <td>274.781352</td>\n",
              "      <td>95473.672910</td>\n",
              "    </tr>\n",
              "  </tbody>\n",
              "</table>\n",
              "</div>"
            ],
            "text/plain": [
              "        date    mean_t2m   mean_tp       mean_ssr    mean_d2m       mean_sp\n",
              "2 2014-01-03  273.021965  0.000003  119146.173438  271.883361  95313.604938\n",
              "3 2014-01-04  274.925370  0.000063  126557.485226  273.071493  95113.810892\n",
              "4 2014-01-05  275.965074  0.000089  101905.371445  274.455001  95083.448483\n",
              "5 2014-01-06  276.129214  0.000097   99399.849663  274.637074  95148.867959\n",
              "6 2014-01-07  276.075047  0.000038  114978.027700  274.781352  95473.672910"
            ]
          },
          "execution_count": 549,
          "metadata": {},
          "output_type": "execute_result"
        }
      ],
      "source": [
        "\n",
        "meteo_vars = ['t2m','tp','ssr','d2m','sp']\n",
        "\n",
        "for var in meteo_vars:\n",
        "    meteo[f\"mean_{var}\"] = mean_meteo(meteo,var)\n",
        "\n",
        "tp_to_drop = [col for col in meteo.columns if 'tp_' in col]\n",
        "d2m_to_drop = [col for col in meteo.columns if 'd2m_' in col]\n",
        "ssr_to_drop = [col for col in meteo.columns if 'ssr_' in col]\n",
        "t2m_to_drop = [col for col in meteo.columns if 't2m_' in col]\n",
        "sp_tp_drop = [col for col in meteo.columns if 'sp_' in col]\n",
        "cols_to_drop = tp_to_drop + d2m_to_drop + ssr_to_drop + t2m_to_drop + sp_tp_drop\n",
        "meteo = meteo.drop(columns = cols_to_drop)\n",
        "meteo[['mean_t2m','mean_tp','mean_ssr','mean_d2m','mean_sp']] = meteo[['mean_t2m','mean_tp','mean_ssr','mean_d2m','mean_sp']].rolling(3).mean()\n",
        "meteo = meteo.dropna()\n",
        "meteo.head()"
      ]
    },
    {
      "cell_type": "code",
      "execution_count": 550,
      "metadata": {
        "colab": {
          "base_uri": "https://localhost:8080/"
        },
        "id": "3wilvKC0CeW_",
        "outputId": "a436a704-b7fc-4f48-880a-caebb37890bb"
      },
      "outputs": [
        {
          "data": {
            "text/html": [
              "<div>\n",
              "<style scoped>\n",
              "    .dataframe tbody tr th:only-of-type {\n",
              "        vertical-align: middle;\n",
              "    }\n",
              "\n",
              "    .dataframe tbody tr th {\n",
              "        vertical-align: top;\n",
              "    }\n",
              "\n",
              "    .dataframe thead th {\n",
              "        text-align: right;\n",
              "    }\n",
              "</style>\n",
              "<table border=\"1\" class=\"dataframe\">\n",
              "  <thead>\n",
              "    <tr style=\"text-align: right;\">\n",
              "      <th></th>\n",
              "      <th>15202300</th>\n",
              "      <th>15205501</th>\n",
              "      <th>15207507</th>\n",
              "      <th>15210206</th>\n",
              "      <th>15212008</th>\n",
              "      <th>15212700</th>\n",
              "      <th>15213500</th>\n",
              "      <th>15214003</th>\n",
              "      <th>15214604</th>\n",
              "      <th>15216009</th>\n",
              "      <th>...</th>\n",
              "      <th>15246000</th>\n",
              "      <th>15247002</th>\n",
              "      <th>15247501</th>\n",
              "      <th>mean_t2m</th>\n",
              "      <th>mean_tp</th>\n",
              "      <th>mean_ssr</th>\n",
              "      <th>mean_d2m</th>\n",
              "      <th>mean_sp</th>\n",
              "      <th>groups</th>\n",
              "      <th>date</th>\n",
              "    </tr>\n",
              "  </thead>\n",
              "  <tbody>\n",
              "    <tr>\n",
              "      <th>2</th>\n",
              "      <td>14.300000</td>\n",
              "      <td>16.933333</td>\n",
              "      <td>19.466667</td>\n",
              "      <td>3.810000</td>\n",
              "      <td>8.526667</td>\n",
              "      <td>9.513333</td>\n",
              "      <td>0.432333</td>\n",
              "      <td>2.490000</td>\n",
              "      <td>0.204000</td>\n",
              "      <td>1.626667</td>\n",
              "      <td>...</td>\n",
              "      <td>2.323333</td>\n",
              "      <td>0.359333</td>\n",
              "      <td>0.127000</td>\n",
              "      <td>273.021965</td>\n",
              "      <td>0.000003</td>\n",
              "      <td>119146.173438</td>\n",
              "      <td>271.883361</td>\n",
              "      <td>95313.604938</td>\n",
              "      <td>0</td>\n",
              "      <td>2</td>\n",
              "    </tr>\n",
              "    <tr>\n",
              "      <th>3</th>\n",
              "      <td>14.233333</td>\n",
              "      <td>16.733333</td>\n",
              "      <td>19.300000</td>\n",
              "      <td>3.800000</td>\n",
              "      <td>8.496667</td>\n",
              "      <td>9.460000</td>\n",
              "      <td>0.436333</td>\n",
              "      <td>2.536667</td>\n",
              "      <td>0.206333</td>\n",
              "      <td>1.620000</td>\n",
              "      <td>...</td>\n",
              "      <td>2.353333</td>\n",
              "      <td>0.368333</td>\n",
              "      <td>0.129333</td>\n",
              "      <td>274.925370</td>\n",
              "      <td>0.000063</td>\n",
              "      <td>126557.485226</td>\n",
              "      <td>273.071493</td>\n",
              "      <td>95113.810892</td>\n",
              "      <td>0</td>\n",
              "      <td>3</td>\n",
              "    </tr>\n",
              "    <tr>\n",
              "      <th>4</th>\n",
              "      <td>14.900000</td>\n",
              "      <td>17.200000</td>\n",
              "      <td>19.733333</td>\n",
              "      <td>3.993333</td>\n",
              "      <td>8.970000</td>\n",
              "      <td>9.906667</td>\n",
              "      <td>0.473000</td>\n",
              "      <td>2.653333</td>\n",
              "      <td>0.227333</td>\n",
              "      <td>1.680000</td>\n",
              "      <td>...</td>\n",
              "      <td>2.626667</td>\n",
              "      <td>0.435000</td>\n",
              "      <td>0.144000</td>\n",
              "      <td>275.965074</td>\n",
              "      <td>0.000089</td>\n",
              "      <td>101905.371445</td>\n",
              "      <td>274.455001</td>\n",
              "      <td>95083.448483</td>\n",
              "      <td>0</td>\n",
              "      <td>4</td>\n",
              "    </tr>\n",
              "    <tr>\n",
              "      <th>5</th>\n",
              "      <td>16.300000</td>\n",
              "      <td>18.800000</td>\n",
              "      <td>21.433333</td>\n",
              "      <td>4.193333</td>\n",
              "      <td>9.736667</td>\n",
              "      <td>10.600000</td>\n",
              "      <td>0.504667</td>\n",
              "      <td>2.740000</td>\n",
              "      <td>0.239333</td>\n",
              "      <td>1.740000</td>\n",
              "      <td>...</td>\n",
              "      <td>2.866667</td>\n",
              "      <td>0.477000</td>\n",
              "      <td>0.152667</td>\n",
              "      <td>276.129214</td>\n",
              "      <td>0.000097</td>\n",
              "      <td>99399.849663</td>\n",
              "      <td>274.637074</td>\n",
              "      <td>95148.867959</td>\n",
              "      <td>0</td>\n",
              "      <td>5</td>\n",
              "    </tr>\n",
              "    <tr>\n",
              "      <th>6</th>\n",
              "      <td>16.733333</td>\n",
              "      <td>19.800000</td>\n",
              "      <td>22.966667</td>\n",
              "      <td>4.260000</td>\n",
              "      <td>10.083333</td>\n",
              "      <td>10.900000</td>\n",
              "      <td>0.515333</td>\n",
              "      <td>2.776667</td>\n",
              "      <td>0.241000</td>\n",
              "      <td>1.750000</td>\n",
              "      <td>...</td>\n",
              "      <td>2.963333</td>\n",
              "      <td>0.493333</td>\n",
              "      <td>0.156000</td>\n",
              "      <td>276.075047</td>\n",
              "      <td>0.000038</td>\n",
              "      <td>114978.027700</td>\n",
              "      <td>274.781352</td>\n",
              "      <td>95473.672910</td>\n",
              "      <td>0</td>\n",
              "      <td>6</td>\n",
              "    </tr>\n",
              "    <tr>\n",
              "      <th>...</th>\n",
              "      <td>...</td>\n",
              "      <td>...</td>\n",
              "      <td>...</td>\n",
              "      <td>...</td>\n",
              "      <td>...</td>\n",
              "      <td>...</td>\n",
              "      <td>...</td>\n",
              "      <td>...</td>\n",
              "      <td>...</td>\n",
              "      <td>...</td>\n",
              "      <td>...</td>\n",
              "      <td>...</td>\n",
              "      <td>...</td>\n",
              "      <td>...</td>\n",
              "      <td>...</td>\n",
              "      <td>...</td>\n",
              "      <td>...</td>\n",
              "      <td>...</td>\n",
              "      <td>...</td>\n",
              "      <td>...</td>\n",
              "      <td>...</td>\n",
              "    </tr>\n",
              "    <tr>\n",
              "      <th>3647</th>\n",
              "      <td>139.733333</td>\n",
              "      <td>211.000000</td>\n",
              "      <td>240.000000</td>\n",
              "      <td>45.500000</td>\n",
              "      <td>79.500000</td>\n",
              "      <td>100.166667</td>\n",
              "      <td>3.023333</td>\n",
              "      <td>32.000000</td>\n",
              "      <td>2.451000</td>\n",
              "      <td>12.270000</td>\n",
              "      <td>...</td>\n",
              "      <td>23.933333</td>\n",
              "      <td>3.910000</td>\n",
              "      <td>1.762000</td>\n",
              "      <td>279.720414</td>\n",
              "      <td>0.000105</td>\n",
              "      <td>43848.074041</td>\n",
              "      <td>276.986864</td>\n",
              "      <td>95735.617496</td>\n",
              "      <td>0</td>\n",
              "      <td>3647</td>\n",
              "    </tr>\n",
              "    <tr>\n",
              "      <th>3648</th>\n",
              "      <td>100.966667</td>\n",
              "      <td>150.000000</td>\n",
              "      <td>172.666667</td>\n",
              "      <td>33.833333</td>\n",
              "      <td>56.900000</td>\n",
              "      <td>71.533333</td>\n",
              "      <td>2.296667</td>\n",
              "      <td>22.633333</td>\n",
              "      <td>1.164667</td>\n",
              "      <td>10.370000</td>\n",
              "      <td>...</td>\n",
              "      <td>17.433333</td>\n",
              "      <td>2.633333</td>\n",
              "      <td>1.035667</td>\n",
              "      <td>278.115081</td>\n",
              "      <td>0.000021</td>\n",
              "      <td>75076.971920</td>\n",
              "      <td>275.530633</td>\n",
              "      <td>95956.563242</td>\n",
              "      <td>0</td>\n",
              "      <td>3648</td>\n",
              "    </tr>\n",
              "    <tr>\n",
              "      <th>3649</th>\n",
              "      <td>82.100000</td>\n",
              "      <td>107.500000</td>\n",
              "      <td>126.233333</td>\n",
              "      <td>29.033333</td>\n",
              "      <td>47.366667</td>\n",
              "      <td>58.733333</td>\n",
              "      <td>1.940000</td>\n",
              "      <td>18.133333</td>\n",
              "      <td>0.838333</td>\n",
              "      <td>10.020000</td>\n",
              "      <td>...</td>\n",
              "      <td>13.023333</td>\n",
              "      <td>2.100000</td>\n",
              "      <td>0.772000</td>\n",
              "      <td>278.131672</td>\n",
              "      <td>0.000016</td>\n",
              "      <td>113272.033552</td>\n",
              "      <td>275.687857</td>\n",
              "      <td>95952.454680</td>\n",
              "      <td>0</td>\n",
              "      <td>3649</td>\n",
              "    </tr>\n",
              "    <tr>\n",
              "      <th>3650</th>\n",
              "      <td>71.700000</td>\n",
              "      <td>85.300000</td>\n",
              "      <td>101.333333</td>\n",
              "      <td>26.300000</td>\n",
              "      <td>42.233333</td>\n",
              "      <td>51.766667</td>\n",
              "      <td>1.713333</td>\n",
              "      <td>15.866667</td>\n",
              "      <td>0.785667</td>\n",
              "      <td>9.850000</td>\n",
              "      <td>...</td>\n",
              "      <td>10.336667</td>\n",
              "      <td>1.746667</td>\n",
              "      <td>0.624667</td>\n",
              "      <td>278.368488</td>\n",
              "      <td>0.000021</td>\n",
              "      <td>120318.203430</td>\n",
              "      <td>275.602084</td>\n",
              "      <td>95795.413570</td>\n",
              "      <td>0</td>\n",
              "      <td>3650</td>\n",
              "    </tr>\n",
              "    <tr>\n",
              "      <th>3651</th>\n",
              "      <td>64.833333</td>\n",
              "      <td>72.300000</td>\n",
              "      <td>87.100000</td>\n",
              "      <td>24.200000</td>\n",
              "      <td>38.600000</td>\n",
              "      <td>46.900000</td>\n",
              "      <td>1.550000</td>\n",
              "      <td>14.466667</td>\n",
              "      <td>0.768333</td>\n",
              "      <td>9.360000</td>\n",
              "      <td>...</td>\n",
              "      <td>8.723333</td>\n",
              "      <td>1.503333</td>\n",
              "      <td>0.530333</td>\n",
              "      <td>278.114187</td>\n",
              "      <td>0.000042</td>\n",
              "      <td>125991.749251</td>\n",
              "      <td>275.790848</td>\n",
              "      <td>95483.644700</td>\n",
              "      <td>0</td>\n",
              "      <td>3651</td>\n",
              "    </tr>\n",
              "  </tbody>\n",
              "</table>\n",
              "<p>3650 rows × 26 columns</p>\n",
              "</div>"
            ],
            "text/plain": [
              "        15202300    15205501    15207507   15210206   15212008    15212700  \\\n",
              "2      14.300000   16.933333   19.466667   3.810000   8.526667    9.513333   \n",
              "3      14.233333   16.733333   19.300000   3.800000   8.496667    9.460000   \n",
              "4      14.900000   17.200000   19.733333   3.993333   8.970000    9.906667   \n",
              "5      16.300000   18.800000   21.433333   4.193333   9.736667   10.600000   \n",
              "6      16.733333   19.800000   22.966667   4.260000  10.083333   10.900000   \n",
              "...          ...         ...         ...        ...        ...         ...   \n",
              "3647  139.733333  211.000000  240.000000  45.500000  79.500000  100.166667   \n",
              "3648  100.966667  150.000000  172.666667  33.833333  56.900000   71.533333   \n",
              "3649   82.100000  107.500000  126.233333  29.033333  47.366667   58.733333   \n",
              "3650   71.700000   85.300000  101.333333  26.300000  42.233333   51.766667   \n",
              "3651   64.833333   72.300000   87.100000  24.200000  38.600000   46.900000   \n",
              "\n",
              "      15213500   15214003  15214604   15216009  ...   15246000  15247002  \\\n",
              "2     0.432333   2.490000  0.204000   1.626667  ...   2.323333  0.359333   \n",
              "3     0.436333   2.536667  0.206333   1.620000  ...   2.353333  0.368333   \n",
              "4     0.473000   2.653333  0.227333   1.680000  ...   2.626667  0.435000   \n",
              "5     0.504667   2.740000  0.239333   1.740000  ...   2.866667  0.477000   \n",
              "6     0.515333   2.776667  0.241000   1.750000  ...   2.963333  0.493333   \n",
              "...        ...        ...       ...        ...  ...        ...       ...   \n",
              "3647  3.023333  32.000000  2.451000  12.270000  ...  23.933333  3.910000   \n",
              "3648  2.296667  22.633333  1.164667  10.370000  ...  17.433333  2.633333   \n",
              "3649  1.940000  18.133333  0.838333  10.020000  ...  13.023333  2.100000   \n",
              "3650  1.713333  15.866667  0.785667   9.850000  ...  10.336667  1.746667   \n",
              "3651  1.550000  14.466667  0.768333   9.360000  ...   8.723333  1.503333   \n",
              "\n",
              "      15247501    mean_t2m   mean_tp       mean_ssr    mean_d2m       mean_sp  \\\n",
              "2     0.127000  273.021965  0.000003  119146.173438  271.883361  95313.604938   \n",
              "3     0.129333  274.925370  0.000063  126557.485226  273.071493  95113.810892   \n",
              "4     0.144000  275.965074  0.000089  101905.371445  274.455001  95083.448483   \n",
              "5     0.152667  276.129214  0.000097   99399.849663  274.637074  95148.867959   \n",
              "6     0.156000  276.075047  0.000038  114978.027700  274.781352  95473.672910   \n",
              "...        ...         ...       ...            ...         ...           ...   \n",
              "3647  1.762000  279.720414  0.000105   43848.074041  276.986864  95735.617496   \n",
              "3648  1.035667  278.115081  0.000021   75076.971920  275.530633  95956.563242   \n",
              "3649  0.772000  278.131672  0.000016  113272.033552  275.687857  95952.454680   \n",
              "3650  0.624667  278.368488  0.000021  120318.203430  275.602084  95795.413570   \n",
              "3651  0.530333  278.114187  0.000042  125991.749251  275.790848  95483.644700   \n",
              "\n",
              "      groups  date  \n",
              "2          0     2  \n",
              "3          0     3  \n",
              "4          0     4  \n",
              "5          0     5  \n",
              "6          0     6  \n",
              "...      ...   ...  \n",
              "3647       0  3647  \n",
              "3648       0  3648  \n",
              "3649       0  3649  \n",
              "3650       0  3650  \n",
              "3651       0  3651  \n",
              "\n",
              "[3650 rows x 26 columns]"
            ]
          },
          "execution_count": 550,
          "metadata": {},
          "output_type": "execute_result"
        }
      ],
      "source": [
        "stream = stream.iloc[:3652]\n",
        "meteo = meteo.drop(columns = 'date')\n",
        "data = stream.join(meteo).drop(columns = 'Datum').dropna()\n",
        "data['groups'] = 0\n",
        "data['date'] = data.index\n",
        "data"
      ]
    },
    {
      "cell_type": "code",
      "execution_count": 551,
      "metadata": {},
      "outputs": [
        {
          "data": {
            "text/plain": [
              "['mean_t2m', 'mean_tp', 'mean_ssr', 'mean_d2m', 'mean_sp']"
            ]
          },
          "execution_count": 551,
          "metadata": {},
          "output_type": "execute_result"
        }
      ],
      "source": [
        "list(data.columns[19:24])"
      ]
    },
    {
      "cell_type": "code",
      "execution_count": 552,
      "metadata": {},
      "outputs": [],
      "source": [
        "max_pred_len = 7\n",
        "enc_len = 364\n",
        "# training_cutoff = int(data[\"date\"].max()*0.7) - max_pred_len\n",
        "val_cutoff = int(data[\"date\"].max()*0.15) - max_pred_len\n",
        "test_cutoff = int(data[\"date\"].max()*0.3)- max_pred_len\n",
        "\n",
        "training = TimeSeriesDataSet(\n",
        "    data= data.iloc[test_cutoff:],\n",
        "    target='15207507',#'15207507'\n",
        "    group_ids=['groups'],#groups\n",
        "    time_idx='date',#date\n",
        "    min_prediction_idx=test_cutoff,\n",
        "    max_encoder_length=enc_len,\n",
        "    min_encoder_length=enc_len,\n",
        "    min_prediction_length=max_pred_len,\n",
        "    max_prediction_length=max_pred_len,\n",
        "    time_varying_unknown_reals=['15207507'],\n",
        "    time_varying_known_reals=['mean_t2m','mean_tp']#data.columns[20:-1].values.tolist(),\n",
        ")\n",
        "\n",
        "validation = TimeSeriesDataSet.from_dataset(training,data.iloc[: val_cutoff],min_prediction_idx=0,stop_randomization=True)\n",
        "\n",
        "train_dataloader = training.to_dataloader(train=True, batch_size=128, num_workers=2)\n",
        "val_dataloader = validation.to_dataloader(train=False, batch_size=32, num_workers=2)\n"
      ]
    },
    {
      "cell_type": "code",
      "execution_count": 553,
      "metadata": {},
      "outputs": [
        {
          "data": {
            "text/plain": [
              "torch.Size([371, 3])"
            ]
          },
          "execution_count": 553,
          "metadata": {},
          "output_type": "execute_result"
        }
      ],
      "source": [
        "next(iter(training))[0]['x_cont'].shape"
      ]
    },
    {
      "cell_type": "code",
      "execution_count": 554,
      "metadata": {},
      "outputs": [
        {
          "name": "stderr",
          "output_type": "stream",
          "text": [
            "/var/folders/4t/_4f_khl520s03z4ltmxqlnsh0000gn/T/ipykernel_78545/3937294667.py:2: SettingWithCopyWarning: \n",
            "A value is trying to be set on a copy of a slice from a DataFrame.\n",
            "Try using .loc[row_indexer,col_indexer] = value instead\n",
            "\n",
            "See the caveats in the documentation: https://pandas.pydata.org/pandas-docs/stable/user_guide/indexing.html#returning-a-view-versus-a-copy\n",
            "  stream['Datum'] = pd.to_datetime(stream['Datum'])\n"
          ]
        },
        {
          "data": {
            "text/plain": [
              "[<matplotlib.lines.Line2D at 0x3adb478e0>]"
            ]
          },
          "execution_count": 554,
          "metadata": {},
          "output_type": "execute_result"
        },
        {
          "data": {
            "image/png": "[encoded data removed]",
            "text/plain": [
              "<Figure size 1900x600 with 1 Axes>"
            ]
          },
          "metadata": {},
          "output_type": "display_data"
        }
      ],
      "source": [
        "plt.figure(figsize=(19, 6))\n",
        "stream['Datum'] = pd.to_datetime(stream['Datum'])\n",
        "stream = stream.set_index('Datum')\n",
        "plt.plot(stream['15207507'].iloc[-550:])\n",
        "plt.plot(stream['15207507'].rolling(window=3).mean().iloc[-550:])"
      ]
    },
    {
      "cell_type": "code",
      "execution_count": 555,
      "metadata": {},
      "outputs": [
        {
          "data": {
            "text/plain": [
              "<matplotlib.lines.Line2D at 0x3adbbfe50>"
            ]
          },
          "execution_count": 555,
          "metadata": {},
          "output_type": "execute_result"
        },
        {
          "data": {
            "image/png": "[encoded data removed]",
            "text/plain": [
              "<Figure size 1900x600 with 1 Axes>"
            ]
          },
          "metadata": {},
          "output_type": "display_data"
        }
      ],
      "source": [
        "plt.figure(figsize=(19, 6))\n",
        "plt.plot(stream.index,stream['15207507'])\n",
        "plt.xlabel('Date')\n",
        "plt.ylabel('Streamflows m^3 /s')\n",
        "plt.axvline(x=stream.index[val_cutoff], color='r', linestyle='--', linewidth=2)\n",
        "plt.axvline(x=stream.index[test_cutoff], color='g', linestyle='--', linewidth=2)"
      ]
    },
    {
      "cell_type": "code",
      "execution_count": 556,
      "metadata": {},
      "outputs": [],
      "source": [
        "# class KGE(MultiHorizonMetric):\n",
        "#     def loss(self, y_pred, target):\n",
        "#         y_pred = self.to_prediction(y_pred)\n",
        "\n",
        "#         kge_list = []\n",
        "#         for i in range(y_pred.size(0)):\n",
        "#             pred = y_pred[i,:]\n",
        "#             true = target[i,:]\n",
        "\n",
        "#             # Compute correlation coefficient\n",
        "#             r = torch.corrcoef(torch.stack((pred, true)))[0, 1]\n",
        "            \n",
        "#             # Compute alpha and beta\n",
        "#             alpha = pred.std() / true.std()\n",
        "#             beta = pred.mean() / true.mean()\n",
        "            \n",
        "#             # Calculate KGE\n",
        "#             kge = 1 - torch.sqrt((r - 1)**2 + (alpha - 1)**2 + (beta - 1)**2)\n",
        "            \n",
        "#             kge_list.append(kge)\n",
        "\n",
        "#         kge_tensor = torch.stack(kge_list)\n",
        "#         mean_kge = kge_tensor.mean()\n",
        "            \n",
        "#         return -1 * mean_kge"
      ]
    },
    {
      "cell_type": "code",
      "execution_count": 557,
      "metadata": {
        "colab": {
          "base_uri": "https://localhost:8080/"
        },
        "id": "ANkF0g2KCeXB",
        "outputId": "9bcc7aa3-e3c9-44a3-c643-e3b0ade8edbd"
      },
      "outputs": [
        {
          "name": "stderr",
          "output_type": "stream",
          "text": [
            "/Users/lemarx/anaconda3/envs/Climate_Data/lib/python3.10/site-packages/lightning/pytorch/utilities/parsing.py:199: Attribute 'loss' is an instance of `nn.Module` and is already saved during checkpointing. It is recommended to ignore them using `self.save_hyperparameters(ignore=['loss'])`.\n",
            "/Users/lemarx/anaconda3/envs/Climate_Data/lib/python3.10/site-packages/lightning/pytorch/utilities/parsing.py:199: Attribute 'logging_metrics' is an instance of `nn.Module` and is already saved during checkpointing. It is recommended to ignore them using `self.save_hyperparameters(ignore=['logging_metrics'])`.\n",
            "/Users/lemarx/anaconda3/envs/Climate_Data/lib/python3.10/site-packages/torch/nn/modules/rnn.py:83: UserWarning: dropout option adds dropout after all but last recurrent layer, so non-zero dropout expects num_layers greater than 1, but got dropout=0.2 and num_layers=1\n",
            "  warnings.warn(\"dropout option adds dropout after all but last \"\n"
          ]
        }
      ],
      "source": [
        "class LSTMModel(AutoRegressiveBaseModelWithCovariates):\n",
        "    def __init__(\n",
        "        self,\n",
        "        input_size:int,\n",
        "        target: str,\n",
        "        target_lags: Dict[str, Dict[str, int]],\n",
        "        n_layers: int,\n",
        "        hidden_size: int,\n",
        "        x_reals: List[str],\n",
        "        x_categoricals: List[str],\n",
        "        embedding_sizes: Dict[str, Tuple[int, int]],\n",
        "        embedding_labels: Dict[str, List[str]],\n",
        "        static_categoricals: List[str],\n",
        "        static_reals: List[str],\n",
        "        time_varying_categoricals_encoder: List[str],\n",
        "        time_varying_categoricals_decoder: List[str],\n",
        "        time_varying_reals_encoder: List[str],\n",
        "        time_varying_reals_decoder: List[str],\n",
        "        embedding_paddings: List[str],\n",
        "        categorical_groups: Dict[str, List[str]],\n",
        "        dropout: float = 0.2,\n",
        "        **kwargs,\n",
        "\n",
        "    ):\n",
        "        # arguments target and target_lags are required for autoregressive models\n",
        "        # even though target_lags cannot be used without covariates\n",
        "        # saves arguments in signature to `.hparams` attribute, mandatory call - do not skip this\n",
        "        self.save_hyperparameters()\n",
        "        # pass additional arguments to BaseModel.__init__, mandatory call - do not skip this\n",
        "        super().__init__(**kwargs)\n",
        "\n",
        "        # use version of LSTM that can handle zero-length sequences\n",
        "        self.lstm = LSTM(\n",
        "            hidden_size=self.hparams.hidden_size,\n",
        "            input_size=self.hparams.input_size,\n",
        "            num_layers=self.hparams.n_layers,\n",
        "            dropout=self.hparams.dropout,\n",
        "            batch_first=True,\n",
        "        )\n",
        "        self.dropout_layer = nn.Dropout(p = 0.2)\n",
        "        self.output_layer = nn.Linear(self.hparams.hidden_size, 1)\n",
        "\n",
        "    def encode(self, x: Dict[str, torch.Tensor]):\n",
        "        # we need at least one encoding step as because the target needs to be lagged by one time step\n",
        "        # because we use the custom LSTM, we do not have to require encoder lengths of > 1\n",
        "        # but can handle lengths of >= 1\n",
        "        assert x[\"encoder_lengths\"].min() >= 1\n",
        "        input_vector = x[\"encoder_cont\"].clone()\n",
        "\n",
        "        # run through LSTM network\n",
        "        _, hidden_state = self.lstm(\n",
        "            input_vector, enforce_sorted=False  # passing the lengths directly\n",
        "        )  # second ouput is not needed (hidden state)\n",
        "        return hidden_state\n",
        "\n",
        "    def decode(self, x: Dict[str, torch.Tensor], hidden_state):\n",
        "        # again lag target by one\n",
        "        input_vector = x[\"decoder_cont\"].clone()\n",
        "        input_vector[..., self.target_positions] = torch.roll(\n",
        "            input_vector[..., self.target_positions], shifts=1, dims=1\n",
        "        )\n",
        "        # but this time fill in missing target from encoder_cont at the first time step instead of throwing it away\n",
        "        last_encoder_target = x[\"encoder_cont\"][\n",
        "            torch.arange(x[\"encoder_cont\"].size(0), device=x[\"encoder_cont\"].device),\n",
        "            x[\"encoder_lengths\"] - 1,\n",
        "            self.target_positions.unsqueeze(-1),\n",
        "        ].T\n",
        "        input_vector[:, 0, self.target_positions] = last_encoder_target\n",
        "\n",
        "        if self.training:  # training mode\n",
        "            lstm_output, _ = self.lstm(input_vector, hidden_state, lengths=x[\"decoder_lengths\"], enforce_sorted=False)\n",
        "\n",
        "            # transform into right shape\n",
        "            prediction = self.output_layer(lstm_output)\n",
        "            prediction = self.transform_output(prediction, target_scale=x[\"target_scale\"])\n",
        "\n",
        "            # predictions are not yet rescaled\n",
        "            return prediction\n",
        "\n",
        "        else:  # prediction mode\n",
        "            target_pos = self.target_positions\n",
        "\n",
        "            def decode_one(idx, lagged_targets, hidden_state):\n",
        "                x = input_vector[:, [idx]]\n",
        "                # overwrite at target positions\n",
        "                x[:, 0, target_pos] = lagged_targets[-1]  # take most recent target (i.e. lag=1)\n",
        "                lstm_output, hidden_state = self.lstm(x, hidden_state)\n",
        "                # transform into right shape\n",
        "                prediction = self.output_layer(lstm_output)[:, 0]  # take first timestepself.dropout_layer(\n",
        "                return prediction, hidden_state\n",
        "\n",
        "            # make predictions which are fed into next step\n",
        "            output = self.decode_autoregressive(\n",
        "                decode_one,\n",
        "                first_target=input_vector[:, 0, target_pos],\n",
        "                first_hidden_state=hidden_state,\n",
        "                target_scale=x[\"target_scale\"],\n",
        "                n_decoder_steps=input_vector.size(1),\n",
        "            )\n",
        "\n",
        "            # predictions are already rescaled\n",
        "            return output\n",
        "\n",
        "    def forward(self, x: Dict[str, torch.Tensor]) -> Dict[str, torch.Tensor]:\n",
        "        hidden_state = self.encode(x)  # encode to hidden state\n",
        "        output = self.decode(x, hidden_state)  # decode leveraging hidden state\n",
        "\n",
        "        return self.to_network_output(prediction=output)\n",
        "\n",
        "\n",
        "\n",
        "model = LSTMModel.from_dataset(training,\n",
        "                               input_size = 3,\n",
        "                               learning_rate = 0.001,\n",
        "                               n_layers=1,\n",
        "                               hidden_size = 128,\n",
        "                               loss = MAE(),\n",
        "                               dropout = 0.2,\n",
        "                               optimizer = 'adam',\n",
        "                               reduce_on_plateau_patience = 7,\n",
        "                               reduce_on_plateau_min_lr = 0.00005,\n",
        "                               weight_decay = 0.001\n",
        "                               )"
      ]
    },
    {
      "cell_type": "code",
      "execution_count": 558,
      "metadata": {},
      "outputs": [],
      "source": [
        "# early_stopping_callback = EarlyStopping(\n",
        "#     monitor='val_loss',  # metric to monitor\n",
        "#     patience=5,          # number of epochs with no improvement after which training will be stopped\n",
        "#     mode='min',          # 'min' if the monitored metric should be minimized\n",
        "#     verbose=True         # print messages when early stopping\n",
        "# )"
      ]
    },
    {
      "cell_type": "code",
      "execution_count": 559,
      "metadata": {
        "colab": {
          "base_uri": "https://localhost:8080/"
        },
        "id": "w9GwR7HXCeXC",
        "outputId": "b01f93f9-04aa-4ee4-c30a-94d0da0b6d56"
      },
      "outputs": [
        {
          "name": "stderr",
          "output_type": "stream",
          "text": [
            "GPU available: True (mps), used: True\n",
            "TPU available: False, using: 0 TPU cores\n",
            "IPU available: False, using: 0 IPUs\n",
            "HPU available: False, using: 0 HPUs\n"
          ]
        }
      ],
      "source": [
        "trainer = pl.Trainer(\n",
        "    accelerator=\"auto\",\n",
        "    max_epochs=100,\n",
        "    log_every_n_steps=17,\n",
        "    # callbacks=[early_stopping_callback],\n",
        "    # clipping gradients is a hyperparameter and important to prevent divergance\n",
        "    # of the gradient for recurrent neural networks\n",
        "    gradient_clip_val=0.1,\n",
        ")"
      ]
    },
    {
      "cell_type": "code",
      "execution_count": 560,
      "metadata": {
        "colab": {
          "base_uri": "https://localhost:8080/",
          "height": 599,
          "referenced_widgets": [
            "4d8f6e1631884dd493aadcd3b869dc6e",
            "c2518ec19797425088cbd4eaf3d58616",
            "a5d6766bde214c739b390153e20f9fdf",
            "48cbc40b31a243e6a08617c5103ef033",
            "3366b3fba2454d68b9da10ecd76e5a03",
            "1a5ceb31bfc045e3876f62e12dcd27ef",
            "fa71714364184c01a6466fe814ed2f38",
            "8606b9cc867540d58bd5108a2202e9e3",
            "b0ab25d6547c4d91abeb6b25921faa31",
            "3f7e544c55504f83bcc37201f1d47a5c",
            "a483c0c05f3b4a589d66cf429fbed99b",
            "0677595cdb4e4ac79b1a293d352567a9",
            "7a9939dd658e4499842f400278dad68c",
            "9ce4223726d04b6794a41d27b730e901",
            "d45c99372cc54d208db3fef7aa69134c",
            "153b2ed24c4847f6af740ae6e18efb4d",
            "4715f50aaf33407eb6d6438b14c11137",
            "7a3e4000551c4d4ab9986a27a656a188",
            "65d79eebff5c43e7b2e6c0bcf01fdae8",
            "216448241ed04ee6b9e3faae8752379d",
            "bcef218584e24b729a9d3a8ecaa8ee79",
            "e84428878e4644eb8dee9b0abd1b6ea2",
            "fe50aad5b99f48c5b8beb1e4108a22a7",
            "db83de918b5642878fdb00b247c906b4",
            "81e421949501484aa77aa0e4226c996e",
            "3869bb97483f40e68105d69f15e292fc",
            "12a2e9e7c20c459d8c6be509e6f75926",
            "7a587e4acc1d4a5e8d47daf2b90bd93f",
            "15bb22f09b41419393fd48845c9ce75e",
            "3185b94fa0a7484283a3ee2fb049c5aa",
            "ba554fe701db4b62b34a914b6375387e",
            "6d62b87a583f425a867890f4bace7a8e",
            "252ef258a00e4c6dba35ac19bfc3f7b1",
            "3ebaefbf813e46a78fc7e4db4065c562",
            "cdbce62b91594f1cbe1f7c741f955e7c",
            "9b0299ef08494edd892de94868f2a490",
            "5d23a2898dab440280d443129bebcb77",
            "2ac8484740a446159b98208add211630",
            "c0f689aeacc741c8b3517c9448646d3e",
            "1b0227744a964f79834d5d267414ed08",
            "e6d33cc036ee459db5a87277e586561c",
            "2938faf22ece41e9a8db7bb9f7771787",
            "cbfe76bb175e402296f75703f04eefdb",
            "91a7e268325a4c6c9f0d21adebcba1bc",
            "fa34d6d6765749a4a15eaef140f3e9fa",
            "af6b69663b0c4a3e8a78ed8770d89de5",
            "1dca35f306144bc5b014123c25d8cd17",
            "68025f6ce7a34845bfdfbe11a09b4537",
            "4cdcfe2ceac7440b93f455cb2c69bc1a",
            "30ae0d5c59e5422e8f15b50c2b138caf",
            "351514beda27466f84484f37955862a0",
            "c9a3b5763b264c22951252bce67252cd",
            "cebae67c3da34f62990459668c3ae321",
            "86bbc21136d2406cadd74399bf7f993a",
            "212d536d6e114cf580cc7fe6788b3ca9",
            "367d48cab5074d839ba34a6f1803a66c",
            "00a34a6c696547bf8110adb0fc30af24",
            "841294d6505e4de598ed949acbc35a93",
            "0ffa35cf448a45bf806b61ec23a05121",
            "fb7300d0e5634b75957bd2df4fa44004",
            "f4390b524e5f4b2f8697b26cd44f67a2",
            "321cf8a8d07949a38953cc95f4dcbd8b",
            "47e7514f5a9d4ea19491de6b1471070b",
            "cba9c185689c42c6a620c9d4c4be5662",
            "38419c3d25da483a88337b6bef34ab88",
            "864c3ed83c0b4332a82e33a6c46751ef",
            "3876c888dd6145af9ad229f6d5772267",
            "85ab260a49254f7d87036f75b6447482",
            "7621132427964ba285c77163bbe6f663",
            "e49e76c683fe4e999b86ff66c8c1dcc5",
            "b0fbb64ef0244723b5e5639c0037b593",
            "05988a22cb1640b3952429aa6b9cf5b7",
            "c33ac4d6bfd1448ba8c58bc5ce1d628d",
            "feae7a312c2a466cb664a1faab56518b",
            "b286b1b494bb4b8882790f6dece6c233",
            "2ea4960e4779454baaf2d4d3df417179",
            "20ed439774944b5880622e4f4024670f"
          ]
        },
        "id": "hpbYRRZXCeXC",
        "outputId": "362ea1c0-0a35-471b-b5d1-fa276c698def"
      },
      "outputs": [
        {
          "name": "stderr",
          "output_type": "stream",
          "text": [
            "\n",
            "  | Name            | Type       | Params\n",
            "-----------------------------------------------\n",
            "0 | loss            | MAE        | 0     \n",
            "1 | logging_metrics | ModuleList | 0     \n",
            "2 | lstm            | LSTM       | 68.1 K\n",
            "3 | dropout_layer   | Dropout    | 0     \n",
            "4 | output_layer    | Linear     | 129   \n",
            "-----------------------------------------------\n",
            "68.2 K    Trainable params\n",
            "0         Non-trainable params\n",
            "68.2 K    Total params\n",
            "0.273     Total estimated model params size (MB)\n"
          ]
        },
        {
          "data": {
            "application/vnd.jupyter.widget-view+json": {
              "model_id": "a2d4ff8d82c04bb9b85b778ca5927af2",
              "version_major": 2,
              "version_minor": 0
            },
            "text/plain": [
              "Sanity Checking: |          | 0/? [00:00<?, ?it/s]"
            ]
          },
          "metadata": {},
          "output_type": "display_data"
        },
        {
          "name": "stderr",
          "output_type": "stream",
          "text": [
            "/Users/lemarx/anaconda3/envs/Climate_Data/lib/python3.10/site-packages/lightning/pytorch/trainer/connectors/data_connector.py:436: Consider setting `persistent_workers=True` in 'val_dataloader' to speed up the dataloader worker initialization.\n",
            "/Users/lemarx/anaconda3/envs/Climate_Data/lib/python3.10/site-packages/lightning/pytorch/trainer/connectors/data_connector.py:436: Consider setting `persistent_workers=True` in 'train_dataloader' to speed up the dataloader worker initialization.\n"
          ]
        },
        {
          "data": {
            "application/vnd.jupyter.widget-view+json": {
              "model_id": "57e02e885cbf416e88f70136408657ec",
              "version_major": 2,
              "version_minor": 0
            },
            "text/plain": [
              "Training: |          | 0/? [00:00<?, ?it/s]"
            ]
          },
          "metadata": {},
          "output_type": "display_data"
        },
        {
          "data": {
            "application/vnd.jupyter.widget-view+json": {
              "model_id": "dc0d2684336b48fa8b36225f614967ea",
              "version_major": 2,
              "version_minor": 0
            },
            "text/plain": [
              "Validation: |          | 0/? [00:00<?, ?it/s]"
            ]
          },
          "metadata": {},
          "output_type": "display_data"
        },
        {
          "data": {
            "application/vnd.jupyter.widget-view+json": {
              "model_id": "c995b2cf0661422fa6337c6996de4a5a",
              "version_major": 2,
              "version_minor": 0
            },
            "text/plain": [
              "Validation: |          | 0/? [00:00<?, ?it/s]"
            ]
          },
          "metadata": {},
          "output_type": "display_data"
        },
        {
          "data": {
            "application/vnd.jupyter.widget-view+json": {
              "model_id": "7e4c5247e46d41ca95eeff406bdc24e4",
              "version_major": 2,
              "version_minor": 0
            },
            "text/plain": [
              "Validation: |          | 0/? [00:00<?, ?it/s]"
            ]
          },
          "metadata": {},
          "output_type": "display_data"
        },
        {
          "data": {
            "application/vnd.jupyter.widget-view+json": {
              "model_id": "318f816585f5403a87eeb620b0202f11",
              "version_major": 2,
              "version_minor": 0
            },
            "text/plain": [
              "Validation: |          | 0/? [00:00<?, ?it/s]"
            ]
          },
          "metadata": {},
          "output_type": "display_data"
        },
        {
          "data": {
            "application/vnd.jupyter.widget-view+json": {
              "model_id": "e66852de89a546f2911d6ee25b61c8ad",
              "version_major": 2,
              "version_minor": 0
            },
            "text/plain": [
              "Validation: |          | 0/? [00:00<?, ?it/s]"
            ]
          },
          "metadata": {},
          "output_type": "display_data"
        },
        {
          "data": {
            "application/vnd.jupyter.widget-view+json": {
              "model_id": "4db4bfa0f37647738aa5f52e1de60b88",
              "version_major": 2,
              "version_minor": 0
            },
            "text/plain": [
              "Validation: |          | 0/? [00:00<?, ?it/s]"
            ]
          },
          "metadata": {},
          "output_type": "display_data"
        },
        {
          "data": {
            "application/vnd.jupyter.widget-view+json": {
              "model_id": "d572272ebc3d4a2dab5036da32fff5c3",
              "version_major": 2,
              "version_minor": 0
            },
            "text/plain": [
              "Validation: |          | 0/? [00:00<?, ?it/s]"
            ]
          },
          "metadata": {},
          "output_type": "display_data"
        },
        {
          "data": {
            "application/vnd.jupyter.widget-view+json": {
              "model_id": "c36b958118ef45eebaa3f70b0e2ebf32",
              "version_major": 2,
              "version_minor": 0
            },
            "text/plain": [
              "Validation: |          | 0/? [00:00<?, ?it/s]"
            ]
          },
          "metadata": {},
          "output_type": "display_data"
        },
        {
          "data": {
            "application/vnd.jupyter.widget-view+json": {
              "model_id": "a8b5d9413d184902a96e6152034def7d",
              "version_major": 2,
              "version_minor": 0
            },
            "text/plain": [
              "Validation: |          | 0/? [00:00<?, ?it/s]"
            ]
          },
          "metadata": {},
          "output_type": "display_data"
        },
        {
          "data": {
            "application/vnd.jupyter.widget-view+json": {
              "model_id": "607231e781864d33b4f34dfbb35ded47",
              "version_major": 2,
              "version_minor": 0
            },
            "text/plain": [
              "Validation: |          | 0/? [00:00<?, ?it/s]"
            ]
          },
          "metadata": {},
          "output_type": "display_data"
        },
        {
          "data": {
            "application/vnd.jupyter.widget-view+json": {
              "model_id": "beaefb5a2032428caf6c1a7e3a7c4be5",
              "version_major": 2,
              "version_minor": 0
            },
            "text/plain": [
              "Validation: |          | 0/? [00:00<?, ?it/s]"
            ]
          },
          "metadata": {},
          "output_type": "display_data"
        },
        {
          "data": {
            "application/vnd.jupyter.widget-view+json": {
              "model_id": "54e5b82806b4462abd411c27462a03d0",
              "version_major": 2,
              "version_minor": 0
            },
            "text/plain": [
              "Validation: |          | 0/? [00:00<?, ?it/s]"
            ]
          },
          "metadata": {},
          "output_type": "display_data"
        },
        {
          "data": {
            "application/vnd.jupyter.widget-view+json": {
              "model_id": "706d3167448b43cebe124ecdc535b23f",
              "version_major": 2,
              "version_minor": 0
            },
            "text/plain": [
              "Validation: |          | 0/? [00:00<?, ?it/s]"
            ]
          },
          "metadata": {},
          "output_type": "display_data"
        },
        {
          "data": {
            "application/vnd.jupyter.widget-view+json": {
              "model_id": "cb516fa12b3843fba2067361bff26087",
              "version_major": 2,
              "version_minor": 0
            },
            "text/plain": [
              "Validation: |          | 0/? [00:00<?, ?it/s]"
            ]
          },
          "metadata": {},
          "output_type": "display_data"
        },
        {
          "data": {
            "application/vnd.jupyter.widget-view+json": {
              "model_id": "fb2957b6b37a4283851cfdd3e069d654",
              "version_major": 2,
              "version_minor": 0
            },
            "text/plain": [
              "Validation: |          | 0/? [00:00<?, ?it/s]"
            ]
          },
          "metadata": {},
          "output_type": "display_data"
        },
        {
          "data": {
            "application/vnd.jupyter.widget-view+json": {
              "model_id": "65fa66fcd9e947c0bcd3ed45f6e162aa",
              "version_major": 2,
              "version_minor": 0
            },
            "text/plain": [
              "Validation: |          | 0/? [00:00<?, ?it/s]"
            ]
          },
          "metadata": {},
          "output_type": "display_data"
        },
        {
          "data": {
            "application/vnd.jupyter.widget-view+json": {
              "model_id": "3ae862421ba04f458529bebb259b4b84",
              "version_major": 2,
              "version_minor": 0
            },
            "text/plain": [
              "Validation: |          | 0/? [00:00<?, ?it/s]"
            ]
          },
          "metadata": {},
          "output_type": "display_data"
        },
        {
          "data": {
            "application/vnd.jupyter.widget-view+json": {
              "model_id": "0aec532f3fc741fea3907f6ad2f8036f",
              "version_major": 2,
              "version_minor": 0
            },
            "text/plain": [
              "Validation: |          | 0/? [00:00<?, ?it/s]"
            ]
          },
          "metadata": {},
          "output_type": "display_data"
        },
        {
          "data": {
            "application/vnd.jupyter.widget-view+json": {
              "model_id": "e0235d2b2a494691bcb1296865f7ae87",
              "version_major": 2,
              "version_minor": 0
            },
            "text/plain": [
              "Validation: |          | 0/? [00:00<?, ?it/s]"
            ]
          },
          "metadata": {},
          "output_type": "display_data"
        },
        {
          "data": {
            "application/vnd.jupyter.widget-view+json": {
              "model_id": "771ad217d1cb43d38a4850ec24eee85b",
              "version_major": 2,
              "version_minor": 0
            },
            "text/plain": [
              "Validation: |          | 0/? [00:00<?, ?it/s]"
            ]
          },
          "metadata": {},
          "output_type": "display_data"
        },
        {
          "data": {
            "application/vnd.jupyter.widget-view+json": {
              "model_id": "04969365da3b4fc8abe1591c0788a22c",
              "version_major": 2,
              "version_minor": 0
            },
            "text/plain": [
              "Validation: |          | 0/? [00:00<?, ?it/s]"
            ]
          },
          "metadata": {},
          "output_type": "display_data"
        },
        {
          "data": {
            "application/vnd.jupyter.widget-view+json": {
              "model_id": "648439dd9e94437780b5196074fb86b9",
              "version_major": 2,
              "version_minor": 0
            },
            "text/plain": [
              "Validation: |          | 0/? [00:00<?, ?it/s]"
            ]
          },
          "metadata": {},
          "output_type": "display_data"
        },
        {
          "data": {
            "application/vnd.jupyter.widget-view+json": {
              "model_id": "743cbc2c8d3a4ca8bd1c1103bc3a9761",
              "version_major": 2,
              "version_minor": 0
            },
            "text/plain": [
              "Validation: |          | 0/? [00:00<?, ?it/s]"
            ]
          },
          "metadata": {},
          "output_type": "display_data"
        },
        {
          "data": {
            "application/vnd.jupyter.widget-view+json": {
              "model_id": "80b94acbcaee48ecaa830608859bf24e",
              "version_major": 2,
              "version_minor": 0
            },
            "text/plain": [
              "Validation: |          | 0/? [00:00<?, ?it/s]"
            ]
          },
          "metadata": {},
          "output_type": "display_data"
        },
        {
          "data": {
            "application/vnd.jupyter.widget-view+json": {
              "model_id": "0f9fbf559ca640c29969d547336dcee7",
              "version_major": 2,
              "version_minor": 0
            },
            "text/plain": [
              "Validation: |          | 0/? [00:00<?, ?it/s]"
            ]
          },
          "metadata": {},
          "output_type": "display_data"
        },
        {
          "data": {
            "application/vnd.jupyter.widget-view+json": {
              "model_id": "bca332cd9c9345038116a693da89d1b4",
              "version_major": 2,
              "version_minor": 0
            },
            "text/plain": [
              "Validation: |          | 0/? [00:00<?, ?it/s]"
            ]
          },
          "metadata": {},
          "output_type": "display_data"
        },
        {
          "data": {
            "application/vnd.jupyter.widget-view+json": {
              "model_id": "b195792630cb476ba52d4bafcc719268",
              "version_major": 2,
              "version_minor": 0
            },
            "text/plain": [
              "Validation: |          | 0/? [00:00<?, ?it/s]"
            ]
          },
          "metadata": {},
          "output_type": "display_data"
        },
        {
          "data": {
            "application/vnd.jupyter.widget-view+json": {
              "model_id": "d3cb9bfbe55247359e1f1954fc77b138",
              "version_major": 2,
              "version_minor": 0
            },
            "text/plain": [
              "Validation: |          | 0/? [00:00<?, ?it/s]"
            ]
          },
          "metadata": {},
          "output_type": "display_data"
        },
        {
          "data": {
            "application/vnd.jupyter.widget-view+json": {
              "model_id": "9d1608cc7dd84b228f53df811c0921dd",
              "version_major": 2,
              "version_minor": 0
            },
            "text/plain": [
              "Validation: |          | 0/? [00:00<?, ?it/s]"
            ]
          },
          "metadata": {},
          "output_type": "display_data"
        },
        {
          "data": {
            "application/vnd.jupyter.widget-view+json": {
              "model_id": "0f114f9a819a4bed9533ff1ec0da3503",
              "version_major": 2,
              "version_minor": 0
            },
            "text/plain": [
              "Validation: |          | 0/? [00:00<?, ?it/s]"
            ]
          },
          "metadata": {},
          "output_type": "display_data"
        },
        {
          "data": {
            "application/vnd.jupyter.widget-view+json": {
              "model_id": "8057f657bb11436ca8e154c054b06dc4",
              "version_major": 2,
              "version_minor": 0
            },
            "text/plain": [
              "Validation: |          | 0/? [00:00<?, ?it/s]"
            ]
          },
          "metadata": {},
          "output_type": "display_data"
        },
        {
          "data": {
            "application/vnd.jupyter.widget-view+json": {
              "model_id": "129b48b14b174869b85e6c4d60f8918e",
              "version_major": 2,
              "version_minor": 0
            },
            "text/plain": [
              "Validation: |          | 0/? [00:00<?, ?it/s]"
            ]
          },
          "metadata": {},
          "output_type": "display_data"
        },
        {
          "data": {
            "application/vnd.jupyter.widget-view+json": {
              "model_id": "eaa1fc86d1fa4bb798a0ef83048c678b",
              "version_major": 2,
              "version_minor": 0
            },
            "text/plain": [
              "Validation: |          | 0/? [00:00<?, ?it/s]"
            ]
          },
          "metadata": {},
          "output_type": "display_data"
        },
        {
          "data": {
            "application/vnd.jupyter.widget-view+json": {
              "model_id": "c14aa04bf44645638e7fb55f318a83ea",
              "version_major": 2,
              "version_minor": 0
            },
            "text/plain": [
              "Validation: |          | 0/? [00:00<?, ?it/s]"
            ]
          },
          "metadata": {},
          "output_type": "display_data"
        },
        {
          "data": {
            "application/vnd.jupyter.widget-view+json": {
              "model_id": "af35530309f949f0bc403371bc936e26",
              "version_major": 2,
              "version_minor": 0
            },
            "text/plain": [
              "Validation: |          | 0/? [00:00<?, ?it/s]"
            ]
          },
          "metadata": {},
          "output_type": "display_data"
        },
        {
          "data": {
            "application/vnd.jupyter.widget-view+json": {
              "model_id": "9e3df3d3b3cc45eda9fa031907ff4140",
              "version_major": 2,
              "version_minor": 0
            },
            "text/plain": [
              "Validation: |          | 0/? [00:00<?, ?it/s]"
            ]
          },
          "metadata": {},
          "output_type": "display_data"
        },
        {
          "data": {
            "application/vnd.jupyter.widget-view+json": {
              "model_id": "cd1bb66969e546d985eda581d38425e4",
              "version_major": 2,
              "version_minor": 0
            },
            "text/plain": [
              "Validation: |          | 0/? [00:00<?, ?it/s]"
            ]
          },
          "metadata": {},
          "output_type": "display_data"
        },
        {
          "data": {
            "application/vnd.jupyter.widget-view+json": {
              "model_id": "b3359ecb70e24bc8857d3cab685b9a38",
              "version_major": 2,
              "version_minor": 0
            },
            "text/plain": [
              "Validation: |          | 0/? [00:00<?, ?it/s]"
            ]
          },
          "metadata": {},
          "output_type": "display_data"
        },
        {
          "data": {
            "application/vnd.jupyter.widget-view+json": {
              "model_id": "a1836024def445f3bcdda7a100899da8",
              "version_major": 2,
              "version_minor": 0
            },
            "text/plain": [
              "Validation: |          | 0/? [00:00<?, ?it/s]"
            ]
          },
          "metadata": {},
          "output_type": "display_data"
        },
        {
          "data": {
            "application/vnd.jupyter.widget-view+json": {
              "model_id": "62267819ffe242649ecc8ff62a3be346",
              "version_major": 2,
              "version_minor": 0
            },
            "text/plain": [
              "Validation: |          | 0/? [00:00<?, ?it/s]"
            ]
          },
          "metadata": {},
          "output_type": "display_data"
        },
        {
          "data": {
            "application/vnd.jupyter.widget-view+json": {
              "model_id": "4f4a5e92225940e7b1a0e9475ebd05c8",
              "version_major": 2,
              "version_minor": 0
            },
            "text/plain": [
              "Validation: |          | 0/? [00:00<?, ?it/s]"
            ]
          },
          "metadata": {},
          "output_type": "display_data"
        },
        {
          "data": {
            "application/vnd.jupyter.widget-view+json": {
              "model_id": "4e42797291a54ed99f79f418346f1675",
              "version_major": 2,
              "version_minor": 0
            },
            "text/plain": [
              "Validation: |          | 0/? [00:00<?, ?it/s]"
            ]
          },
          "metadata": {},
          "output_type": "display_data"
        },
        {
          "data": {
            "application/vnd.jupyter.widget-view+json": {
              "model_id": "67cf53251eaa4fc088a6067c4d5abc55",
              "version_major": 2,
              "version_minor": 0
            },
            "text/plain": [
              "Validation: |          | 0/? [00:00<?, ?it/s]"
            ]
          },
          "metadata": {},
          "output_type": "display_data"
        },
        {
          "data": {
            "application/vnd.jupyter.widget-view+json": {
              "model_id": "44a92a068e974c70af2dcc1e2907f00c",
              "version_major": 2,
              "version_minor": 0
            },
            "text/plain": [
              "Validation: |          | 0/? [00:00<?, ?it/s]"
            ]
          },
          "metadata": {},
          "output_type": "display_data"
        },
        {
          "data": {
            "application/vnd.jupyter.widget-view+json": {
              "model_id": "94c02d4babbd414e90c014d8206cbe89",
              "version_major": 2,
              "version_minor": 0
            },
            "text/plain": [
              "Validation: |          | 0/? [00:00<?, ?it/s]"
            ]
          },
          "metadata": {},
          "output_type": "display_data"
        },
        {
          "data": {
            "application/vnd.jupyter.widget-view+json": {
              "model_id": "fc96fd2fbd1e46b2bc6d80da6cb5944b",
              "version_major": 2,
              "version_minor": 0
            },
            "text/plain": [
              "Validation: |          | 0/? [00:00<?, ?it/s]"
            ]
          },
          "metadata": {},
          "output_type": "display_data"
        },
        {
          "data": {
            "application/vnd.jupyter.widget-view+json": {
              "model_id": "f03f013edfcb4a17b7695931477732ee",
              "version_major": 2,
              "version_minor": 0
            },
            "text/plain": [
              "Validation: |          | 0/? [00:00<?, ?it/s]"
            ]
          },
          "metadata": {},
          "output_type": "display_data"
        },
        {
          "data": {
            "application/vnd.jupyter.widget-view+json": {
              "model_id": "9381be00905a4179a2879810aa9a1f89",
              "version_major": 2,
              "version_minor": 0
            },
            "text/plain": [
              "Validation: |          | 0/? [00:00<?, ?it/s]"
            ]
          },
          "metadata": {},
          "output_type": "display_data"
        },
        {
          "data": {
            "application/vnd.jupyter.widget-view+json": {
              "model_id": "977401d12ce34ceba12a68b32bbe40aa",
              "version_major": 2,
              "version_minor": 0
            },
            "text/plain": [
              "Validation: |          | 0/? [00:00<?, ?it/s]"
            ]
          },
          "metadata": {},
          "output_type": "display_data"
        },
        {
          "data": {
            "application/vnd.jupyter.widget-view+json": {
              "model_id": "ba0b83756da049f2aff6e3c10e031234",
              "version_major": 2,
              "version_minor": 0
            },
            "text/plain": [
              "Validation: |          | 0/? [00:00<?, ?it/s]"
            ]
          },
          "metadata": {},
          "output_type": "display_data"
        },
        {
          "data": {
            "application/vnd.jupyter.widget-view+json": {
              "model_id": "193d5c9a52914981b491e1de72b61541",
              "version_major": 2,
              "version_minor": 0
            },
            "text/plain": [
              "Validation: |          | 0/? [00:00<?, ?it/s]"
            ]
          },
          "metadata": {},
          "output_type": "display_data"
        },
        {
          "data": {
            "application/vnd.jupyter.widget-view+json": {
              "model_id": "9628fa6797db4a12b445326bbbf8aa10",
              "version_major": 2,
              "version_minor": 0
            },
            "text/plain": [
              "Validation: |          | 0/? [00:00<?, ?it/s]"
            ]
          },
          "metadata": {},
          "output_type": "display_data"
        },
        {
          "data": {
            "application/vnd.jupyter.widget-view+json": {
              "model_id": "3300a14d3a9f44f4bfde24e520742e90",
              "version_major": 2,
              "version_minor": 0
            },
            "text/plain": [
              "Validation: |          | 0/? [00:00<?, ?it/s]"
            ]
          },
          "metadata": {},
          "output_type": "display_data"
        },
        {
          "data": {
            "application/vnd.jupyter.widget-view+json": {
              "model_id": "aa57194ecb774cd9b6b0c0e30dfc9e75",
              "version_major": 2,
              "version_minor": 0
            },
            "text/plain": [
              "Validation: |          | 0/? [00:00<?, ?it/s]"
            ]
          },
          "metadata": {},
          "output_type": "display_data"
        },
        {
          "data": {
            "application/vnd.jupyter.widget-view+json": {
              "model_id": "51ab5884bb8a45839959416e35a7d38e",
              "version_major": 2,
              "version_minor": 0
            },
            "text/plain": [
              "Validation: |          | 0/? [00:00<?, ?it/s]"
            ]
          },
          "metadata": {},
          "output_type": "display_data"
        },
        {
          "data": {
            "application/vnd.jupyter.widget-view+json": {
              "model_id": "e484c38bcc81485089542bdb76f86732",
              "version_major": 2,
              "version_minor": 0
            },
            "text/plain": [
              "Validation: |          | 0/? [00:00<?, ?it/s]"
            ]
          },
          "metadata": {},
          "output_type": "display_data"
        },
        {
          "data": {
            "application/vnd.jupyter.widget-view+json": {
              "model_id": "ade1644a5b384b0e84b3338170e75d12",
              "version_major": 2,
              "version_minor": 0
            },
            "text/plain": [
              "Validation: |          | 0/? [00:00<?, ?it/s]"
            ]
          },
          "metadata": {},
          "output_type": "display_data"
        },
        {
          "data": {
            "application/vnd.jupyter.widget-view+json": {
              "model_id": "7bad7d0139a5403d84c4eaa79c1964c8",
              "version_major": 2,
              "version_minor": 0
            },
            "text/plain": [
              "Validation: |          | 0/? [00:00<?, ?it/s]"
            ]
          },
          "metadata": {},
          "output_type": "display_data"
        },
        {
          "data": {
            "application/vnd.jupyter.widget-view+json": {
              "model_id": "b16b562377e84bb59d73f8280718d74c",
              "version_major": 2,
              "version_minor": 0
            },
            "text/plain": [
              "Validation: |          | 0/? [00:00<?, ?it/s]"
            ]
          },
          "metadata": {},
          "output_type": "display_data"
        },
        {
          "data": {
            "application/vnd.jupyter.widget-view+json": {
              "model_id": "939f3accf27b432bb0add963ac79bca5",
              "version_major": 2,
              "version_minor": 0
            },
            "text/plain": [
              "Validation: |          | 0/? [00:00<?, ?it/s]"
            ]
          },
          "metadata": {},
          "output_type": "display_data"
        },
        {
          "data": {
            "application/vnd.jupyter.widget-view+json": {
              "model_id": "0091b63ca1d748999f559985e5081294",
              "version_major": 2,
              "version_minor": 0
            },
            "text/plain": [
              "Validation: |          | 0/? [00:00<?, ?it/s]"
            ]
          },
          "metadata": {},
          "output_type": "display_data"
        },
        {
          "data": {
            "application/vnd.jupyter.widget-view+json": {
              "model_id": "d2e7cf8d017340e1a1b57bc8f41f69d3",
              "version_major": 2,
              "version_minor": 0
            },
            "text/plain": [
              "Validation: |          | 0/? [00:00<?, ?it/s]"
            ]
          },
          "metadata": {},
          "output_type": "display_data"
        },
        {
          "data": {
            "application/vnd.jupyter.widget-view+json": {
              "model_id": "a593202f65364784a025288584a23f66",
              "version_major": 2,
              "version_minor": 0
            },
            "text/plain": [
              "Validation: |          | 0/? [00:00<?, ?it/s]"
            ]
          },
          "metadata": {},
          "output_type": "display_data"
        },
        {
          "data": {
            "application/vnd.jupyter.widget-view+json": {
              "model_id": "c9aca0201b4c44f6a28950b5e31b2b41",
              "version_major": 2,
              "version_minor": 0
            },
            "text/plain": [
              "Validation: |          | 0/? [00:00<?, ?it/s]"
            ]
          },
          "metadata": {},
          "output_type": "display_data"
        },
        {
          "data": {
            "application/vnd.jupyter.widget-view+json": {
              "model_id": "960946d6aa1543879d9426e8e761f4a9",
              "version_major": 2,
              "version_minor": 0
            },
            "text/plain": [
              "Validation: |          | 0/? [00:00<?, ?it/s]"
            ]
          },
          "metadata": {},
          "output_type": "display_data"
        },
        {
          "data": {
            "application/vnd.jupyter.widget-view+json": {
              "model_id": "87cabf02ec0245ecb5e0167cec7a5216",
              "version_major": 2,
              "version_minor": 0
            },
            "text/plain": [
              "Validation: |          | 0/? [00:00<?, ?it/s]"
            ]
          },
          "metadata": {},
          "output_type": "display_data"
        },
        {
          "data": {
            "application/vnd.jupyter.widget-view+json": {
              "model_id": "7481110d07454c83a80a9d66aa0606e7",
              "version_major": 2,
              "version_minor": 0
            },
            "text/plain": [
              "Validation: |          | 0/? [00:00<?, ?it/s]"
            ]
          },
          "metadata": {},
          "output_type": "display_data"
        },
        {
          "data": {
            "application/vnd.jupyter.widget-view+json": {
              "model_id": "8b6be1b03eef4407947ae80fa255ec2b",
              "version_major": 2,
              "version_minor": 0
            },
            "text/plain": [
              "Validation: |          | 0/? [00:00<?, ?it/s]"
            ]
          },
          "metadata": {},
          "output_type": "display_data"
        },
        {
          "data": {
            "application/vnd.jupyter.widget-view+json": {
              "model_id": "1ee4a118e3154f5a90e735453f2e2d0f",
              "version_major": 2,
              "version_minor": 0
            },
            "text/plain": [
              "Validation: |          | 0/? [00:00<?, ?it/s]"
            ]
          },
          "metadata": {},
          "output_type": "display_data"
        },
        {
          "data": {
            "application/vnd.jupyter.widget-view+json": {
              "model_id": "494f464cf46e4a168b342f20f5cd4d0e",
              "version_major": 2,
              "version_minor": 0
            },
            "text/plain": [
              "Validation: |          | 0/? [00:00<?, ?it/s]"
            ]
          },
          "metadata": {},
          "output_type": "display_data"
        },
        {
          "data": {
            "application/vnd.jupyter.widget-view+json": {
              "model_id": "bf75ba23561e495db4449868a624759d",
              "version_major": 2,
              "version_minor": 0
            },
            "text/plain": [
              "Validation: |          | 0/? [00:00<?, ?it/s]"
            ]
          },
          "metadata": {},
          "output_type": "display_data"
        },
        {
          "data": {
            "application/vnd.jupyter.widget-view+json": {
              "model_id": "d58463232f154a1b927eae684dc4e62c",
              "version_major": 2,
              "version_minor": 0
            },
            "text/plain": [
              "Validation: |          | 0/? [00:00<?, ?it/s]"
            ]
          },
          "metadata": {},
          "output_type": "display_data"
        },
        {
          "data": {
            "application/vnd.jupyter.widget-view+json": {
              "model_id": "1f5cdd9e451f4f0b8f3e80e9fb2c0f1a",
              "version_major": 2,
              "version_minor": 0
            },
            "text/plain": [
              "Validation: |          | 0/? [00:00<?, ?it/s]"
            ]
          },
          "metadata": {},
          "output_type": "display_data"
        },
        {
          "data": {
            "application/vnd.jupyter.widget-view+json": {
              "model_id": "8dfcedaaa51e4fd78f53197be43490e1",
              "version_major": 2,
              "version_minor": 0
            },
            "text/plain": [
              "Validation: |          | 0/? [00:00<?, ?it/s]"
            ]
          },
          "metadata": {},
          "output_type": "display_data"
        },
        {
          "data": {
            "application/vnd.jupyter.widget-view+json": {
              "model_id": "2018776059ab45aaa885dfac78f2a931",
              "version_major": 2,
              "version_minor": 0
            },
            "text/plain": [
              "Validation: |          | 0/? [00:00<?, ?it/s]"
            ]
          },
          "metadata": {},
          "output_type": "display_data"
        },
        {
          "data": {
            "application/vnd.jupyter.widget-view+json": {
              "model_id": "64d1e66bb2ff4f8181b91cac5bdb9265",
              "version_major": 2,
              "version_minor": 0
            },
            "text/plain": [
              "Validation: |          | 0/? [00:00<?, ?it/s]"
            ]
          },
          "metadata": {},
          "output_type": "display_data"
        },
        {
          "data": {
            "application/vnd.jupyter.widget-view+json": {
              "model_id": "a72503d739744ae18b24c9fb68003152",
              "version_major": 2,
              "version_minor": 0
            },
            "text/plain": [
              "Validation: |          | 0/? [00:00<?, ?it/s]"
            ]
          },
          "metadata": {},
          "output_type": "display_data"
        },
        {
          "data": {
            "application/vnd.jupyter.widget-view+json": {
              "model_id": "bb3cd460fb2d4c589064f537947ebd9b",
              "version_major": 2,
              "version_minor": 0
            },
            "text/plain": [
              "Validation: |          | 0/? [00:00<?, ?it/s]"
            ]
          },
          "metadata": {},
          "output_type": "display_data"
        },
        {
          "data": {
            "application/vnd.jupyter.widget-view+json": {
              "model_id": "f519215cebb948239d1f40e37f5cd974",
              "version_major": 2,
              "version_minor": 0
            },
            "text/plain": [
              "Validation: |          | 0/? [00:00<?, ?it/s]"
            ]
          },
          "metadata": {},
          "output_type": "display_data"
        },
        {
          "data": {
            "application/vnd.jupyter.widget-view+json": {
              "model_id": "7030142fbfa644b7b20dd6b6c59780bf",
              "version_major": 2,
              "version_minor": 0
            },
            "text/plain": [
              "Validation: |          | 0/? [00:00<?, ?it/s]"
            ]
          },
          "metadata": {},
          "output_type": "display_data"
        },
        {
          "data": {
            "application/vnd.jupyter.widget-view+json": {
              "model_id": "813ae453f42440149b2a7fb2f6f007ef",
              "version_major": 2,
              "version_minor": 0
            },
            "text/plain": [
              "Validation: |          | 0/? [00:00<?, ?it/s]"
            ]
          },
          "metadata": {},
          "output_type": "display_data"
        },
        {
          "data": {
            "application/vnd.jupyter.widget-view+json": {
              "model_id": "31d18c06002f42be893d4cd15f58f4a8",
              "version_major": 2,
              "version_minor": 0
            },
            "text/plain": [
              "Validation: |          | 0/? [00:00<?, ?it/s]"
            ]
          },
          "metadata": {},
          "output_type": "display_data"
        },
        {
          "data": {
            "application/vnd.jupyter.widget-view+json": {
              "model_id": "70ba935480a0427187a36809a34b0616",
              "version_major": 2,
              "version_minor": 0
            },
            "text/plain": [
              "Validation: |          | 0/? [00:00<?, ?it/s]"
            ]
          },
          "metadata": {},
          "output_type": "display_data"
        },
        {
          "data": {
            "application/vnd.jupyter.widget-view+json": {
              "model_id": "08fc2bcade08490cb065ebc1a147d23c",
              "version_major": 2,
              "version_minor": 0
            },
            "text/plain": [
              "Validation: |          | 0/? [00:00<?, ?it/s]"
            ]
          },
          "metadata": {},
          "output_type": "display_data"
        },
        {
          "data": {
            "application/vnd.jupyter.widget-view+json": {
              "model_id": "80639b7fbddc453c8fe27925df33b079",
              "version_major": 2,
              "version_minor": 0
            },
            "text/plain": [
              "Validation: |          | 0/? [00:00<?, ?it/s]"
            ]
          },
          "metadata": {},
          "output_type": "display_data"
        },
        {
          "data": {
            "application/vnd.jupyter.widget-view+json": {
              "model_id": "8045930b121445d98eb2b51c2b796dea",
              "version_major": 2,
              "version_minor": 0
            },
            "text/plain": [
              "Validation: |          | 0/? [00:00<?, ?it/s]"
            ]
          },
          "metadata": {},
          "output_type": "display_data"
        },
        {
          "data": {
            "application/vnd.jupyter.widget-view+json": {
              "model_id": "01ba3436277c4d4f9c22e541b805d4b7",
              "version_major": 2,
              "version_minor": 0
            },
            "text/plain": [
              "Validation: |          | 0/? [00:00<?, ?it/s]"
            ]
          },
          "metadata": {},
          "output_type": "display_data"
        },
        {
          "data": {
            "application/vnd.jupyter.widget-view+json": {
              "model_id": "5b1d1dba70df4a5b94592bfce3f459ab",
              "version_major": 2,
              "version_minor": 0
            },
            "text/plain": [
              "Validation: |          | 0/? [00:00<?, ?it/s]"
            ]
          },
          "metadata": {},
          "output_type": "display_data"
        },
        {
          "data": {
            "application/vnd.jupyter.widget-view+json": {
              "model_id": "abbd6e881815437182ba1e31e48e82f8",
              "version_major": 2,
              "version_minor": 0
            },
            "text/plain": [
              "Validation: |          | 0/? [00:00<?, ?it/s]"
            ]
          },
          "metadata": {},
          "output_type": "display_data"
        },
        {
          "data": {
            "application/vnd.jupyter.widget-view+json": {
              "model_id": "dfef70dfb2f94cfa9b71d55d6ce956b6",
              "version_major": 2,
              "version_minor": 0
            },
            "text/plain": [
              "Validation: |          | 0/? [00:00<?, ?it/s]"
            ]
          },
          "metadata": {},
          "output_type": "display_data"
        },
        {
          "data": {
            "application/vnd.jupyter.widget-view+json": {
              "model_id": "836fc534ac634ee1b1893e64fb1cb07d",
              "version_major": 2,
              "version_minor": 0
            },
            "text/plain": [
              "Validation: |          | 0/? [00:00<?, ?it/s]"
            ]
          },
          "metadata": {},
          "output_type": "display_data"
        },
        {
          "data": {
            "application/vnd.jupyter.widget-view+json": {
              "model_id": "60bdb5aaa0594461a84b2f8e6cdf3df3",
              "version_major": 2,
              "version_minor": 0
            },
            "text/plain": [
              "Validation: |          | 0/? [00:00<?, ?it/s]"
            ]
          },
          "metadata": {},
          "output_type": "display_data"
        },
        {
          "data": {
            "application/vnd.jupyter.widget-view+json": {
              "model_id": "dc738235464c46539453bf96c696968d",
              "version_major": 2,
              "version_minor": 0
            },
            "text/plain": [
              "Validation: |          | 0/? [00:00<?, ?it/s]"
            ]
          },
          "metadata": {},
          "output_type": "display_data"
        },
        {
          "data": {
            "application/vnd.jupyter.widget-view+json": {
              "model_id": "712a9dc10a54472aabbc7da3b07e11ec",
              "version_major": 2,
              "version_minor": 0
            },
            "text/plain": [
              "Validation: |          | 0/? [00:00<?, ?it/s]"
            ]
          },
          "metadata": {},
          "output_type": "display_data"
        },
        {
          "data": {
            "application/vnd.jupyter.widget-view+json": {
              "model_id": "b20ac92ba92844f6b9d7ff2902b0bfa9",
              "version_major": 2,
              "version_minor": 0
            },
            "text/plain": [
              "Validation: |          | 0/? [00:00<?, ?it/s]"
            ]
          },
          "metadata": {},
          "output_type": "display_data"
        },
        {
          "data": {
            "application/vnd.jupyter.widget-view+json": {
              "model_id": "532e38e203af4759afc7844da3330e01",
              "version_major": 2,
              "version_minor": 0
            },
            "text/plain": [
              "Validation: |          | 0/? [00:00<?, ?it/s]"
            ]
          },
          "metadata": {},
          "output_type": "display_data"
        },
        {
          "data": {
            "application/vnd.jupyter.widget-view+json": {
              "model_id": "72060220921941f8b90cb528af1674a7",
              "version_major": 2,
              "version_minor": 0
            },
            "text/plain": [
              "Validation: |          | 0/? [00:00<?, ?it/s]"
            ]
          },
          "metadata": {},
          "output_type": "display_data"
        },
        {
          "data": {
            "application/vnd.jupyter.widget-view+json": {
              "model_id": "2e11ff89dc16438082cdcb111f664088",
              "version_major": 2,
              "version_minor": 0
            },
            "text/plain": [
              "Validation: |          | 0/? [00:00<?, ?it/s]"
            ]
          },
          "metadata": {},
          "output_type": "display_data"
        },
        {
          "data": {
            "application/vnd.jupyter.widget-view+json": {
              "model_id": "84391fbdda09474fba2f46b50d3aa525",
              "version_major": 2,
              "version_minor": 0
            },
            "text/plain": [
              "Validation: |          | 0/? [00:00<?, ?it/s]"
            ]
          },
          "metadata": {},
          "output_type": "display_data"
        },
        {
          "data": {
            "application/vnd.jupyter.widget-view+json": {
              "model_id": "0415890884a44253b1b1fd02000a30f4",
              "version_major": 2,
              "version_minor": 0
            },
            "text/plain": [
              "Validation: |          | 0/? [00:00<?, ?it/s]"
            ]
          },
          "metadata": {},
          "output_type": "display_data"
        },
        {
          "name": "stderr",
          "output_type": "stream",
          "text": [
            "`Trainer.fit` stopped: `max_epochs=100` reached.\n"
          ]
        }
      ],
      "source": [
        "# fit network\n",
        "trainer.fit(\n",
        "    model,\n",
        "    train_dataloaders=train_dataloader,\n",
        "    val_dataloaders=val_dataloader,\n",
        ")"
      ]
    },
    {
      "cell_type": "code",
      "execution_count": 561,
      "metadata": {},
      "outputs": [],
      "source": [
        "best_model_path = trainer.checkpoint_callback.best_model_path\n",
        "best_lstm = LSTMModel.load_from_checkpoint(best_model_path)#os.path.join(best_model_path,'lightning_logs','version_24','checkpoints','epoch=19-step=680.ckpt'))\n"
      ]
    },
    {
      "cell_type": "code",
      "execution_count": 562,
      "metadata": {},
      "outputs": [
        {
          "data": {
            "text/plain": [
              "542"
            ]
          },
          "execution_count": 562,
          "metadata": {},
          "output_type": "execute_result"
        }
      ],
      "source": [
        "test = TimeSeriesDataSet.from_dataset(training,data[:test_cutoff-2],min_prediction_idx= val_cutoff,stop_randomization=True)\n",
        "test_dataloader = test.to_dataloader(train=False, batch_size=1, num_workers=2)\n",
        "len(test)"
      ]
    },
    {
      "cell_type": "code",
      "execution_count": 563,
      "metadata": {},
      "outputs": [
        {
          "name": "stderr",
          "output_type": "stream",
          "text": [
            "GPU available: True (mps), used: False\n",
            "TPU available: False, using: 0 TPU cores\n",
            "IPU available: False, using: 0 IPUs\n",
            "HPU available: False, using: 0 HPUs\n",
            "/Users/lemarx/anaconda3/envs/Climate_Data/lib/python3.10/site-packages/lightning/pytorch/trainer/setup.py:187: GPU available but not used. You can set it by doing `Trainer(accelerator='gpu')`.\n",
            "/Users/lemarx/anaconda3/envs/Climate_Data/lib/python3.10/site-packages/lightning/pytorch/trainer/connectors/data_connector.py:436: Consider setting `persistent_workers=True` in 'predict_dataloader' to speed up the dataloader worker initialization.\n"
          ]
        }
      ],
      "source": [
        "predictions = best_lstm.predict(test_dataloader,return_y=True,trainer_kwargs=dict(accelerator=\"cpu\"))\n"
      ]
    },
    {
      "cell_type": "code",
      "execution_count": 564,
      "metadata": {},
      "outputs": [],
      "source": [
        "def kge(inputs,targets):\n",
        "    r = torch.corrcoef(torch.stack((inputs.squeeze(),targets)))[0][1]\n",
        "    alpha = inputs.std()/targets.std()\n",
        "    beta = inputs.mean()/targets.mean()\n",
        "    kge = torch.sqrt(torch.square(r-1) + torch.square(alpha-1) + torch.square(beta-1))\n",
        "    return 1 - kge"
      ]
    },
    {
      "cell_type": "code",
      "execution_count": 565,
      "metadata": {},
      "outputs": [
        {
          "data": {
            "text/plain": [
              "{'lag: 7': tensor(0.1830, dtype=torch.float64),\n",
              " 'lag: 6': tensor(0.2495, dtype=torch.float64),\n",
              " 'lag: 5': tensor(0.3304, dtype=torch.float64),\n",
              " 'lag: 4': tensor(0.4362, dtype=torch.float64),\n",
              " 'lag: 3': tensor(0.5702, dtype=torch.float64),\n",
              " 'lag: 2': tensor(0.7275, dtype=torch.float64),\n",
              " 'lag: 1': tensor(0.8851, dtype=torch.float64)}"
            ]
          },
          "execution_count": 565,
          "metadata": {},
          "output_type": "execute_result"
        }
      ],
      "source": [
        "results = {}\n",
        "for i in range(predictions.output.size(1)):\n",
        "    if i == 0:\n",
        "        results[f\"lag: {max_pred_len - i }\"] = kge(torch.tensor(stream['15207507'].iloc[val_cutoff :test_cutoff- max_pred_len+1].values),predictions.output[:,max_pred_len-i-1])\n",
        "        continue\n",
        "    results[f\"lag: {max_pred_len - i}\"] = kge(torch.tensor(stream['15207507'].iloc[val_cutoff :test_cutoff-max_pred_len+1].values),predictions.output[:,max_pred_len-i-1])\n",
        "\n",
        "results "
      ]
    },
    {
      "cell_type": "code",
      "execution_count": 566,
      "metadata": {},
      "outputs": [],
      "source": [
        "#save results\n",
        "pd.DataFrame(results,index=[0]).to_csv(os.path.join('..','results','LSTM_res',f\"lead_time_{max_pred_len}_results.csv\"))\n"
      ]
    },
    {
      "cell_type": "code",
      "execution_count": 567,
      "metadata": {},
      "outputs": [
        {
          "data": {
            "image/png": "[encoded data removed]",
            "text/plain": [
              "<Figure size 1600x900 with 1 Axes>"
            ]
          },
          "metadata": {},
          "output_type": "display_data"
        }
      ],
      "source": [
        "import matplotlib.dates as mdates\n",
        "\n",
        "\n",
        "# stream_plot = stream.set_index('Datum')\n",
        "stream_plot = stream.copy()\n",
        "predictions_np = predictions.output[:,max_pred_len-1].numpy()#[:,max_pred_len-1]\n",
        "# true_values_np = predictions.y[0].view(-1, 1).squeeze().numpy()\n",
        "\n",
        "# Plotting\n",
        "\n",
        "plt.figure(figsize=(16, 9))\n",
        "\n",
        "\n",
        "plt.plot(stream_plot.index[val_cutoff:test_cutoff- max_pred_len+1],stream_plot['15207507'].iloc[val_cutoff :test_cutoff - max_pred_len + 1].values,  label = 'true values')\n",
        "\n",
        "for i in range(0,predictions.output.size(1),4):\n",
        "    predictions_np = predictions.output[:,max_pred_len-i-1].numpy()\n",
        "    if i == 0:\n",
        "        plt.plot(stream_plot.index[val_cutoff:test_cutoff- max_pred_len+1],predictions_np, label=f\"Predictions Lag :{max_pred_len}\")\n",
        "        continue\n",
        "    plt.plot(stream_plot.index[val_cutoff:test_cutoff- max_pred_len+1],predictions_np, label=f\"Predictions Lag :{max_pred_len-i}\")\n",
        "\n",
        "\n",
        "plt.ylabel('Streamflow [m3/s]')\n",
        "plt.title('Streamflows at Marienthal')\n",
        "\n",
        "plt.gca().xaxis.set_major_locator(mdates.DayLocator(interval=14))\n",
        "plt.legend()\n",
        "plt.xticks(rotation=90)\n",
        "plt.show()"
      ]
    }
  ],
  "metadata": {
    "accelerator": "GPU",
    "colab": {
      "gpuType": "T4",
      "provenance": []
    },
    "kernelspec": {
      "display_name": "Python 3",
      "name": "python3"
    },
    "language_info": {
      "codemirror_mode": {
        "name": "ipython",
        "version": 3
      },
      "file_extension": ".py",
      "mimetype": "text/x-python",
      "name": "python",
      "nbconvert_exporter": "python",
      "pygments_lexer": "ipython3",
      "version": "3.10.14"
    },
    "widgets": {
      "application/vnd.jupyter.widget-state+json": {
        "00a34a6c696547bf8110adb0fc30af24": {
          "model_module": "@jupyter-widgets/controls",
          "model_module_version": "1.5.0",
          "model_name": "HTMLModel",
          "state": {
            "_dom_classes": [],
            "_model_module": "@jupyter-widgets/controls",
            "_model_module_version": "1.5.0",
            "_model_name": "HTMLModel",
            "_view_count": null,
            "_view_module": "@jupyter-widgets/controls",
            "_view_module_version": "1.5.0",
            "_view_name": "HTMLView",
            "description": "",
            "description_tooltip": null,
            "layout": "IPY_MODEL_f4390b524e5f4b2f8697b26cd44f67a2",
            "placeholder": "​",
            "style": "IPY_MODEL_321cf8a8d07949a38953cc95f4dcbd8b",
            "value": "Validation DataLoader 0: 100%"
          }
        },
        "05988a22cb1640b3952429aa6b9cf5b7": {
          "model_module": "@jupyter-widgets/base",
          "model_module_version": "1.2.0",
          "model_name": "LayoutModel",
          "state": {
            "_model_module": "@jupyter-widgets/base",
            "_model_module_version": "1.2.0",
            "_model_name": "LayoutModel",
            "_view_count": null,
            "_view_module": "@jupyter-widgets/base",
            "_view_module_version": "1.2.0",
            "_view_name": "LayoutView",
            "align_content": null,
            "align_items": null,
            "align_self": null,
            "border": null,
            "bottom": null,
            "display": null,
            "flex": null,
            "flex_flow": null,
            "grid_area": null,
            "grid_auto_columns": null,
            "grid_auto_flow": null,
            "grid_auto_rows": null,
            "grid_column": null,
            "grid_gap": null,
            "grid_row": null,
            "grid_template_areas": null,
            "grid_template_columns": null,
            "grid_template_rows": null,
            "height": null,
            "justify_content": null,
            "justify_items": null,
            "left": null,
            "margin": null,
            "max_height": null,
            "max_width": null,
            "min_height": null,
            "min_width": null,
            "object_fit": null,
            "object_position": null,
            "order": null,
            "overflow": null,
            "overflow_x": null,
            "overflow_y": null,
            "padding": null,
            "right": null,
            "top": null,
            "visibility": null,
            "width": null
          }
        },
        "0677595cdb4e4ac79b1a293d352567a9": {
          "model_module": "@jupyter-widgets/controls",
          "model_module_version": "1.5.0",
          "model_name": "HBoxModel",
          "state": {
            "_dom_classes": [],
            "_model_module": "@jupyter-widgets/controls",
            "_model_module_version": "1.5.0",
            "_model_name": "HBoxModel",
            "_view_count": null,
            "_view_module": "@jupyter-widgets/controls",
            "_view_module_version": "1.5.0",
            "_view_name": "HBoxView",
            "box_style": "",
            "children": [
              "IPY_MODEL_7a9939dd658e4499842f400278dad68c",
              "IPY_MODEL_9ce4223726d04b6794a41d27b730e901",
              "IPY_MODEL_d45c99372cc54d208db3fef7aa69134c"
            ],
            "layout": "IPY_MODEL_153b2ed24c4847f6af740ae6e18efb4d"
          }
        },
        "0ffa35cf448a45bf806b61ec23a05121": {
          "model_module": "@jupyter-widgets/controls",
          "model_module_version": "1.5.0",
          "model_name": "HTMLModel",
          "state": {
            "_dom_classes": [],
            "_model_module": "@jupyter-widgets/controls",
            "_model_module_version": "1.5.0",
            "_model_name": "HTMLModel",
            "_view_count": null,
            "_view_module": "@jupyter-widgets/controls",
            "_view_module_version": "1.5.0",
            "_view_name": "HTMLView",
            "description": "",
            "description_tooltip": null,
            "layout": "IPY_MODEL_38419c3d25da483a88337b6bef34ab88",
            "placeholder": "​",
            "style": "IPY_MODEL_864c3ed83c0b4332a82e33a6c46751ef",
            "value": " 6/6 [00:00&lt;00:00, 15.37it/s]"
          }
        },
        "12a2e9e7c20c459d8c6be509e6f75926": {
          "model_module": "@jupyter-widgets/base",
          "model_module_version": "1.2.0",
          "model_name": "LayoutModel",
          "state": {
            "_model_module": "@jupyter-widgets/base",
            "_model_module_version": "1.2.0",
            "_model_name": "LayoutModel",
            "_view_count": null,
            "_view_module": "@jupyter-widgets/base",
            "_view_module_version": "1.2.0",
            "_view_name": "LayoutView",
            "align_content": null,
            "align_items": null,
            "align_self": null,
            "border": null,
            "bottom": null,
            "display": "inline-flex",
            "flex": null,
            "flex_flow": "row wrap",
            "grid_area": null,
            "grid_auto_columns": null,
            "grid_auto_flow": null,
            "grid_auto_rows": null,
            "grid_column": null,
            "grid_gap": null,
            "grid_row": null,
            "grid_template_areas": null,
            "grid_template_columns": null,
            "grid_template_rows": null,
            "height": null,
            "justify_content": null,
            "justify_items": null,
            "left": null,
            "margin": null,
            "max_height": null,
            "max_width": null,
            "min_height": null,
            "min_width": null,
            "object_fit": null,
            "object_position": null,
            "order": null,
            "overflow": null,
            "overflow_x": null,
            "overflow_y": null,
            "padding": null,
            "right": null,
            "top": null,
            "visibility": "hidden",
            "width": "100%"
          }
        },
        "153b2ed24c4847f6af740ae6e18efb4d": {
          "model_module": "@jupyter-widgets/base",
          "model_module_version": "1.2.0",
          "model_name": "LayoutModel",
          "state": {
            "_model_module": "@jupyter-widgets/base",
            "_model_module_version": "1.2.0",
            "_model_name": "LayoutModel",
            "_view_count": null,
            "_view_module": "@jupyter-widgets/base",
            "_view_module_version": "1.2.0",
            "_view_name": "LayoutView",
            "align_content": null,
            "align_items": null,
            "align_self": null,
            "border": null,
            "bottom": null,
            "display": "inline-flex",
            "flex": null,
            "flex_flow": "row wrap",
            "grid_area": null,
            "grid_auto_columns": null,
            "grid_auto_flow": null,
            "grid_auto_rows": null,
            "grid_column": null,
            "grid_gap": null,
            "grid_row": null,
            "grid_template_areas": null,
            "grid_template_columns": null,
            "grid_template_rows": null,
            "height": null,
            "justify_content": null,
            "justify_items": null,
            "left": null,
            "margin": null,
            "max_height": null,
            "max_width": null,
            "min_height": null,
            "min_width": null,
            "object_fit": null,
            "object_position": null,
            "order": null,
            "overflow": null,
            "overflow_x": null,
            "overflow_y": null,
            "padding": null,
            "right": null,
            "top": null,
            "visibility": null,
            "width": "100%"
          }
        },
        "15bb22f09b41419393fd48845c9ce75e": {
          "model_module": "@jupyter-widgets/controls",
          "model_module_version": "1.5.0",
          "model_name": "DescriptionStyleModel",
          "state": {
            "_model_module": "@jupyter-widgets/controls",
            "_model_module_version": "1.5.0",
            "_model_name": "DescriptionStyleModel",
            "_view_count": null,
            "_view_module": "@jupyter-widgets/base",
            "_view_module_version": "1.2.0",
            "_view_name": "StyleView",
            "description_width": ""
          }
        },
        "1a5ceb31bfc045e3876f62e12dcd27ef": {
          "model_module": "@jupyter-widgets/base",
          "model_module_version": "1.2.0",
          "model_name": "LayoutModel",
          "state": {
            "_model_module": "@jupyter-widgets/base",
            "_model_module_version": "1.2.0",
            "_model_name": "LayoutModel",
            "_view_count": null,
            "_view_module": "@jupyter-widgets/base",
            "_view_module_version": "1.2.0",
            "_view_name": "LayoutView",
            "align_content": null,
            "align_items": null,
            "align_self": null,
            "border": null,
            "bottom": null,
            "display": null,
            "flex": null,
            "flex_flow": null,
            "grid_area": null,
            "grid_auto_columns": null,
            "grid_auto_flow": null,
            "grid_auto_rows": null,
            "grid_column": null,
            "grid_gap": null,
            "grid_row": null,
            "grid_template_areas": null,
            "grid_template_columns": null,
            "grid_template_rows": null,
            "height": null,
            "justify_content": null,
            "justify_items": null,
            "left": null,
            "margin": null,
            "max_height": null,
            "max_width": null,
            "min_height": null,
            "min_width": null,
            "object_fit": null,
            "object_position": null,
            "order": null,
            "overflow": null,
            "overflow_x": null,
            "overflow_y": null,
            "padding": null,
            "right": null,
            "top": null,
            "visibility": null,
            "width": null
          }
        },
        "1b0227744a964f79834d5d267414ed08": {
          "model_module": "@jupyter-widgets/controls",
          "model_module_version": "1.5.0",
          "model_name": "DescriptionStyleModel",
          "state": {
            "_model_module": "@jupyter-widgets/controls",
            "_model_module_version": "1.5.0",
            "_model_name": "DescriptionStyleModel",
            "_view_count": null,
            "_view_module": "@jupyter-widgets/base",
            "_view_module_version": "1.2.0",
            "_view_name": "StyleView",
            "description_width": ""
          }
        },
        "1dca35f306144bc5b014123c25d8cd17": {
          "model_module": "@jupyter-widgets/controls",
          "model_module_version": "1.5.0",
          "model_name": "FloatProgressModel",
          "state": {
            "_dom_classes": [],
            "_model_module": "@jupyter-widgets/controls",
            "_model_module_version": "1.5.0",
            "_model_name": "FloatProgressModel",
            "_view_count": null,
            "_view_module": "@jupyter-widgets/controls",
            "_view_module_version": "1.5.0",
            "_view_name": "ProgressView",
            "bar_style": "",
            "description": "",
            "description_tooltip": null,
            "layout": "IPY_MODEL_c9a3b5763b264c22951252bce67252cd",
            "max": 6,
            "min": 0,
            "orientation": "horizontal",
            "style": "IPY_MODEL_cebae67c3da34f62990459668c3ae321",
            "value": 6
          }
        },
        "20ed439774944b5880622e4f4024670f": {
          "model_module": "@jupyter-widgets/controls",
          "model_module_version": "1.5.0",
          "model_name": "DescriptionStyleModel",
          "state": {
            "_model_module": "@jupyter-widgets/controls",
            "_model_module_version": "1.5.0",
            "_model_name": "DescriptionStyleModel",
            "_view_count": null,
            "_view_module": "@jupyter-widgets/base",
            "_view_module_version": "1.2.0",
            "_view_name": "StyleView",
            "description_width": ""
          }
        },
        "212d536d6e114cf580cc7fe6788b3ca9": {
          "model_module": "@jupyter-widgets/controls",
          "model_module_version": "1.5.0",
          "model_name": "DescriptionStyleModel",
          "state": {
            "_model_module": "@jupyter-widgets/controls",
            "_model_module_version": "1.5.0",
            "_model_name": "DescriptionStyleModel",
            "_view_count": null,
            "_view_module": "@jupyter-widgets/base",
            "_view_module_version": "1.2.0",
            "_view_name": "StyleView",
            "description_width": ""
          }
        },
        "216448241ed04ee6b9e3faae8752379d": {
          "model_module": "@jupyter-widgets/controls",
          "model_module_version": "1.5.0",
          "model_name": "ProgressStyleModel",
          "state": {
            "_model_module": "@jupyter-widgets/controls",
            "_model_module_version": "1.5.0",
            "_model_name": "ProgressStyleModel",
            "_view_count": null,
            "_view_module": "@jupyter-widgets/base",
            "_view_module_version": "1.2.0",
            "_view_name": "StyleView",
            "bar_color": null,
            "description_width": ""
          }
        },
        "252ef258a00e4c6dba35ac19bfc3f7b1": {
          "model_module": "@jupyter-widgets/controls",
          "model_module_version": "1.5.0",
          "model_name": "DescriptionStyleModel",
          "state": {
            "_model_module": "@jupyter-widgets/controls",
            "_model_module_version": "1.5.0",
            "_model_name": "DescriptionStyleModel",
            "_view_count": null,
            "_view_module": "@jupyter-widgets/base",
            "_view_module_version": "1.2.0",
            "_view_name": "StyleView",
            "description_width": ""
          }
        },
        "2938faf22ece41e9a8db7bb9f7771787": {
          "model_module": "@jupyter-widgets/controls",
          "model_module_version": "1.5.0",
          "model_name": "ProgressStyleModel",
          "state": {
            "_model_module": "@jupyter-widgets/controls",
            "_model_module_version": "1.5.0",
            "_model_name": "ProgressStyleModel",
            "_view_count": null,
            "_view_module": "@jupyter-widgets/base",
            "_view_module_version": "1.2.0",
            "_view_name": "StyleView",
            "bar_color": null,
            "description_width": ""
          }
        },
        "2ac8484740a446159b98208add211630": {
          "model_module": "@jupyter-widgets/base",
          "model_module_version": "1.2.0",
          "model_name": "LayoutModel",
          "state": {
            "_model_module": "@jupyter-widgets/base",
            "_model_module_version": "1.2.0",
            "_model_name": "LayoutModel",
            "_view_count": null,
            "_view_module": "@jupyter-widgets/base",
            "_view_module_version": "1.2.0",
            "_view_name": "LayoutView",
            "align_content": null,
            "align_items": null,
            "align_self": null,
            "border": null,
            "bottom": null,
            "display": "inline-flex",
            "flex": null,
            "flex_flow": "row wrap",
            "grid_area": null,
            "grid_auto_columns": null,
            "grid_auto_flow": null,
            "grid_auto_rows": null,
            "grid_column": null,
            "grid_gap": null,
            "grid_row": null,
            "grid_template_areas": null,
            "grid_template_columns": null,
            "grid_template_rows": null,
            "height": null,
            "justify_content": null,
            "justify_items": null,
            "left": null,
            "margin": null,
            "max_height": null,
            "max_width": null,
            "min_height": null,
            "min_width": null,
            "object_fit": null,
            "object_position": null,
            "order": null,
            "overflow": null,
            "overflow_x": null,
            "overflow_y": null,
            "padding": null,
            "right": null,
            "top": null,
            "visibility": "hidden",
            "width": "100%"
          }
        },
        "2ea4960e4779454baaf2d4d3df417179": {
          "model_module": "@jupyter-widgets/base",
          "model_module_version": "1.2.0",
          "model_name": "LayoutModel",
          "state": {
            "_model_module": "@jupyter-widgets/base",
            "_model_module_version": "1.2.0",
            "_model_name": "LayoutModel",
            "_view_count": null,
            "_view_module": "@jupyter-widgets/base",
            "_view_module_version": "1.2.0",
            "_view_name": "LayoutView",
            "align_content": null,
            "align_items": null,
            "align_self": null,
            "border": null,
            "bottom": null,
            "display": null,
            "flex": null,
            "flex_flow": null,
            "grid_area": null,
            "grid_auto_columns": null,
            "grid_auto_flow": null,
            "grid_auto_rows": null,
            "grid_column": null,
            "grid_gap": null,
            "grid_row": null,
            "grid_template_areas": null,
            "grid_template_columns": null,
            "grid_template_rows": null,
            "height": null,
            "justify_content": null,
            "justify_items": null,
            "left": null,
            "margin": null,
            "max_height": null,
            "max_width": null,
            "min_height": null,
            "min_width": null,
            "object_fit": null,
            "object_position": null,
            "order": null,
            "overflow": null,
            "overflow_x": null,
            "overflow_y": null,
            "padding": null,
            "right": null,
            "top": null,
            "visibility": null,
            "width": null
          }
        },
        "30ae0d5c59e5422e8f15b50c2b138caf": {
          "model_module": "@jupyter-widgets/base",
          "model_module_version": "1.2.0",
          "model_name": "LayoutModel",
          "state": {
            "_model_module": "@jupyter-widgets/base",
            "_model_module_version": "1.2.0",
            "_model_name": "LayoutModel",
            "_view_count": null,
            "_view_module": "@jupyter-widgets/base",
            "_view_module_version": "1.2.0",
            "_view_name": "LayoutView",
            "align_content": null,
            "align_items": null,
            "align_self": null,
            "border": null,
            "bottom": null,
            "display": null,
            "flex": null,
            "flex_flow": null,
            "grid_area": null,
            "grid_auto_columns": null,
            "grid_auto_flow": null,
            "grid_auto_rows": null,
            "grid_column": null,
            "grid_gap": null,
            "grid_row": null,
            "grid_template_areas": null,
            "grid_template_columns": null,
            "grid_template_rows": null,
            "height": null,
            "justify_content": null,
            "justify_items": null,
            "left": null,
            "margin": null,
            "max_height": null,
            "max_width": null,
            "min_height": null,
            "min_width": null,
            "object_fit": null,
            "object_position": null,
            "order": null,
            "overflow": null,
            "overflow_x": null,
            "overflow_y": null,
            "padding": null,
            "right": null,
            "top": null,
            "visibility": null,
            "width": null
          }
        },
        "3185b94fa0a7484283a3ee2fb049c5aa": {
          "model_module": "@jupyter-widgets/base",
          "model_module_version": "1.2.0",
          "model_name": "LayoutModel",
          "state": {
            "_model_module": "@jupyter-widgets/base",
            "_model_module_version": "1.2.0",
            "_model_name": "LayoutModel",
            "_view_count": null,
            "_view_module": "@jupyter-widgets/base",
            "_view_module_version": "1.2.0",
            "_view_name": "LayoutView",
            "align_content": null,
            "align_items": null,
            "align_self": null,
            "border": null,
            "bottom": null,
            "display": null,
            "flex": "2",
            "flex_flow": null,
            "grid_area": null,
            "grid_auto_columns": null,
            "grid_auto_flow": null,
            "grid_auto_rows": null,
            "grid_column": null,
            "grid_gap": null,
            "grid_row": null,
            "grid_template_areas": null,
            "grid_template_columns": null,
            "grid_template_rows": null,
            "height": null,
            "justify_content": null,
            "justify_items": null,
            "left": null,
            "margin": null,
            "max_height": null,
            "max_width": null,
            "min_height": null,
            "min_width": null,
            "object_fit": null,
            "object_position": null,
            "order": null,
            "overflow": null,
            "overflow_x": null,
            "overflow_y": null,
            "padding": null,
            "right": null,
            "top": null,
            "visibility": null,
            "width": null
          }
        },
        "321cf8a8d07949a38953cc95f4dcbd8b": {
          "model_module": "@jupyter-widgets/controls",
          "model_module_version": "1.5.0",
          "model_name": "DescriptionStyleModel",
          "state": {
            "_model_module": "@jupyter-widgets/controls",
            "_model_module_version": "1.5.0",
            "_model_name": "DescriptionStyleModel",
            "_view_count": null,
            "_view_module": "@jupyter-widgets/base",
            "_view_module_version": "1.2.0",
            "_view_name": "StyleView",
            "description_width": ""
          }
        },
        "3366b3fba2454d68b9da10ecd76e5a03": {
          "model_module": "@jupyter-widgets/base",
          "model_module_version": "1.2.0",
          "model_name": "LayoutModel",
          "state": {
            "_model_module": "@jupyter-widgets/base",
            "_model_module_version": "1.2.0",
            "_model_name": "LayoutModel",
            "_view_count": null,
            "_view_module": "@jupyter-widgets/base",
            "_view_module_version": "1.2.0",
            "_view_name": "LayoutView",
            "align_content": null,
            "align_items": null,
            "align_self": null,
            "border": null,
            "bottom": null,
            "display": "inline-flex",
            "flex": null,
            "flex_flow": "row wrap",
            "grid_area": null,
            "grid_auto_columns": null,
            "grid_auto_flow": null,
            "grid_auto_rows": null,
            "grid_column": null,
            "grid_gap": null,
            "grid_row": null,
            "grid_template_areas": null,
            "grid_template_columns": null,
            "grid_template_rows": null,
            "height": null,
            "justify_content": null,
            "justify_items": null,
            "left": null,
            "margin": null,
            "max_height": null,
            "max_width": null,
            "min_height": null,
            "min_width": null,
            "object_fit": null,
            "object_position": null,
            "order": null,
            "overflow": null,
            "overflow_x": null,
            "overflow_y": null,
            "padding": null,
            "right": null,
            "top": null,
            "visibility": "hidden",
            "width": "100%"
          }
        },
        "351514beda27466f84484f37955862a0": {
          "model_module": "@jupyter-widgets/controls",
          "model_module_version": "1.5.0",
          "model_name": "DescriptionStyleModel",
          "state": {
            "_model_module": "@jupyter-widgets/controls",
            "_model_module_version": "1.5.0",
            "_model_name": "DescriptionStyleModel",
            "_view_count": null,
            "_view_module": "@jupyter-widgets/base",
            "_view_module_version": "1.2.0",
            "_view_name": "StyleView",
            "description_width": ""
          }
        },
        "367d48cab5074d839ba34a6f1803a66c": {
          "model_module": "@jupyter-widgets/controls",
          "model_module_version": "1.5.0",
          "model_name": "HBoxModel",
          "state": {
            "_dom_classes": [],
            "_model_module": "@jupyter-widgets/controls",
            "_model_module_version": "1.5.0",
            "_model_name": "HBoxModel",
            "_view_count": null,
            "_view_module": "@jupyter-widgets/controls",
            "_view_module_version": "1.5.0",
            "_view_name": "HBoxView",
            "box_style": "",
            "children": [
              "IPY_MODEL_00a34a6c696547bf8110adb0fc30af24",
              "IPY_MODEL_841294d6505e4de598ed949acbc35a93",
              "IPY_MODEL_0ffa35cf448a45bf806b61ec23a05121"
            ],
            "layout": "IPY_MODEL_fb7300d0e5634b75957bd2df4fa44004"
          }
        },
        "38419c3d25da483a88337b6bef34ab88": {
          "model_module": "@jupyter-widgets/base",
          "model_module_version": "1.2.0",
          "model_name": "LayoutModel",
          "state": {
            "_model_module": "@jupyter-widgets/base",
            "_model_module_version": "1.2.0",
            "_model_name": "LayoutModel",
            "_view_count": null,
            "_view_module": "@jupyter-widgets/base",
            "_view_module_version": "1.2.0",
            "_view_name": "LayoutView",
            "align_content": null,
            "align_items": null,
            "align_self": null,
            "border": null,
            "bottom": null,
            "display": null,
            "flex": null,
            "flex_flow": null,
            "grid_area": null,
            "grid_auto_columns": null,
            "grid_auto_flow": null,
            "grid_auto_rows": null,
            "grid_column": null,
            "grid_gap": null,
            "grid_row": null,
            "grid_template_areas": null,
            "grid_template_columns": null,
            "grid_template_rows": null,
            "height": null,
            "justify_content": null,
            "justify_items": null,
            "left": null,
            "margin": null,
            "max_height": null,
            "max_width": null,
            "min_height": null,
            "min_width": null,
            "object_fit": null,
            "object_position": null,
            "order": null,
            "overflow": null,
            "overflow_x": null,
            "overflow_y": null,
            "padding": null,
            "right": null,
            "top": null,
            "visibility": null,
            "width": null
          }
        },
        "3869bb97483f40e68105d69f15e292fc": {
          "model_module": "@jupyter-widgets/controls",
          "model_module_version": "1.5.0",
          "model_name": "HTMLModel",
          "state": {
            "_dom_classes": [],
            "_model_module": "@jupyter-widgets/controls",
            "_model_module_version": "1.5.0",
            "_model_name": "HTMLModel",
            "_view_count": null,
            "_view_module": "@jupyter-widgets/controls",
            "_view_module_version": "1.5.0",
            "_view_name": "HTMLView",
            "description": "",
            "description_tooltip": null,
            "layout": "IPY_MODEL_6d62b87a583f425a867890f4bace7a8e",
            "placeholder": "​",
            "style": "IPY_MODEL_252ef258a00e4c6dba35ac19bfc3f7b1",
            "value": " 6/6 [00:00&lt;00:00, 14.67it/s]"
          }
        },
        "3876c888dd6145af9ad229f6d5772267": {
          "model_module": "@jupyter-widgets/controls",
          "model_module_version": "1.5.0",
          "model_name": "HBoxModel",
          "state": {
            "_dom_classes": [],
            "_model_module": "@jupyter-widgets/controls",
            "_model_module_version": "1.5.0",
            "_model_name": "HBoxModel",
            "_view_count": null,
            "_view_module": "@jupyter-widgets/controls",
            "_view_module_version": "1.5.0",
            "_view_name": "HBoxView",
            "box_style": "",
            "children": [
              "IPY_MODEL_85ab260a49254f7d87036f75b6447482",
              "IPY_MODEL_7621132427964ba285c77163bbe6f663",
              "IPY_MODEL_e49e76c683fe4e999b86ff66c8c1dcc5"
            ],
            "layout": "IPY_MODEL_b0fbb64ef0244723b5e5639c0037b593"
          }
        },
        "3ebaefbf813e46a78fc7e4db4065c562": {
          "model_module": "@jupyter-widgets/controls",
          "model_module_version": "1.5.0",
          "model_name": "HBoxModel",
          "state": {
            "_dom_classes": [],
            "_model_module": "@jupyter-widgets/controls",
            "_model_module_version": "1.5.0",
            "_model_name": "HBoxModel",
            "_view_count": null,
            "_view_module": "@jupyter-widgets/controls",
            "_view_module_version": "1.5.0",
            "_view_name": "HBoxView",
            "box_style": "",
            "children": [
              "IPY_MODEL_cdbce62b91594f1cbe1f7c741f955e7c",
              "IPY_MODEL_9b0299ef08494edd892de94868f2a490",
              "IPY_MODEL_5d23a2898dab440280d443129bebcb77"
            ],
            "layout": "IPY_MODEL_2ac8484740a446159b98208add211630"
          }
        },
        "3f7e544c55504f83bcc37201f1d47a5c": {
          "model_module": "@jupyter-widgets/base",
          "model_module_version": "1.2.0",
          "model_name": "LayoutModel",
          "state": {
            "_model_module": "@jupyter-widgets/base",
            "_model_module_version": "1.2.0",
            "_model_name": "LayoutModel",
            "_view_count": null,
            "_view_module": "@jupyter-widgets/base",
            "_view_module_version": "1.2.0",
            "_view_name": "LayoutView",
            "align_content": null,
            "align_items": null,
            "align_self": null,
            "border": null,
            "bottom": null,
            "display": null,
            "flex": null,
            "flex_flow": null,
            "grid_area": null,
            "grid_auto_columns": null,
            "grid_auto_flow": null,
            "grid_auto_rows": null,
            "grid_column": null,
            "grid_gap": null,
            "grid_row": null,
            "grid_template_areas": null,
            "grid_template_columns": null,
            "grid_template_rows": null,
            "height": null,
            "justify_content": null,
            "justify_items": null,
            "left": null,
            "margin": null,
            "max_height": null,
            "max_width": null,
            "min_height": null,
            "min_width": null,
            "object_fit": null,
            "object_position": null,
            "order": null,
            "overflow": null,
            "overflow_x": null,
            "overflow_y": null,
            "padding": null,
            "right": null,
            "top": null,
            "visibility": null,
            "width": null
          }
        },
        "4715f50aaf33407eb6d6438b14c11137": {
          "model_module": "@jupyter-widgets/base",
          "model_module_version": "1.2.0",
          "model_name": "LayoutModel",
          "state": {
            "_model_module": "@jupyter-widgets/base",
            "_model_module_version": "1.2.0",
            "_model_name": "LayoutModel",
            "_view_count": null,
            "_view_module": "@jupyter-widgets/base",
            "_view_module_version": "1.2.0",
            "_view_name": "LayoutView",
            "align_content": null,
            "align_items": null,
            "align_self": null,
            "border": null,
            "bottom": null,
            "display": null,
            "flex": null,
            "flex_flow": null,
            "grid_area": null,
            "grid_auto_columns": null,
            "grid_auto_flow": null,
            "grid_auto_rows": null,
            "grid_column": null,
            "grid_gap": null,
            "grid_row": null,
            "grid_template_areas": null,
            "grid_template_columns": null,
            "grid_template_rows": null,
            "height": null,
            "justify_content": null,
            "justify_items": null,
            "left": null,
            "margin": null,
            "max_height": null,
            "max_width": null,
            "min_height": null,
            "min_width": null,
            "object_fit": null,
            "object_position": null,
            "order": null,
            "overflow": null,
            "overflow_x": null,
            "overflow_y": null,
            "padding": null,
            "right": null,
            "top": null,
            "visibility": null,
            "width": null
          }
        },
        "47e7514f5a9d4ea19491de6b1471070b": {
          "model_module": "@jupyter-widgets/base",
          "model_module_version": "1.2.0",
          "model_name": "LayoutModel",
          "state": {
            "_model_module": "@jupyter-widgets/base",
            "_model_module_version": "1.2.0",
            "_model_name": "LayoutModel",
            "_view_count": null,
            "_view_module": "@jupyter-widgets/base",
            "_view_module_version": "1.2.0",
            "_view_name": "LayoutView",
            "align_content": null,
            "align_items": null,
            "align_self": null,
            "border": null,
            "bottom": null,
            "display": null,
            "flex": "2",
            "flex_flow": null,
            "grid_area": null,
            "grid_auto_columns": null,
            "grid_auto_flow": null,
            "grid_auto_rows": null,
            "grid_column": null,
            "grid_gap": null,
            "grid_row": null,
            "grid_template_areas": null,
            "grid_template_columns": null,
            "grid_template_rows": null,
            "height": null,
            "justify_content": null,
            "justify_items": null,
            "left": null,
            "margin": null,
            "max_height": null,
            "max_width": null,
            "min_height": null,
            "min_width": null,
            "object_fit": null,
            "object_position": null,
            "order": null,
            "overflow": null,
            "overflow_x": null,
            "overflow_y": null,
            "padding": null,
            "right": null,
            "top": null,
            "visibility": null,
            "width": null
          }
        },
        "48cbc40b31a243e6a08617c5103ef033": {
          "model_module": "@jupyter-widgets/controls",
          "model_module_version": "1.5.0",
          "model_name": "HTMLModel",
          "state": {
            "_dom_classes": [],
            "_model_module": "@jupyter-widgets/controls",
            "_model_module_version": "1.5.0",
            "_model_name": "HTMLModel",
            "_view_count": null,
            "_view_module": "@jupyter-widgets/controls",
            "_view_module_version": "1.5.0",
            "_view_name": "HTMLView",
            "description": "",
            "description_tooltip": null,
            "layout": "IPY_MODEL_3f7e544c55504f83bcc37201f1d47a5c",
            "placeholder": "​",
            "style": "IPY_MODEL_a483c0c05f3b4a589d66cf429fbed99b",
            "value": " 2/2 [00:00&lt;00:00,  8.42it/s]"
          }
        },
        "4cdcfe2ceac7440b93f455cb2c69bc1a": {
          "model_module": "@jupyter-widgets/base",
          "model_module_version": "1.2.0",
          "model_name": "LayoutModel",
          "state": {
            "_model_module": "@jupyter-widgets/base",
            "_model_module_version": "1.2.0",
            "_model_name": "LayoutModel",
            "_view_count": null,
            "_view_module": "@jupyter-widgets/base",
            "_view_module_version": "1.2.0",
            "_view_name": "LayoutView",
            "align_content": null,
            "align_items": null,
            "align_self": null,
            "border": null,
            "bottom": null,
            "display": "inline-flex",
            "flex": null,
            "flex_flow": "row wrap",
            "grid_area": null,
            "grid_auto_columns": null,
            "grid_auto_flow": null,
            "grid_auto_rows": null,
            "grid_column": null,
            "grid_gap": null,
            "grid_row": null,
            "grid_template_areas": null,
            "grid_template_columns": null,
            "grid_template_rows": null,
            "height": null,
            "justify_content": null,
            "justify_items": null,
            "left": null,
            "margin": null,
            "max_height": null,
            "max_width": null,
            "min_height": null,
            "min_width": null,
            "object_fit": null,
            "object_position": null,
            "order": null,
            "overflow": null,
            "overflow_x": null,
            "overflow_y": null,
            "padding": null,
            "right": null,
            "top": null,
            "visibility": "hidden",
            "width": "100%"
          }
        },
        "4d8f6e1631884dd493aadcd3b869dc6e": {
          "model_module": "@jupyter-widgets/controls",
          "model_module_version": "1.5.0",
          "model_name": "HBoxModel",
          "state": {
            "_dom_classes": [],
            "_model_module": "@jupyter-widgets/controls",
            "_model_module_version": "1.5.0",
            "_model_name": "HBoxModel",
            "_view_count": null,
            "_view_module": "@jupyter-widgets/controls",
            "_view_module_version": "1.5.0",
            "_view_name": "HBoxView",
            "box_style": "",
            "children": [
              "IPY_MODEL_c2518ec19797425088cbd4eaf3d58616",
              "IPY_MODEL_a5d6766bde214c739b390153e20f9fdf",
              "IPY_MODEL_48cbc40b31a243e6a08617c5103ef033"
            ],
            "layout": "IPY_MODEL_3366b3fba2454d68b9da10ecd76e5a03"
          }
        },
        "5d23a2898dab440280d443129bebcb77": {
          "model_module": "@jupyter-widgets/controls",
          "model_module_version": "1.5.0",
          "model_name": "HTMLModel",
          "state": {
            "_dom_classes": [],
            "_model_module": "@jupyter-widgets/controls",
            "_model_module_version": "1.5.0",
            "_model_name": "HTMLModel",
            "_view_count": null,
            "_view_module": "@jupyter-widgets/controls",
            "_view_module_version": "1.5.0",
            "_view_name": "HTMLView",
            "description": "",
            "description_tooltip": null,
            "layout": "IPY_MODEL_cbfe76bb175e402296f75703f04eefdb",
            "placeholder": "​",
            "style": "IPY_MODEL_91a7e268325a4c6c9f0d21adebcba1bc",
            "value": " 6/6 [00:00&lt;00:00, 16.82it/s]"
          }
        },
        "65d79eebff5c43e7b2e6c0bcf01fdae8": {
          "model_module": "@jupyter-widgets/base",
          "model_module_version": "1.2.0",
          "model_name": "LayoutModel",
          "state": {
            "_model_module": "@jupyter-widgets/base",
            "_model_module_version": "1.2.0",
            "_model_name": "LayoutModel",
            "_view_count": null,
            "_view_module": "@jupyter-widgets/base",
            "_view_module_version": "1.2.0",
            "_view_name": "LayoutView",
            "align_content": null,
            "align_items": null,
            "align_self": null,
            "border": null,
            "bottom": null,
            "display": null,
            "flex": "2",
            "flex_flow": null,
            "grid_area": null,
            "grid_auto_columns": null,
            "grid_auto_flow": null,
            "grid_auto_rows": null,
            "grid_column": null,
            "grid_gap": null,
            "grid_row": null,
            "grid_template_areas": null,
            "grid_template_columns": null,
            "grid_template_rows": null,
            "height": null,
            "justify_content": null,
            "justify_items": null,
            "left": null,
            "margin": null,
            "max_height": null,
            "max_width": null,
            "min_height": null,
            "min_width": null,
            "object_fit": null,
            "object_position": null,
            "order": null,
            "overflow": null,
            "overflow_x": null,
            "overflow_y": null,
            "padding": null,
            "right": null,
            "top": null,
            "visibility": null,
            "width": null
          }
        },
        "68025f6ce7a34845bfdfbe11a09b4537": {
          "model_module": "@jupyter-widgets/controls",
          "model_module_version": "1.5.0",
          "model_name": "HTMLModel",
          "state": {
            "_dom_classes": [],
            "_model_module": "@jupyter-widgets/controls",
            "_model_module_version": "1.5.0",
            "_model_name": "HTMLModel",
            "_view_count": null,
            "_view_module": "@jupyter-widgets/controls",
            "_view_module_version": "1.5.0",
            "_view_name": "HTMLView",
            "description": "",
            "description_tooltip": null,
            "layout": "IPY_MODEL_86bbc21136d2406cadd74399bf7f993a",
            "placeholder": "​",
            "style": "IPY_MODEL_212d536d6e114cf580cc7fe6788b3ca9",
            "value": " 6/6 [00:00&lt;00:00, 13.49it/s]"
          }
        },
        "6d62b87a583f425a867890f4bace7a8e": {
          "model_module": "@jupyter-widgets/base",
          "model_module_version": "1.2.0",
          "model_name": "LayoutModel",
          "state": {
            "_model_module": "@jupyter-widgets/base",
            "_model_module_version": "1.2.0",
            "_model_name": "LayoutModel",
            "_view_count": null,
            "_view_module": "@jupyter-widgets/base",
            "_view_module_version": "1.2.0",
            "_view_name": "LayoutView",
            "align_content": null,
            "align_items": null,
            "align_self": null,
            "border": null,
            "bottom": null,
            "display": null,
            "flex": null,
            "flex_flow": null,
            "grid_area": null,
            "grid_auto_columns": null,
            "grid_auto_flow": null,
            "grid_auto_rows": null,
            "grid_column": null,
            "grid_gap": null,
            "grid_row": null,
            "grid_template_areas": null,
            "grid_template_columns": null,
            "grid_template_rows": null,
            "height": null,
            "justify_content": null,
            "justify_items": null,
            "left": null,
            "margin": null,
            "max_height": null,
            "max_width": null,
            "min_height": null,
            "min_width": null,
            "object_fit": null,
            "object_position": null,
            "order": null,
            "overflow": null,
            "overflow_x": null,
            "overflow_y": null,
            "padding": null,
            "right": null,
            "top": null,
            "visibility": null,
            "width": null
          }
        },
        "7621132427964ba285c77163bbe6f663": {
          "model_module": "@jupyter-widgets/controls",
          "model_module_version": "1.5.0",
          "model_name": "FloatProgressModel",
          "state": {
            "_dom_classes": [],
            "_model_module": "@jupyter-widgets/controls",
            "_model_module_version": "1.5.0",
            "_model_name": "FloatProgressModel",
            "_view_count": null,
            "_view_module": "@jupyter-widgets/controls",
            "_view_module_version": "1.5.0",
            "_view_name": "ProgressView",
            "bar_style": "",
            "description": "",
            "description_tooltip": null,
            "layout": "IPY_MODEL_feae7a312c2a466cb664a1faab56518b",
            "max": 6,
            "min": 0,
            "orientation": "horizontal",
            "style": "IPY_MODEL_b286b1b494bb4b8882790f6dece6c233",
            "value": 6
          }
        },
        "7a3e4000551c4d4ab9986a27a656a188": {
          "model_module": "@jupyter-widgets/controls",
          "model_module_version": "1.5.0",
          "model_name": "DescriptionStyleModel",
          "state": {
            "_model_module": "@jupyter-widgets/controls",
            "_model_module_version": "1.5.0",
            "_model_name": "DescriptionStyleModel",
            "_view_count": null,
            "_view_module": "@jupyter-widgets/base",
            "_view_module_version": "1.2.0",
            "_view_name": "StyleView",
            "description_width": ""
          }
        },
        "7a587e4acc1d4a5e8d47daf2b90bd93f": {
          "model_module": "@jupyter-widgets/base",
          "model_module_version": "1.2.0",
          "model_name": "LayoutModel",
          "state": {
            "_model_module": "@jupyter-widgets/base",
            "_model_module_version": "1.2.0",
            "_model_name": "LayoutModel",
            "_view_count": null,
            "_view_module": "@jupyter-widgets/base",
            "_view_module_version": "1.2.0",
            "_view_name": "LayoutView",
            "align_content": null,
            "align_items": null,
            "align_self": null,
            "border": null,
            "bottom": null,
            "display": null,
            "flex": null,
            "flex_flow": null,
            "grid_area": null,
            "grid_auto_columns": null,
            "grid_auto_flow": null,
            "grid_auto_rows": null,
            "grid_column": null,
            "grid_gap": null,
            "grid_row": null,
            "grid_template_areas": null,
            "grid_template_columns": null,
            "grid_template_rows": null,
            "height": null,
            "justify_content": null,
            "justify_items": null,
            "left": null,
            "margin": null,
            "max_height": null,
            "max_width": null,
            "min_height": null,
            "min_width": null,
            "object_fit": null,
            "object_position": null,
            "order": null,
            "overflow": null,
            "overflow_x": null,
            "overflow_y": null,
            "padding": null,
            "right": null,
            "top": null,
            "visibility": null,
            "width": null
          }
        },
        "7a9939dd658e4499842f400278dad68c": {
          "model_module": "@jupyter-widgets/controls",
          "model_module_version": "1.5.0",
          "model_name": "HTMLModel",
          "state": {
            "_dom_classes": [],
            "_model_module": "@jupyter-widgets/controls",
            "_model_module_version": "1.5.0",
            "_model_name": "HTMLModel",
            "_view_count": null,
            "_view_module": "@jupyter-widgets/controls",
            "_view_module_version": "1.5.0",
            "_view_name": "HTMLView",
            "description": "",
            "description_tooltip": null,
            "layout": "IPY_MODEL_4715f50aaf33407eb6d6438b14c11137",
            "placeholder": "​",
            "style": "IPY_MODEL_7a3e4000551c4d4ab9986a27a656a188",
            "value": "Epoch 5:   0%"
          }
        },
        "81e421949501484aa77aa0e4226c996e": {
          "model_module": "@jupyter-widgets/controls",
          "model_module_version": "1.5.0",
          "model_name": "FloatProgressModel",
          "state": {
            "_dom_classes": [],
            "_model_module": "@jupyter-widgets/controls",
            "_model_module_version": "1.5.0",
            "_model_name": "FloatProgressModel",
            "_view_count": null,
            "_view_module": "@jupyter-widgets/controls",
            "_view_module_version": "1.5.0",
            "_view_name": "ProgressView",
            "bar_style": "",
            "description": "",
            "description_tooltip": null,
            "layout": "IPY_MODEL_3185b94fa0a7484283a3ee2fb049c5aa",
            "max": 6,
            "min": 0,
            "orientation": "horizontal",
            "style": "IPY_MODEL_ba554fe701db4b62b34a914b6375387e",
            "value": 6
          }
        },
        "841294d6505e4de598ed949acbc35a93": {
          "model_module": "@jupyter-widgets/controls",
          "model_module_version": "1.5.0",
          "model_name": "FloatProgressModel",
          "state": {
            "_dom_classes": [],
            "_model_module": "@jupyter-widgets/controls",
            "_model_module_version": "1.5.0",
            "_model_name": "FloatProgressModel",
            "_view_count": null,
            "_view_module": "@jupyter-widgets/controls",
            "_view_module_version": "1.5.0",
            "_view_name": "ProgressView",
            "bar_style": "",
            "description": "",
            "description_tooltip": null,
            "layout": "IPY_MODEL_47e7514f5a9d4ea19491de6b1471070b",
            "max": 6,
            "min": 0,
            "orientation": "horizontal",
            "style": "IPY_MODEL_cba9c185689c42c6a620c9d4c4be5662",
            "value": 6
          }
        },
        "85ab260a49254f7d87036f75b6447482": {
          "model_module": "@jupyter-widgets/controls",
          "model_module_version": "1.5.0",
          "model_name": "HTMLModel",
          "state": {
            "_dom_classes": [],
            "_model_module": "@jupyter-widgets/controls",
            "_model_module_version": "1.5.0",
            "_model_name": "HTMLModel",
            "_view_count": null,
            "_view_module": "@jupyter-widgets/controls",
            "_view_module_version": "1.5.0",
            "_view_name": "HTMLView",
            "description": "",
            "description_tooltip": null,
            "layout": "IPY_MODEL_05988a22cb1640b3952429aa6b9cf5b7",
            "placeholder": "​",
            "style": "IPY_MODEL_c33ac4d6bfd1448ba8c58bc5ce1d628d",
            "value": "Validation DataLoader 0: 100%"
          }
        },
        "8606b9cc867540d58bd5108a2202e9e3": {
          "model_module": "@jupyter-widgets/base",
          "model_module_version": "1.2.0",
          "model_name": "LayoutModel",
          "state": {
            "_model_module": "@jupyter-widgets/base",
            "_model_module_version": "1.2.0",
            "_model_name": "LayoutModel",
            "_view_count": null,
            "_view_module": "@jupyter-widgets/base",
            "_view_module_version": "1.2.0",
            "_view_name": "LayoutView",
            "align_content": null,
            "align_items": null,
            "align_self": null,
            "border": null,
            "bottom": null,
            "display": null,
            "flex": "2",
            "flex_flow": null,
            "grid_area": null,
            "grid_auto_columns": null,
            "grid_auto_flow": null,
            "grid_auto_rows": null,
            "grid_column": null,
            "grid_gap": null,
            "grid_row": null,
            "grid_template_areas": null,
            "grid_template_columns": null,
            "grid_template_rows": null,
            "height": null,
            "justify_content": null,
            "justify_items": null,
            "left": null,
            "margin": null,
            "max_height": null,
            "max_width": null,
            "min_height": null,
            "min_width": null,
            "object_fit": null,
            "object_position": null,
            "order": null,
            "overflow": null,
            "overflow_x": null,
            "overflow_y": null,
            "padding": null,
            "right": null,
            "top": null,
            "visibility": null,
            "width": null
          }
        },
        "864c3ed83c0b4332a82e33a6c46751ef": {
          "model_module": "@jupyter-widgets/controls",
          "model_module_version": "1.5.0",
          "model_name": "DescriptionStyleModel",
          "state": {
            "_model_module": "@jupyter-widgets/controls",
            "_model_module_version": "1.5.0",
            "_model_name": "DescriptionStyleModel",
            "_view_count": null,
            "_view_module": "@jupyter-widgets/base",
            "_view_module_version": "1.2.0",
            "_view_name": "StyleView",
            "description_width": ""
          }
        },
        "86bbc21136d2406cadd74399bf7f993a": {
          "model_module": "@jupyter-widgets/base",
          "model_module_version": "1.2.0",
          "model_name": "LayoutModel",
          "state": {
            "_model_module": "@jupyter-widgets/base",
            "_model_module_version": "1.2.0",
            "_model_name": "LayoutModel",
            "_view_count": null,
            "_view_module": "@jupyter-widgets/base",
            "_view_module_version": "1.2.0",
            "_view_name": "LayoutView",
            "align_content": null,
            "align_items": null,
            "align_self": null,
            "border": null,
            "bottom": null,
            "display": null,
            "flex": null,
            "flex_flow": null,
            "grid_area": null,
            "grid_auto_columns": null,
            "grid_auto_flow": null,
            "grid_auto_rows": null,
            "grid_column": null,
            "grid_gap": null,
            "grid_row": null,
            "grid_template_areas": null,
            "grid_template_columns": null,
            "grid_template_rows": null,
            "height": null,
            "justify_content": null,
            "justify_items": null,
            "left": null,
            "margin": null,
            "max_height": null,
            "max_width": null,
            "min_height": null,
            "min_width": null,
            "object_fit": null,
            "object_position": null,
            "order": null,
            "overflow": null,
            "overflow_x": null,
            "overflow_y": null,
            "padding": null,
            "right": null,
            "top": null,
            "visibility": null,
            "width": null
          }
        },
        "91a7e268325a4c6c9f0d21adebcba1bc": {
          "model_module": "@jupyter-widgets/controls",
          "model_module_version": "1.5.0",
          "model_name": "DescriptionStyleModel",
          "state": {
            "_model_module": "@jupyter-widgets/controls",
            "_model_module_version": "1.5.0",
            "_model_name": "DescriptionStyleModel",
            "_view_count": null,
            "_view_module": "@jupyter-widgets/base",
            "_view_module_version": "1.2.0",
            "_view_name": "StyleView",
            "description_width": ""
          }
        },
        "9b0299ef08494edd892de94868f2a490": {
          "model_module": "@jupyter-widgets/controls",
          "model_module_version": "1.5.0",
          "model_name": "FloatProgressModel",
          "state": {
            "_dom_classes": [],
            "_model_module": "@jupyter-widgets/controls",
            "_model_module_version": "1.5.0",
            "_model_name": "FloatProgressModel",
            "_view_count": null,
            "_view_module": "@jupyter-widgets/controls",
            "_view_module_version": "1.5.0",
            "_view_name": "ProgressView",
            "bar_style": "",
            "description": "",
            "description_tooltip": null,
            "layout": "IPY_MODEL_e6d33cc036ee459db5a87277e586561c",
            "max": 6,
            "min": 0,
            "orientation": "horizontal",
            "style": "IPY_MODEL_2938faf22ece41e9a8db7bb9f7771787",
            "value": 6
          }
        },
        "9ce4223726d04b6794a41d27b730e901": {
          "model_module": "@jupyter-widgets/controls",
          "model_module_version": "1.5.0",
          "model_name": "FloatProgressModel",
          "state": {
            "_dom_classes": [],
            "_model_module": "@jupyter-widgets/controls",
            "_model_module_version": "1.5.0",
            "_model_name": "FloatProgressModel",
            "_view_count": null,
            "_view_module": "@jupyter-widgets/controls",
            "_view_module_version": "1.5.0",
            "_view_name": "ProgressView",
            "bar_style": "",
            "description": "",
            "description_tooltip": null,
            "layout": "IPY_MODEL_65d79eebff5c43e7b2e6c0bcf01fdae8",
            "max": 5,
            "min": 0,
            "orientation": "horizontal",
            "style": "IPY_MODEL_216448241ed04ee6b9e3faae8752379d",
            "value": 0
          }
        },
        "a483c0c05f3b4a589d66cf429fbed99b": {
          "model_module": "@jupyter-widgets/controls",
          "model_module_version": "1.5.0",
          "model_name": "DescriptionStyleModel",
          "state": {
            "_model_module": "@jupyter-widgets/controls",
            "_model_module_version": "1.5.0",
            "_model_name": "DescriptionStyleModel",
            "_view_count": null,
            "_view_module": "@jupyter-widgets/base",
            "_view_module_version": "1.2.0",
            "_view_name": "StyleView",
            "description_width": ""
          }
        },
        "a5d6766bde214c739b390153e20f9fdf": {
          "model_module": "@jupyter-widgets/controls",
          "model_module_version": "1.5.0",
          "model_name": "FloatProgressModel",
          "state": {
            "_dom_classes": [],
            "_model_module": "@jupyter-widgets/controls",
            "_model_module_version": "1.5.0",
            "_model_name": "FloatProgressModel",
            "_view_count": null,
            "_view_module": "@jupyter-widgets/controls",
            "_view_module_version": "1.5.0",
            "_view_name": "ProgressView",
            "bar_style": "",
            "description": "",
            "description_tooltip": null,
            "layout": "IPY_MODEL_8606b9cc867540d58bd5108a2202e9e3",
            "max": 2,
            "min": 0,
            "orientation": "horizontal",
            "style": "IPY_MODEL_b0ab25d6547c4d91abeb6b25921faa31",
            "value": 2
          }
        },
        "af6b69663b0c4a3e8a78ed8770d89de5": {
          "model_module": "@jupyter-widgets/controls",
          "model_module_version": "1.5.0",
          "model_name": "HTMLModel",
          "state": {
            "_dom_classes": [],
            "_model_module": "@jupyter-widgets/controls",
            "_model_module_version": "1.5.0",
            "_model_name": "HTMLModel",
            "_view_count": null,
            "_view_module": "@jupyter-widgets/controls",
            "_view_module_version": "1.5.0",
            "_view_name": "HTMLView",
            "description": "",
            "description_tooltip": null,
            "layout": "IPY_MODEL_30ae0d5c59e5422e8f15b50c2b138caf",
            "placeholder": "​",
            "style": "IPY_MODEL_351514beda27466f84484f37955862a0",
            "value": "Validation DataLoader 0: 100%"
          }
        },
        "b0ab25d6547c4d91abeb6b25921faa31": {
          "model_module": "@jupyter-widgets/controls",
          "model_module_version": "1.5.0",
          "model_name": "ProgressStyleModel",
          "state": {
            "_model_module": "@jupyter-widgets/controls",
            "_model_module_version": "1.5.0",
            "_model_name": "ProgressStyleModel",
            "_view_count": null,
            "_view_module": "@jupyter-widgets/base",
            "_view_module_version": "1.2.0",
            "_view_name": "StyleView",
            "bar_color": null,
            "description_width": ""
          }
        },
        "b0fbb64ef0244723b5e5639c0037b593": {
          "model_module": "@jupyter-widgets/base",
          "model_module_version": "1.2.0",
          "model_name": "LayoutModel",
          "state": {
            "_model_module": "@jupyter-widgets/base",
            "_model_module_version": "1.2.0",
            "_model_name": "LayoutModel",
            "_view_count": null,
            "_view_module": "@jupyter-widgets/base",
            "_view_module_version": "1.2.0",
            "_view_name": "LayoutView",
            "align_content": null,
            "align_items": null,
            "align_self": null,
            "border": null,
            "bottom": null,
            "display": "inline-flex",
            "flex": null,
            "flex_flow": "row wrap",
            "grid_area": null,
            "grid_auto_columns": null,
            "grid_auto_flow": null,
            "grid_auto_rows": null,
            "grid_column": null,
            "grid_gap": null,
            "grid_row": null,
            "grid_template_areas": null,
            "grid_template_columns": null,
            "grid_template_rows": null,
            "height": null,
            "justify_content": null,
            "justify_items": null,
            "left": null,
            "margin": null,
            "max_height": null,
            "max_width": null,
            "min_height": null,
            "min_width": null,
            "object_fit": null,
            "object_position": null,
            "order": null,
            "overflow": null,
            "overflow_x": null,
            "overflow_y": null,
            "padding": null,
            "right": null,
            "top": null,
            "visibility": "hidden",
            "width": "100%"
          }
        },
        "b286b1b494bb4b8882790f6dece6c233": {
          "model_module": "@jupyter-widgets/controls",
          "model_module_version": "1.5.0",
          "model_name": "ProgressStyleModel",
          "state": {
            "_model_module": "@jupyter-widgets/controls",
            "_model_module_version": "1.5.0",
            "_model_name": "ProgressStyleModel",
            "_view_count": null,
            "_view_module": "@jupyter-widgets/base",
            "_view_module_version": "1.2.0",
            "_view_name": "StyleView",
            "bar_color": null,
            "description_width": ""
          }
        },
        "ba554fe701db4b62b34a914b6375387e": {
          "model_module": "@jupyter-widgets/controls",
          "model_module_version": "1.5.0",
          "model_name": "ProgressStyleModel",
          "state": {
            "_model_module": "@jupyter-widgets/controls",
            "_model_module_version": "1.5.0",
            "_model_name": "ProgressStyleModel",
            "_view_count": null,
            "_view_module": "@jupyter-widgets/base",
            "_view_module_version": "1.2.0",
            "_view_name": "StyleView",
            "bar_color": null,
            "description_width": ""
          }
        },
        "bcef218584e24b729a9d3a8ecaa8ee79": {
          "model_module": "@jupyter-widgets/base",
          "model_module_version": "1.2.0",
          "model_name": "LayoutModel",
          "state": {
            "_model_module": "@jupyter-widgets/base",
            "_model_module_version": "1.2.0",
            "_model_name": "LayoutModel",
            "_view_count": null,
            "_view_module": "@jupyter-widgets/base",
            "_view_module_version": "1.2.0",
            "_view_name": "LayoutView",
            "align_content": null,
            "align_items": null,
            "align_self": null,
            "border": null,
            "bottom": null,
            "display": null,
            "flex": null,
            "flex_flow": null,
            "grid_area": null,
            "grid_auto_columns": null,
            "grid_auto_flow": null,
            "grid_auto_rows": null,
            "grid_column": null,
            "grid_gap": null,
            "grid_row": null,
            "grid_template_areas": null,
            "grid_template_columns": null,
            "grid_template_rows": null,
            "height": null,
            "justify_content": null,
            "justify_items": null,
            "left": null,
            "margin": null,
            "max_height": null,
            "max_width": null,
            "min_height": null,
            "min_width": null,
            "object_fit": null,
            "object_position": null,
            "order": null,
            "overflow": null,
            "overflow_x": null,
            "overflow_y": null,
            "padding": null,
            "right": null,
            "top": null,
            "visibility": null,
            "width": null
          }
        },
        "c0f689aeacc741c8b3517c9448646d3e": {
          "model_module": "@jupyter-widgets/base",
          "model_module_version": "1.2.0",
          "model_name": "LayoutModel",
          "state": {
            "_model_module": "@jupyter-widgets/base",
            "_model_module_version": "1.2.0",
            "_model_name": "LayoutModel",
            "_view_count": null,
            "_view_module": "@jupyter-widgets/base",
            "_view_module_version": "1.2.0",
            "_view_name": "LayoutView",
            "align_content": null,
            "align_items": null,
            "align_self": null,
            "border": null,
            "bottom": null,
            "display": null,
            "flex": null,
            "flex_flow": null,
            "grid_area": null,
            "grid_auto_columns": null,
            "grid_auto_flow": null,
            "grid_auto_rows": null,
            "grid_column": null,
            "grid_gap": null,
            "grid_row": null,
            "grid_template_areas": null,
            "grid_template_columns": null,
            "grid_template_rows": null,
            "height": null,
            "justify_content": null,
            "justify_items": null,
            "left": null,
            "margin": null,
            "max_height": null,
            "max_width": null,
            "min_height": null,
            "min_width": null,
            "object_fit": null,
            "object_position": null,
            "order": null,
            "overflow": null,
            "overflow_x": null,
            "overflow_y": null,
            "padding": null,
            "right": null,
            "top": null,
            "visibility": null,
            "width": null
          }
        },
        "c2518ec19797425088cbd4eaf3d58616": {
          "model_module": "@jupyter-widgets/controls",
          "model_module_version": "1.5.0",
          "model_name": "HTMLModel",
          "state": {
            "_dom_classes": [],
            "_model_module": "@jupyter-widgets/controls",
            "_model_module_version": "1.5.0",
            "_model_name": "HTMLModel",
            "_view_count": null,
            "_view_module": "@jupyter-widgets/controls",
            "_view_module_version": "1.5.0",
            "_view_name": "HTMLView",
            "description": "",
            "description_tooltip": null,
            "layout": "IPY_MODEL_1a5ceb31bfc045e3876f62e12dcd27ef",
            "placeholder": "​",
            "style": "IPY_MODEL_fa71714364184c01a6466fe814ed2f38",
            "value": "Sanity Checking DataLoader 0: 100%"
          }
        },
        "c33ac4d6bfd1448ba8c58bc5ce1d628d": {
          "model_module": "@jupyter-widgets/controls",
          "model_module_version": "1.5.0",
          "model_name": "DescriptionStyleModel",
          "state": {
            "_model_module": "@jupyter-widgets/controls",
            "_model_module_version": "1.5.0",
            "_model_name": "DescriptionStyleModel",
            "_view_count": null,
            "_view_module": "@jupyter-widgets/base",
            "_view_module_version": "1.2.0",
            "_view_name": "StyleView",
            "description_width": ""
          }
        },
        "c9a3b5763b264c22951252bce67252cd": {
          "model_module": "@jupyter-widgets/base",
          "model_module_version": "1.2.0",
          "model_name": "LayoutModel",
          "state": {
            "_model_module": "@jupyter-widgets/base",
            "_model_module_version": "1.2.0",
            "_model_name": "LayoutModel",
            "_view_count": null,
            "_view_module": "@jupyter-widgets/base",
            "_view_module_version": "1.2.0",
            "_view_name": "LayoutView",
            "align_content": null,
            "align_items": null,
            "align_self": null,
            "border": null,
            "bottom": null,
            "display": null,
            "flex": "2",
            "flex_flow": null,
            "grid_area": null,
            "grid_auto_columns": null,
            "grid_auto_flow": null,
            "grid_auto_rows": null,
            "grid_column": null,
            "grid_gap": null,
            "grid_row": null,
            "grid_template_areas": null,
            "grid_template_columns": null,
            "grid_template_rows": null,
            "height": null,
            "justify_content": null,
            "justify_items": null,
            "left": null,
            "margin": null,
            "max_height": null,
            "max_width": null,
            "min_height": null,
            "min_width": null,
            "object_fit": null,
            "object_position": null,
            "order": null,
            "overflow": null,
            "overflow_x": null,
            "overflow_y": null,
            "padding": null,
            "right": null,
            "top": null,
            "visibility": null,
            "width": null
          }
        },
        "cba9c185689c42c6a620c9d4c4be5662": {
          "model_module": "@jupyter-widgets/controls",
          "model_module_version": "1.5.0",
          "model_name": "ProgressStyleModel",
          "state": {
            "_model_module": "@jupyter-widgets/controls",
            "_model_module_version": "1.5.0",
            "_model_name": "ProgressStyleModel",
            "_view_count": null,
            "_view_module": "@jupyter-widgets/base",
            "_view_module_version": "1.2.0",
            "_view_name": "StyleView",
            "bar_color": null,
            "description_width": ""
          }
        },
        "cbfe76bb175e402296f75703f04eefdb": {
          "model_module": "@jupyter-widgets/base",
          "model_module_version": "1.2.0",
          "model_name": "LayoutModel",
          "state": {
            "_model_module": "@jupyter-widgets/base",
            "_model_module_version": "1.2.0",
            "_model_name": "LayoutModel",
            "_view_count": null,
            "_view_module": "@jupyter-widgets/base",
            "_view_module_version": "1.2.0",
            "_view_name": "LayoutView",
            "align_content": null,
            "align_items": null,
            "align_self": null,
            "border": null,
            "bottom": null,
            "display": null,
            "flex": null,
            "flex_flow": null,
            "grid_area": null,
            "grid_auto_columns": null,
            "grid_auto_flow": null,
            "grid_auto_rows": null,
            "grid_column": null,
            "grid_gap": null,
            "grid_row": null,
            "grid_template_areas": null,
            "grid_template_columns": null,
            "grid_template_rows": null,
            "height": null,
            "justify_content": null,
            "justify_items": null,
            "left": null,
            "margin": null,
            "max_height": null,
            "max_width": null,
            "min_height": null,
            "min_width": null,
            "object_fit": null,
            "object_position": null,
            "order": null,
            "overflow": null,
            "overflow_x": null,
            "overflow_y": null,
            "padding": null,
            "right": null,
            "top": null,
            "visibility": null,
            "width": null
          }
        },
        "cdbce62b91594f1cbe1f7c741f955e7c": {
          "model_module": "@jupyter-widgets/controls",
          "model_module_version": "1.5.0",
          "model_name": "HTMLModel",
          "state": {
            "_dom_classes": [],
            "_model_module": "@jupyter-widgets/controls",
            "_model_module_version": "1.5.0",
            "_model_name": "HTMLModel",
            "_view_count": null,
            "_view_module": "@jupyter-widgets/controls",
            "_view_module_version": "1.5.0",
            "_view_name": "HTMLView",
            "description": "",
            "description_tooltip": null,
            "layout": "IPY_MODEL_c0f689aeacc741c8b3517c9448646d3e",
            "placeholder": "​",
            "style": "IPY_MODEL_1b0227744a964f79834d5d267414ed08",
            "value": "Validation DataLoader 0: 100%"
          }
        },
        "cebae67c3da34f62990459668c3ae321": {
          "model_module": "@jupyter-widgets/controls",
          "model_module_version": "1.5.0",
          "model_name": "ProgressStyleModel",
          "state": {
            "_model_module": "@jupyter-widgets/controls",
            "_model_module_version": "1.5.0",
            "_model_name": "ProgressStyleModel",
            "_view_count": null,
            "_view_module": "@jupyter-widgets/base",
            "_view_module_version": "1.2.0",
            "_view_name": "StyleView",
            "bar_color": null,
            "description_width": ""
          }
        },
        "d45c99372cc54d208db3fef7aa69134c": {
          "model_module": "@jupyter-widgets/controls",
          "model_module_version": "1.5.0",
          "model_name": "HTMLModel",
          "state": {
            "_dom_classes": [],
            "_model_module": "@jupyter-widgets/controls",
            "_model_module_version": "1.5.0",
            "_model_name": "HTMLModel",
            "_view_count": null,
            "_view_module": "@jupyter-widgets/controls",
            "_view_module_version": "1.5.0",
            "_view_name": "HTMLView",
            "description": "",
            "description_tooltip": null,
            "layout": "IPY_MODEL_bcef218584e24b729a9d3a8ecaa8ee79",
            "placeholder": "​",
            "style": "IPY_MODEL_e84428878e4644eb8dee9b0abd1b6ea2",
            "value": " 0/5 [00:00&lt;?, ?it/s, v_num=15, train_loss_step=13.60, val_loss=11.30, train_loss_epoch=11.20]"
          }
        },
        "db83de918b5642878fdb00b247c906b4": {
          "model_module": "@jupyter-widgets/controls",
          "model_module_version": "1.5.0",
          "model_name": "HTMLModel",
          "state": {
            "_dom_classes": [],
            "_model_module": "@jupyter-widgets/controls",
            "_model_module_version": "1.5.0",
            "_model_name": "HTMLModel",
            "_view_count": null,
            "_view_module": "@jupyter-widgets/controls",
            "_view_module_version": "1.5.0",
            "_view_name": "HTMLView",
            "description": "",
            "description_tooltip": null,
            "layout": "IPY_MODEL_7a587e4acc1d4a5e8d47daf2b90bd93f",
            "placeholder": "​",
            "style": "IPY_MODEL_15bb22f09b41419393fd48845c9ce75e",
            "value": "Validation DataLoader 0: 100%"
          }
        },
        "e49e76c683fe4e999b86ff66c8c1dcc5": {
          "model_module": "@jupyter-widgets/controls",
          "model_module_version": "1.5.0",
          "model_name": "HTMLModel",
          "state": {
            "_dom_classes": [],
            "_model_module": "@jupyter-widgets/controls",
            "_model_module_version": "1.5.0",
            "_model_name": "HTMLModel",
            "_view_count": null,
            "_view_module": "@jupyter-widgets/controls",
            "_view_module_version": "1.5.0",
            "_view_name": "HTMLView",
            "description": "",
            "description_tooltip": null,
            "layout": "IPY_MODEL_2ea4960e4779454baaf2d4d3df417179",
            "placeholder": "​",
            "style": "IPY_MODEL_20ed439774944b5880622e4f4024670f",
            "value": " 6/6 [00:00&lt;00:00, 15.58it/s]"
          }
        },
        "e6d33cc036ee459db5a87277e586561c": {
          "model_module": "@jupyter-widgets/base",
          "model_module_version": "1.2.0",
          "model_name": "LayoutModel",
          "state": {
            "_model_module": "@jupyter-widgets/base",
            "_model_module_version": "1.2.0",
            "_model_name": "LayoutModel",
            "_view_count": null,
            "_view_module": "@jupyter-widgets/base",
            "_view_module_version": "1.2.0",
            "_view_name": "LayoutView",
            "align_content": null,
            "align_items": null,
            "align_self": null,
            "border": null,
            "bottom": null,
            "display": null,
            "flex": "2",
            "flex_flow": null,
            "grid_area": null,
            "grid_auto_columns": null,
            "grid_auto_flow": null,
            "grid_auto_rows": null,
            "grid_column": null,
            "grid_gap": null,
            "grid_row": null,
            "grid_template_areas": null,
            "grid_template_columns": null,
            "grid_template_rows": null,
            "height": null,
            "justify_content": null,
            "justify_items": null,
            "left": null,
            "margin": null,
            "max_height": null,
            "max_width": null,
            "min_height": null,
            "min_width": null,
            "object_fit": null,
            "object_position": null,
            "order": null,
            "overflow": null,
            "overflow_x": null,
            "overflow_y": null,
            "padding": null,
            "right": null,
            "top": null,
            "visibility": null,
            "width": null
          }
        },
        "e84428878e4644eb8dee9b0abd1b6ea2": {
          "model_module": "@jupyter-widgets/controls",
          "model_module_version": "1.5.0",
          "model_name": "DescriptionStyleModel",
          "state": {
            "_model_module": "@jupyter-widgets/controls",
            "_model_module_version": "1.5.0",
            "_model_name": "DescriptionStyleModel",
            "_view_count": null,
            "_view_module": "@jupyter-widgets/base",
            "_view_module_version": "1.2.0",
            "_view_name": "StyleView",
            "description_width": ""
          }
        },
        "f4390b524e5f4b2f8697b26cd44f67a2": {
          "model_module": "@jupyter-widgets/base",
          "model_module_version": "1.2.0",
          "model_name": "LayoutModel",
          "state": {
            "_model_module": "@jupyter-widgets/base",
            "_model_module_version": "1.2.0",
            "_model_name": "LayoutModel",
            "_view_count": null,
            "_view_module": "@jupyter-widgets/base",
            "_view_module_version": "1.2.0",
            "_view_name": "LayoutView",
            "align_content": null,
            "align_items": null,
            "align_self": null,
            "border": null,
            "bottom": null,
            "display": null,
            "flex": null,
            "flex_flow": null,
            "grid_area": null,
            "grid_auto_columns": null,
            "grid_auto_flow": null,
            "grid_auto_rows": null,
            "grid_column": null,
            "grid_gap": null,
            "grid_row": null,
            "grid_template_areas": null,
            "grid_template_columns": null,
            "grid_template_rows": null,
            "height": null,
            "justify_content": null,
            "justify_items": null,
            "left": null,
            "margin": null,
            "max_height": null,
            "max_width": null,
            "min_height": null,
            "min_width": null,
            "object_fit": null,
            "object_position": null,
            "order": null,
            "overflow": null,
            "overflow_x": null,
            "overflow_y": null,
            "padding": null,
            "right": null,
            "top": null,
            "visibility": null,
            "width": null
          }
        },
        "fa34d6d6765749a4a15eaef140f3e9fa": {
          "model_module": "@jupyter-widgets/controls",
          "model_module_version": "1.5.0",
          "model_name": "HBoxModel",
          "state": {
            "_dom_classes": [],
            "_model_module": "@jupyter-widgets/controls",
            "_model_module_version": "1.5.0",
            "_model_name": "HBoxModel",
            "_view_count": null,
            "_view_module": "@jupyter-widgets/controls",
            "_view_module_version": "1.5.0",
            "_view_name": "HBoxView",
            "box_style": "",
            "children": [
              "IPY_MODEL_af6b69663b0c4a3e8a78ed8770d89de5",
              "IPY_MODEL_1dca35f306144bc5b014123c25d8cd17",
              "IPY_MODEL_68025f6ce7a34845bfdfbe11a09b4537"
            ],
            "layout": "IPY_MODEL_4cdcfe2ceac7440b93f455cb2c69bc1a"
          }
        },
        "fa71714364184c01a6466fe814ed2f38": {
          "model_module": "@jupyter-widgets/controls",
          "model_module_version": "1.5.0",
          "model_name": "DescriptionStyleModel",
          "state": {
            "_model_module": "@jupyter-widgets/controls",
            "_model_module_version": "1.5.0",
            "_model_name": "DescriptionStyleModel",
            "_view_count": null,
            "_view_module": "@jupyter-widgets/base",
            "_view_module_version": "1.2.0",
            "_view_name": "StyleView",
            "description_width": ""
          }
        },
        "fb7300d0e5634b75957bd2df4fa44004": {
          "model_module": "@jupyter-widgets/base",
          "model_module_version": "1.2.0",
          "model_name": "LayoutModel",
          "state": {
            "_model_module": "@jupyter-widgets/base",
            "_model_module_version": "1.2.0",
            "_model_name": "LayoutModel",
            "_view_count": null,
            "_view_module": "@jupyter-widgets/base",
            "_view_module_version": "1.2.0",
            "_view_name": "LayoutView",
            "align_content": null,
            "align_items": null,
            "align_self": null,
            "border": null,
            "bottom": null,
            "display": "inline-flex",
            "flex": null,
            "flex_flow": "row wrap",
            "grid_area": null,
            "grid_auto_columns": null,
            "grid_auto_flow": null,
            "grid_auto_rows": null,
            "grid_column": null,
            "grid_gap": null,
            "grid_row": null,
            "grid_template_areas": null,
            "grid_template_columns": null,
            "grid_template_rows": null,
            "height": null,
            "justify_content": null,
            "justify_items": null,
            "left": null,
            "margin": null,
            "max_height": null,
            "max_width": null,
            "min_height": null,
            "min_width": null,
            "object_fit": null,
            "object_position": null,
            "order": null,
            "overflow": null,
            "overflow_x": null,
            "overflow_y": null,
            "padding": null,
            "right": null,
            "top": null,
            "visibility": "hidden",
            "width": "100%"
          }
        },
        "fe50aad5b99f48c5b8beb1e4108a22a7": {
          "model_module": "@jupyter-widgets/controls",
          "model_module_version": "1.5.0",
          "model_name": "HBoxModel",
          "state": {
            "_dom_classes": [],
            "_model_module": "@jupyter-widgets/controls",
            "_model_module_version": "1.5.0",
            "_model_name": "HBoxModel",
            "_view_count": null,
            "_view_module": "@jupyter-widgets/controls",
            "_view_module_version": "1.5.0",
            "_view_name": "HBoxView",
            "box_style": "",
            "children": [
              "IPY_MODEL_db83de918b5642878fdb00b247c906b4",
              "IPY_MODEL_81e421949501484aa77aa0e4226c996e",
              "IPY_MODEL_3869bb97483f40e68105d69f15e292fc"
            ],
            "layout": "IPY_MODEL_12a2e9e7c20c459d8c6be509e6f75926"
          }
        },
        "feae7a312c2a466cb664a1faab56518b": {
          "model_module": "@jupyter-widgets/base",
          "model_module_version": "1.2.0",
          "model_name": "LayoutModel",
          "state": {
            "_model_module": "@jupyter-widgets/base",
            "_model_module_version": "1.2.0",
            "_model_name": "LayoutModel",
            "_view_count": null,
            "_view_module": "@jupyter-widgets/base",
            "_view_module_version": "1.2.0",
            "_view_name": "LayoutView",
            "align_content": null,
            "align_items": null,
            "align_self": null,
            "border": null,
            "bottom": null,
            "display": null,
            "flex": "2",
            "flex_flow": null,
            "grid_area": null,
            "grid_auto_columns": null,
            "grid_auto_flow": null,
            "grid_auto_rows": null,
            "grid_column": null,
            "grid_gap": null,
            "grid_row": null,
            "grid_template_areas": null,
            "grid_template_columns": null,
            "grid_template_rows": null,
            "height": null,
            "justify_content": null,
            "justify_items": null,
            "left": null,
            "margin": null,
            "max_height": null,
            "max_width": null,
            "min_height": null,
            "min_width": null,
            "object_fit": null,
            "object_position": null,
            "order": null,
            "overflow": null,
            "overflow_x": null,
            "overflow_y": null,
            "padding": null,
            "right": null,
            "top": null,
            "visibility": null,
            "width": null
          }
        }
      }
    }
  },
  "nbformat": 4,
  "nbformat_minor": 0
}
